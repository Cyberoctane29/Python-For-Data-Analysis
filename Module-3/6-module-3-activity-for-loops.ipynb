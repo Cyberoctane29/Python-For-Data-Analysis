{
 "cells": [
  {
   "cell_type": "markdown",
   "metadata": {},
   "source": [
    "<summary><h1>Activity: For loops</h1></summary>"
   ]
  },
  {
   "cell_type": "markdown",
   "metadata": {},
   "source": [
    "## Introduction \n",
    "\n",
    "As a data professional, you may need to use methods that involve repetition. For example, when analyzing customer feedback from surveys, you may need to compare averages across categories. In Python, using iterative statements helps automate this task and makes them more efficient.\n",
    "\n",
    "In this lab, you will practice writing iterative statements using `for` loops. "
   ]
  },
  {
   "cell_type": "markdown",
   "metadata": {},
   "source": [
    "## Task 1: Iterating with `if`, `elif`, and `else`\n",
    "\n",
    "In your work as an analyst, you have received customer feedback for a newly launched product. The feedback is a numerical grade on a scale of 1-10, with 10 being the best. Understanding the number of customers who responded negatively, neutrally, or positively will help determine how to improve the product.\n",
    "\n",
    "*  Define a function called `score_counter` that accepts the following argument:\n",
    "    * `score_list` - a list of customer-submitted scores, where each score is an integer, 1-10  \n",
    "    \n",
    "\n",
    "*  The function must iterate over the scores in `score_list` and bin them into three bins:  \n",
    "    * Negative (scores of 1-5)  \n",
    "    * Neutral (scores of 6-8)  \n",
    "    * Positive (scores of 9-10)\n",
    "    \n",
    "\n",
    "*  The output of the function must be three statements, each on its own line:\n",
    "\n",
    "    1. `'Negative: {number_of_negative_scores}'`\n",
    "    2. `'Neutral: {number_of_neutral_scores}'`\n",
    "    3. `'Positive: {number_of_positive_scores}'`\n",
    "\n",
    "*Example:*\n",
    "\n",
    "```\n",
    " [IN] score_counter([1, 2, 3, 4, 5, 6, 7, 8, 9, 10])\n",
    "[OUT] 'Negative: 5'\n",
    "      'Neutral: 3'\n",
    "      'Positive: 2'\n",
    "```\n",
    "**Note that there is more than one way to solve this problem.**"
   ]
  },
  {
   "cell_type": "code",
   "execution_count": 1,
   "metadata": {},
   "outputs": [],
   "source": [
    "def score_counter(score_list):\n",
    "    positive=0\n",
    "    neutral=0\n",
    "    negative=0\n",
    "    \n",
    "    for score in score_list:\n",
    "        if(score>=9):\n",
    "            positive+=1\n",
    "        elif(score>=6):\n",
    "            neutral+=1\n",
    "        else:\n",
    "            negative+=1\n",
    "        \n",
    "    print(f\"Negative: {negative}\")\n",
    "    print(f\"Neutral: {neutral}\")\n",
    "    print(f\"Positive: {positive}\")"
   ]
  },
  {
   "cell_type": "markdown",
   "metadata": {},
   "source": [
    "### Test your function\n",
    "Test your function against the following cases by running the cell below."
   ]
  },
  {
   "cell_type": "code",
   "execution_count": 2,
   "metadata": {},
   "outputs": [
    {
     "name": "stdout",
     "output_type": "stream",
     "text": [
      "Test 1:\n",
      "Negative: 5\n",
      "Neutral: 1\n",
      "Positive: 4\n",
      "\n",
      "Test 2:\n",
      "Negative: 85\n",
      "Neutral: 253\n",
      "Positive: 112\n",
      "\n",
      "Test 3:\n",
      "Negative: 1935\n",
      "Neutral: 2652\n",
      "Positive: 5413\n"
     ]
    }
   ],
   "source": [
    "# RUN THIS CELL TO TEST YOUR FUNCTION\n",
    "\n",
    "import random\n",
    "random.seed(42)\n",
    "\n",
    "possible_scores = list(range(1,11))\n",
    "score_list1 = random.choices(possible_scores, weights=[8,8,8,8,8,3,3,4,20,30], k=10)\n",
    "score_list2 = random.choices(possible_scores, weights=[1,2,3,4,5,10,15,15,7,9], k=450)\n",
    "score_list3 = random.choices(possible_scores, weights=[1,2,3,4,4,5,5,10,15,25], k=10000)\n",
    "\n",
    "print('Test 1:')            # SHOULD OUTPUT (neg, neut, pos):\n",
    "score_counter(score_list1)  # 5, 1, 4\n",
    "print('\\nTest 2:')\n",
    "score_counter(score_list2)  # 85, 253, 112\n",
    "print('\\nTest 3:')\n",
    "score_counter(score_list3)  # 1935, 2652, 5413"
   ]
  },
  {
   "cell_type": "markdown",
   "metadata": {},
   "source": [
    "## Task 2: Create a `for` loop using `if`, `not`, and `in`\n",
    "\n",
    "There is concern that some of the customer feedback scores are fake. One way to check the integrity of the feedback is to identify how many scores came from verified customers.\n",
    "\n",
    "In this task, you are provided with two lists: a list of verified customer IDs and a list of all IDs that left feedback scores. You must validate the data by cross-checking the lists against each other.\n",
    "\n",
    "<br/>\n",
    "\n",
    "* Define a function called `id_validator` that takes two lists as arguments:\n",
    "    *  `verified_ids` - a list containing IDs of verified customers\n",
    "    *  `feedback_ids` - a list containing unique IDs of all posters of feedback scores\n",
    "\n",
    "*  The output of the function must be two statements, each on its own line:\n",
    "    1. `'{number_of_unverified_ids} of {number_of_feedback_ids} IDs unverified.'`\n",
    "    2. `'{percent} unverified.'`\n",
    "\n",
    "*Example 1:*\n",
    "\n",
    "```\n",
    " [IN]  id_validator(verified_ids=['1', '2'], feedback_ids=['1', '2', '3'])\n",
    "[OUT]  '1 of 3 IDs unverified.'\n",
    "       '33.33% unverified.'\n",
    "```\n",
    "\n",
    "*Explanation:* \n",
    "\n",
    "One of the IDs (`'3'`) in `feedback_ids` is not in the list of `verified_ids`.  \n",
    "1/3 of the IDs in `feedback_ids` are unverified.  \n",
    "\n",
    "*Example 2:*\n",
    "```\n",
    "\n",
    " [IN]  id_validator(verified_ids=['1a', '2b', '3c'], feedback_ids=['1a', '4d'])\n",
    "[OUT]  '1 of 2 IDs unverified.'\n",
    "       '50.0% unverified.'\n",
    "```\n",
    "\n",
    "*Explanation:* \n",
    "\n",
    "One of the IDs (`'4d'`) in `feedback_ids` is not in the list of `verified_ids`.  \n",
    "1/2 of the IDs in `feedback_ids` are unverified.  \n",
    "\n",
    "**Note that there is more than one way to solve this problem.**"
   ]
  },
  {
   "cell_type": "code",
   "execution_count": 2,
   "metadata": {},
   "outputs": [],
   "source": [
    "# def id_validator(verified_ids, feedback_ids):\n",
    "#     number_of_feedback_ids = len(feedback_ids)\n",
    "#     number_of_unverified_ids = abs(len(feedback_ids) - len(verified_ids))\n",
    "#     percent = round((number_of_unverified_ids / number_of_feedback_ids) * 100,2)\n",
    "#     print(f\"{number_of_unverified_ids} of {number_of_feedback_ids} IDs unverified.\")\n",
    "#     print(f\"{percent}% unverified.\")\n",
    "    \n",
    "#or\n",
    "\n",
    "def id_validator(verified_ids, feedback_ids):\n",
    "    unverified_feedback = 0\n",
    "    for id in feedback_ids:\n",
    "        if(id not in verified_ids):\n",
    "            unverified_feedback += 1  # Count unverified IDs\n",
    "    percent = round((unverified_feedback / len(feedback_ids)) * 100, 2)  # Calculate percentage\n",
    "    print(f\"{unverified_feedback} of {len(feedback_ids)} IDs unverified.\")\n",
    "    print(f\"{percent}% unverified.\")"
   ]
  },
  {
   "cell_type": "markdown",
   "metadata": {},
   "source": [
    "### Test your function\n",
    "Test your function against the following cases by running the cell below."
   ]
  },
  {
   "cell_type": "code",
   "execution_count": 3,
   "metadata": {},
   "outputs": [
    {
     "name": "stdout",
     "output_type": "stream",
     "text": [
      "Test 1:\n",
      "1 of 15 IDs unverified.\n",
      "6.67% unverified.\n",
      "\n",
      "Test 2:\n",
      "300 of 1199 IDs unverified.\n",
      "25.02% unverified.\n",
      "\n",
      "Test 3:\n",
      "1208 of 16132 IDs unverified.\n",
      "7.49% unverified.\n"
     ]
    }
   ],
   "source": [
    "# RUN THIS CELL TO TEST YOUR FUNCTION\n",
    "print('Test 1:')\n",
    "# Test Case 1: 1 unverified ID out of 15\n",
    "ver1 = [1, 2, 3, 4, 5, 6, 7, 8, 9, 10, 11, 12, 13, 14, 15]  # Verified IDs\n",
    "fb1 = [1, 2, 3, 4, 6, 7, 8, 9, 10, 11, 12, 13, 14, 15, 16]  # Feedback IDs\n",
    "# 1 unverified ID (ID 16)\n",
    "id_validator(ver1, fb1)  # Expected Output: 1 of 15 IDs unverified. 6.67% unverified.\n",
    "\n",
    "print('\\nTest 2:')\n",
    "# Test Case 2: 300 unverified IDs out of 1199\n",
    "ver2 = list(range(1, 900))  # Verified IDs (IDs 1 to 899)\n",
    "fb2 = list(range(1, 1200))  # Feedback IDs (IDs 1 to 1199)\n",
    "# 300 unverified IDs from 900 to 1199\n",
    "id_validator(ver2, fb2)  # Expected Output: 300 of 1199 IDs unverified. 25.02% unverified.\n",
    "\n",
    "print('\\nTest 3:')\n",
    "# Test Case 3: 1208 unverified IDs out of 16132\n",
    "ver3 = list(range(1, 14925))  # Verified IDs (IDs 1 to 14924)\n",
    "fb3 = list(range(1, 16133))  # Feedback IDs (IDs 1 to 16132)\n",
    "# 1208 unverified IDs from 14925 to 16132\n",
    "id_validator(ver3, fb3)  # Expected Output: 1208 of 16132 IDs unverified. 7.49% unverified."
   ]
  },
  {
   "cell_type": "markdown",
   "metadata": {},
   "source": [
    "# Task 3: Create a nested loop\n",
    "\n",
    "You've been asked to calculate the total value of all purchases made by each customer to understand how many customers have spent $100+.\n",
    "\n",
    "*  Write a function called `purchases_100` that accepts the following argument:\n",
    "    * `sales` - a list of lists where each inner list contains the prices of items purchased by a unique customer.\n",
    "\n",
    "* The function must return the number of customers whose purchases summed to $100 or more.\n",
    "\n",
    "*Example:*\n",
    "\n",
    "```\n",
    "sales = [[2.75], [50.0, 50.0], [150.46, 200.12, 111.30]]\n",
    "\n",
    " [IN]  purchases_100(sales)\n",
    "[OUT]  2\n",
    "```\n",
    "\n",
    "**Note that there is more than one way to solve this problem.**"
   ]
  },
  {
   "cell_type": "code",
   "execution_count": 5,
   "metadata": {},
   "outputs": [],
   "source": [
    "# def purchases_100(sales):\n",
    "#     number_of_100_purchase=0\n",
    "#     for sales_customer in sales:\n",
    "#         sum=0\n",
    "#         for customer_purchase in sales_customer:\n",
    "#             sum+=customer_purchase\n",
    "#             if(sum>=100):\n",
    "#                 number_of_100_purchase+=1\n",
    "#                 break;\n",
    "#     return number_of_100_purchase;\n",
    "\n",
    "#or\n",
    "\n",
    "def purchases_100(sales):\n",
    "    number_of_100_purchase = 0\n",
    "    for sales_customer in sales:\n",
    "        total = sum(sales_customer)  # Sum all purchases for the customer\n",
    "        if total >= 100:  # Check if the total is $100 or more\n",
    "            number_of_100_purchase += 1\n",
    "    return number_of_100_purchase\n",
    "\n",
    "    "
   ]
  },
  {
   "cell_type": "markdown",
   "metadata": {},
   "source": [
    "### Test your function\n",
    "Test your function against the following cases by running the cell below."
   ]
  },
  {
   "cell_type": "code",
   "execution_count": null,
   "metadata": {},
   "outputs": [
    {
     "name": "stdout",
     "output_type": "stream",
     "text": [
      "Test 1: 5\n",
      "Test 2: 141\n",
      "Test 3: 1275\n"
     ]
    }
   ],
   "source": [
    "# RUN THIS CELL TO TEST YOUR FUNCTION\n",
    "# Test 1: 5 customers whose purchases summed to $100 or more.\n",
    "sales1 = [[2.75], [50.0, 50.0], [150.46, 200.12, 111.30], [80.00, 30.00], [10.0, 20.0, 100.0], [60.0, 60.0]]\n",
    "print('Test 1:', purchases_100(sales1))  # Expected Output: 5\n",
    "\n",
    "# Test 2: 141 customers whose purchases summed to $100 or more.\n",
    "sales2 = [[i + 1.5] * 10 for i in range(150)]  # Each customer buys items worth 10*i+1.5 dollars.\n",
    "print('Test 2:', purchases_100(sales2))  # Expected Output: 141\n",
    "\n",
    "# Test 3: 1275 customers whose purchases summed to $100 or more.\n",
    "sales3 = [[i + 10] * 15 for i in range(1275)]  # Each customer buys items worth 15*(i + 10) dollars.\n",
    "print('Test 3:', purchases_100(sales3))  # Expected Output: 1275"
   ]
  },
  {
   "cell_type": "markdown",
   "metadata": {},
   "source": [
    "# Conclusion\n",
    "\n",
    "**What are your key takeaways from this lab?**"
   ]
  },
  {
   "cell_type": "markdown",
   "metadata": {},
   "source": [
    "Iterative statements like for loops automate repetitive tasks and analyses. Using if, elif, and else with logical and comparative operators helps control iteration, improving efficiency. Python's built-in functions, both within loops and standalone, add flexibility to my code. The not in operator allows checking for absent elements, aiding in data filtering and refinement. This combination streamlines my workflow and reduces manual effort."
   ]
  }
 ],
 "metadata": {
  "kernelspec": {
   "display_name": ".venv",
   "language": "python",
   "name": "python3"
  },
  "language_info": {
   "codemirror_mode": {
    "name": "ipython",
    "version": 3
   },
   "file_extension": ".py",
   "mimetype": "text/x-python",
   "name": "python",
   "nbconvert_exporter": "python",
   "pygments_lexer": "ipython3",
   "version": "3.13.0"
  }
 },
 "nbformat": 4,
 "nbformat_minor": 2
}
