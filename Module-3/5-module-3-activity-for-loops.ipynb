{
 "cells": [
  {
   "cell_type": "markdown",
   "metadata": {},
   "source": [
    "<summary><h1>Activity: For loops</h1></summary>"
   ]
  },
  {
   "cell_type": "markdown",
   "metadata": {},
   "source": [
    "## Introduction \n",
    "\n",
    "As a data professional, you may need to use methods that involve repetition. For example, when analyzing customer feedback from surveys, you may need to compare averages across categories. In Python, using iterative statements helps automate this task and makes them more efficient.\n",
    "\n",
    "In this lab, you will practice writing iterative statements using `for` loops. "
   ]
  },
  {
   "cell_type": "markdown",
   "metadata": {},
   "source": [
    "## Task 1: Iterating with `if`, `elif`, and `else`\n",
    "\n",
    "In your work as an analyst, you have received customer feedback for a newly launched product. The feedback is a numerical grade on a scale of 1-10, with 10 being the best. Understanding the number of customers who responded negatively, neutrally, or positively will help determine how to improve the product.\n",
    "\n",
    "*  Define a function called `score_counter` that accepts the following argument:\n",
    "    * `score_list` - a list of customer-submitted scores, where each score is an integer, 1-10  \n",
    "    \n",
    "\n",
    "*  The function must iterate over the scores in `score_list` and bin them into three bins:  \n",
    "    * Negative (scores of 1-5)  \n",
    "    * Neutral (scores of 6-8)  \n",
    "    * Positive (scores of 9-10)\n",
    "    \n",
    "\n",
    "*  The output of the function must be three statements, each on its own line:\n",
    "\n",
    "    1. `'Negative: {number_of_negative_scores}'`\n",
    "    2. `'Neutral: {number_of_neutral_scores}'`\n",
    "    3. `'Positive: {number_of_positive_scores}'`\n",
    "\n",
    "*Example:*\n",
    "\n",
    "```\n",
    " [IN] score_counter([1, 2, 3, 4, 5, 6, 7, 8, 9, 10])\n",
    "[OUT] 'Negative: 5'\n",
    "      'Neutral: 3'\n",
    "      'Positive: 2'\n",
    "```\n",
    "**Note that there is more than one way to solve this problem.**"
   ]
  },
  {
   "cell_type": "code",
   "execution_count": null,
   "metadata": {
    "vscode": {
     "languageId": "plaintext"
    }
   },
   "outputs": [],
   "source": [
    "### YOUR CODE HERE ###"
   ]
  },
  {
   "cell_type": "markdown",
   "metadata": {},
   "source": [
    "### Test your function\n",
    "Test your function against the following cases by running the cell below."
   ]
  },
  {
   "cell_type": "code",
   "execution_count": null,
   "metadata": {
    "vscode": {
     "languageId": "plaintext"
    }
   },
   "outputs": [],
   "source": [
    "# RUN THIS CELL TO TEST YOUR FUNCTION\n",
    "\n",
    "import random\n",
    "random.seed(42)\n",
    "\n",
    "possible_scores = list(range(1,11))\n",
    "score_list1 = random.choices(possible_scores, weights=[8,8,8,8,8,3,3,4,20,30], k=10)\n",
    "score_list2 = random.choices(possible_scores, weights=[1,2,3,4,5,10,15,15,7,9], k=450)\n",
    "score_list3 = random.choices(possible_scores, weights=[1,2,3,4,4,5,5,10,15,25], k=10000)\n",
    "\n",
    "print('Test 1:')            # SHOULD OUTPUT (neg, neut, pos):\n",
    "score_counter(score_list1)  # 5, 1, 4\n",
    "print('\\nTest 2:')\n",
    "score_counter(score_list2)  # 85, 253, 112\n",
    "print('\\nTest 3:')\n",
    "score_counter(score_list3)  # 1935, 2652, 5413"
   ]
  },
  {
   "cell_type": "markdown",
   "metadata": {},
   "source": [
    "## Task 2: Create a `for` loop using `if`, `not`, and `in`\n",
    "\n",
    "There is concern that some of the customer feedback scores are fake. One way to check the integrity of the feedback is to identify how many scores came from verified customers.\n",
    "\n",
    "In this task, you are provided with two lists: a list of verified customer IDs and a list of all IDs that left feedback scores. You must validate the data by cross-checking the lists against each other.\n",
    "\n",
    "<br/>\n",
    "\n",
    "* Define a function called `id_validator` that takes two lists as arguments:\n",
    "    *  `verified_ids` - a list containing IDs of verified customers\n",
    "    *  `feedback_ids` - a list containing unique IDs of all posters of feedback scores\n",
    "\n",
    "*  The output of the function must be two statements, each on its own line:\n",
    "    1. `'{number_of_unverified_ids} of {number_of_feedback_ids} IDs unverified.'`\n",
    "    2. `'{percent} unverified.'`\n",
    "\n",
    "*Example 1:*\n",
    "\n",
    "```\n",
    " [IN]  id_validator(verified_ids=['1', '2'], feedback_ids=['1', '2', '3'])\n",
    "[OUT]  '1 of 3 IDs unverified.'\n",
    "       '33.33% unverified.'\n",
    "```\n",
    "\n",
    "*Explanation:* \n",
    "\n",
    "One of the IDs (`'3'`) in `feedback_ids` is not in the list of `verified_ids`.  \n",
    "1/3 of the IDs in `feedback_ids` are unverified.  \n",
    "\n",
    "*Example 2:*\n",
    "```\n",
    "\n",
    " [IN]  id_validator(verified_ids=['1a', '2b', '3c'], feedback_ids=['1a', '4d'])\n",
    "[OUT]  '1 of 2 IDs unverified.'\n",
    "       '50.0% unverified.'\n",
    "```\n",
    "\n",
    "*Explanation:* \n",
    "\n",
    "One of the IDs (`'4d'`) in `feedback_ids` is not in the list of `verified_ids`.  \n",
    "1/2 of the IDs in `feedback_ids` are unverified.  \n",
    "\n",
    "**Note that there is more than one way to solve this problem.**"
   ]
  },
  {
   "cell_type": "code",
   "execution_count": null,
   "metadata": {
    "vscode": {
     "languageId": "plaintext"
    }
   },
   "outputs": [],
   "source": [
    "### YOUR CODE HERE ###\n"
   ]
  },
  {
   "cell_type": "markdown",
   "metadata": {},
   "source": [
    "### Test your function\n",
    "Test your function against the following cases by running the cell below."
   ]
  },
  {
   "cell_type": "code",
   "execution_count": null,
   "metadata": {
    "vscode": {
     "languageId": "plaintext"
    }
   },
   "outputs": [],
   "source": [
    "# RUN THIS CELL TO TEST YOUR FUNCTION\n",
    "import ada_c2_labs as lab\n",
    "\n",
    "# TEST SCENARIOS:                                   # SHOULD OUTPUT:\n",
    "print('Test 1:')\n",
    "ver1, fb1 = lab.lists_gen(8, 20, 15, 15)            # 4 of 15 IDs unverified.\n",
    "id_validator(ver1, fb1)                             # 26.67% unverified.\n",
    "\n",
    "print('\\nTest 2:')\n",
    "ver2, fb2 = lab.lists_gen(8, 1000, 900, 600)        # 357 of 900 IDs unverified.\n",
    "id_validator(ver2, fb2)                             # 39.67% unverified.\n",
    "\n",
    "print('\\nTest 3:')\n",
    "ver3, fb3 = lab.lists_gen(8, 15000, 14925, 13788)   # 1208 of 14925 IDs unverified.\n",
    "id_validator(ver3, fb3)                             # 8.09% unverified."
   ]
  },
  {
   "cell_type": "markdown",
   "metadata": {},
   "source": [
    "# Task 3: Create a nested loop\n",
    "\n",
    "You've been asked to calculate the total value of all purchases made by each customer to understand how many customers have spent $100+.\n",
    "\n",
    "*  Write a function called `purchases_100` that accepts the following argument:\n",
    "    * `sales` - a list of lists where each inner list contains the prices of items purchased by a unique customer.\n",
    "\n",
    "* The function must return the number of customers whose purchases summed to $100 or more.\n",
    "\n",
    "*Example:*\n",
    "\n",
    "```\n",
    "sales = [[2.75], [50.0, 50.0], [150.46, 200.12, 111.30]]\n",
    "\n",
    " [IN]  purchases_100(sales)\n",
    "[OUT]  2\n",
    "```\n",
    "\n",
    "**Note that there is more than one way to solve this problem.**"
   ]
  },
  {
   "cell_type": "code",
   "execution_count": null,
   "metadata": {
    "vscode": {
     "languageId": "plaintext"
    }
   },
   "outputs": [],
   "source": [
    "### YOUR CODE HERE ###\n"
   ]
  },
  {
   "cell_type": "markdown",
   "metadata": {},
   "source": [
    "### Test your function\n",
    "Test your function against the following cases by running the cell below."
   ]
  },
  {
   "cell_type": "code",
   "execution_count": null,
   "metadata": {
    "vscode": {
     "languageId": "plaintext"
    }
   },
   "outputs": [],
   "source": [
    "# RUN THIS CELL TO TEST YOUR FUNCTION\n",
    "import ada_c2_labs as lab\n",
    "sales1 = lab.sales_data_generator(n_customers=10, seed=1)   # SHOULD OUTPUT:\n",
    "print('Test 1:', purchases_100(sales1))                     # 5\n",
    "\n",
    "sales2 = lab.sales_data_generator(n_customers=150, seed=18)\n",
    "print('Test 2:', purchases_100(sales2))                     # 46\n",
    "\n",
    "sales3 = lab.sales_data_generator(n_customers=1275, seed=42)\n",
    "print('Test 3:', purchases_100(sales3))                     # 470"
   ]
  },
  {
   "cell_type": "markdown",
   "metadata": {},
   "source": [
    "# Conclusion\n",
    "\n",
    "**What are your key takeaways from this lab?**"
   ]
  },
  {
   "cell_type": "markdown",
   "metadata": {},
   "source": []
  }
 ],
 "metadata": {
  "language_info": {
   "name": "python"
  }
 },
 "nbformat": 4,
 "nbformat_minor": 2
}
