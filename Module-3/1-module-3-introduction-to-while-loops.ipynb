{
 "cells": [
  {
   "cell_type": "code",
   "execution_count": 4,
   "metadata": {},
   "outputs": [],
   "source": [
    "import random"
   ]
  },
  {
   "cell_type": "code",
   "execution_count": 3,
   "metadata": {},
   "outputs": [
    {
     "name": "stdout",
     "output_type": "stream",
     "text": [
      "Not there yet, x=0\n",
      "x=1\n",
      "Not there yet, x=1\n",
      "x=2\n",
      "Not there yet, x=2\n",
      "x=3\n",
      "Not there yet, x=3\n",
      "x=4\n",
      "Not there yet, x=4\n",
      "x=5\n"
     ]
    }
   ],
   "source": [
    "x = 0\n",
    "\n",
    "while x < 5:\n",
    "    print('Not there yet, x=' + str(x))\n",
    "    x = x + 1\n",
    "    print('x=' + str(x))"
   ]
  },
  {
   "cell_type": "code",
   "execution_count": 1,
   "metadata": {},
   "outputs": [
    {
     "name": "stdout",
     "output_type": "stream",
     "text": [
      "Try again!\n",
      "Try again!\n",
      "Try again!\n",
      "Try again!\n",
      "You are out of turns! The number was 17.\n"
     ]
    }
   ],
   "source": [
    "import random  # Importing the random module to generate a random number\n",
    "\n",
    "number = random.randint(1, 25)  # Random number between 1 and 25\n",
    "number_of_guesses = 0  # Counter to track the number of guesses\n",
    "\n",
    "while number_of_guesses < 5:  # User gets at most 5 attempts\n",
    "    number_guessed = int(input(\"Guess a number between 1 and 25: \"))  # User input\n",
    "    number_of_guesses += 1  # Increment the guess counter\n",
    "\n",
    "    if number_guessed == number:  # If the guessed number is correct\n",
    "        print(\"You guessed it right!\")\n",
    "        break  # Exit the loop since the game is won\n",
    "    elif number_of_guesses == 5:  # If the user is out of attempts\n",
    "        print(f\"You are out of turns! The number was {number}.\")\n",
    "        break  # Exit the loop\n",
    "    else:  # If the guess is incorrect and attempts remain\n",
    "        print(\"Try again!\")"
   ]
  },
  {
   "cell_type": "code",
   "execution_count": 3,
   "metadata": {},
   "outputs": [
    {
     "name": "stdout",
     "output_type": "stream",
     "text": [
      "Too low! Try again!\n",
      "Too low! Try again!\n",
      "Too low! Try again!\n",
      "Too low! Try again!\n",
      "You are out of turns! The number was 20.\n"
     ]
    }
   ],
   "source": [
    "#Another way\n",
    "\n",
    "import random\n",
    "\n",
    "number = random.randint(1, 25)\n",
    "number_of_guesses = 0\n",
    "\n",
    "while number_of_guesses < 5:\n",
    "    try:\n",
    "        number_guessed = int(input(\"Guess a number between 1 and 25: \"))\n",
    "    except ValueError:\n",
    "        print(\"Invalid input! Please enter a number.\")\n",
    "        continue\n",
    "\n",
    "    number_of_guesses += 1\n",
    "\n",
    "    if number_guessed == number:\n",
    "        print(\"You guessed it right!\")\n",
    "        break\n",
    "    elif number_of_guesses == 5:\n",
    "        print(f\"You are out of turns! The number was {number}.\")\n",
    "        break\n",
    "    else:\n",
    "        if number_guessed < number:\n",
    "            print(\"Too low! Try again!\")\n",
    "        elif number_guessed > number:\n",
    "            print(\"Too high! Try again!\")"
   ]
  }
 ],
 "metadata": {
  "kernelspec": {
   "display_name": ".venv",
   "language": "python",
   "name": "python3"
  },
  "language_info": {
   "codemirror_mode": {
    "name": "ipython",
    "version": 3
   },
   "file_extension": ".py",
   "mimetype": "text/x-python",
   "name": "python",
   "nbconvert_exporter": "python",
   "pygments_lexer": "ipython3",
   "version": "3.13.0"
  }
 },
 "nbformat": 4,
 "nbformat_minor": 2
}
