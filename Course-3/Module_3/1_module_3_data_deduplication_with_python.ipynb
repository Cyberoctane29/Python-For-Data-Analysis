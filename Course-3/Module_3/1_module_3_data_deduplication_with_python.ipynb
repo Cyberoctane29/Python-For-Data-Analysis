{
 "cells": [
  {
   "cell_type": "code",
   "execution_count": 2,
   "metadata": {},
   "outputs": [],
   "source": [
    "import pandas as pd"
   ]
  },
  {
   "cell_type": "code",
   "execution_count": 3,
   "metadata": {},
   "outputs": [],
   "source": [
    "data = {\n",
    "    'brand': ['Wowyow', 'Wowyow', 'Splaysh', 'Splaysh', 'Pipplee'],\n",
    "    'style': ['cistern', 'cistern', 'jug', 'stock', 'stock'],\n",
    "    'rating': [4.0, 4.0, 5.5, 3.3, 3.0]\n",
    "}\n",
    "\n",
    "# Creating the DataFrame\n",
    "df = pd.DataFrame(data)\n"
   ]
  },
  {
   "cell_type": "code",
   "execution_count": 4,
   "metadata": {},
   "outputs": [
    {
     "data": {
      "text/html": [
       "<div>\n",
       "<style scoped>\n",
       "    .dataframe tbody tr th:only-of-type {\n",
       "        vertical-align: middle;\n",
       "    }\n",
       "\n",
       "    .dataframe tbody tr th {\n",
       "        vertical-align: top;\n",
       "    }\n",
       "\n",
       "    .dataframe thead th {\n",
       "        text-align: right;\n",
       "    }\n",
       "</style>\n",
       "<table border=\"1\" class=\"dataframe\">\n",
       "  <thead>\n",
       "    <tr style=\"text-align: right;\">\n",
       "      <th></th>\n",
       "      <th>brand</th>\n",
       "      <th>style</th>\n",
       "      <th>rating</th>\n",
       "    </tr>\n",
       "  </thead>\n",
       "  <tbody>\n",
       "    <tr>\n",
       "      <th>0</th>\n",
       "      <td>Wowyow</td>\n",
       "      <td>cistern</td>\n",
       "      <td>4.0</td>\n",
       "    </tr>\n",
       "    <tr>\n",
       "      <th>1</th>\n",
       "      <td>Wowyow</td>\n",
       "      <td>cistern</td>\n",
       "      <td>4.0</td>\n",
       "    </tr>\n",
       "    <tr>\n",
       "      <th>2</th>\n",
       "      <td>Splaysh</td>\n",
       "      <td>jug</td>\n",
       "      <td>5.5</td>\n",
       "    </tr>\n",
       "    <tr>\n",
       "      <th>3</th>\n",
       "      <td>Splaysh</td>\n",
       "      <td>stock</td>\n",
       "      <td>3.3</td>\n",
       "    </tr>\n",
       "    <tr>\n",
       "      <th>4</th>\n",
       "      <td>Pipplee</td>\n",
       "      <td>stock</td>\n",
       "      <td>3.0</td>\n",
       "    </tr>\n",
       "  </tbody>\n",
       "</table>\n",
       "</div>"
      ],
      "text/plain": [
       "     brand    style  rating\n",
       "0   Wowyow  cistern     4.0\n",
       "1   Wowyow  cistern     4.0\n",
       "2  Splaysh      jug     5.5\n",
       "3  Splaysh    stock     3.3\n",
       "4  Pipplee    stock     3.0"
      ]
     },
     "execution_count": 4,
     "metadata": {},
     "output_type": "execute_result"
    }
   ],
   "source": [
    "df"
   ]
  },
  {
   "cell_type": "code",
   "execution_count": 5,
   "metadata": {},
   "outputs": [
    {
     "name": "stdout",
     "output_type": "stream",
     "text": [
      "     brand    style  rating\n",
      "0   Wowyow  cistern     4.0\n",
      "1   Wowyow  cistern     4.0\n",
      "2  Splaysh      jug     5.5\n",
      "3  Splaysh    stock     3.3\n",
      "4  Pipplee    stock     3.0\n",
      "\n",
      "0    False\n",
      "1     True\n",
      "2    False\n",
      "3    False\n",
      "4    False\n",
      "dtype: bool\n"
     ]
    }
   ],
   "source": [
    "print(df)\n",
    "print()\n",
    "print(df.duplicated())"
   ]
  },
  {
   "cell_type": "code",
   "execution_count": 6,
   "metadata": {},
   "outputs": [
    {
     "data": {
      "text/html": [
       "<div>\n",
       "<style scoped>\n",
       "    .dataframe tbody tr th:only-of-type {\n",
       "        vertical-align: middle;\n",
       "    }\n",
       "\n",
       "    .dataframe tbody tr th {\n",
       "        vertical-align: top;\n",
       "    }\n",
       "\n",
       "    .dataframe thead th {\n",
       "        text-align: right;\n",
       "    }\n",
       "</style>\n",
       "<table border=\"1\" class=\"dataframe\">\n",
       "  <thead>\n",
       "    <tr style=\"text-align: right;\">\n",
       "      <th></th>\n",
       "      <th>color</th>\n",
       "      <th>rating</th>\n",
       "      <th>type</th>\n",
       "    </tr>\n",
       "  </thead>\n",
       "  <tbody>\n",
       "    <tr>\n",
       "      <th>0</th>\n",
       "      <td>olive</td>\n",
       "      <td>9.0</td>\n",
       "      <td>rinds</td>\n",
       "    </tr>\n",
       "    <tr>\n",
       "      <th>1</th>\n",
       "      <td>olive</td>\n",
       "      <td>9.0</td>\n",
       "      <td>rinds</td>\n",
       "    </tr>\n",
       "    <tr>\n",
       "      <th>2</th>\n",
       "      <td>gray</td>\n",
       "      <td>4.5</td>\n",
       "      <td>pellets</td>\n",
       "    </tr>\n",
       "    <tr>\n",
       "      <th>3</th>\n",
       "      <td>salmon</td>\n",
       "      <td>11.0</td>\n",
       "      <td>pellets</td>\n",
       "    </tr>\n",
       "    <tr>\n",
       "      <th>4</th>\n",
       "      <td>salmon</td>\n",
       "      <td>7.0</td>\n",
       "      <td>pellets</td>\n",
       "    </tr>\n",
       "  </tbody>\n",
       "</table>\n",
       "</div>"
      ],
      "text/plain": [
       "    color  rating     type\n",
       "0   olive     9.0    rinds\n",
       "1   olive     9.0    rinds\n",
       "2    gray     4.5  pellets\n",
       "3  salmon    11.0  pellets\n",
       "4  salmon     7.0  pellets"
      ]
     },
     "execution_count": 6,
     "metadata": {},
     "output_type": "execute_result"
    }
   ],
   "source": [
    "data2 = {\n",
    "    'color': ['olive', 'olive', 'gray', 'salmon', 'salmon'],\n",
    "    'rating': [9.0, 9.0, 4.5, 11.0, 7.0],\n",
    "    'type': ['rinds', 'rinds', 'pellets', 'pellets', 'pellets']\n",
    "}\n",
    "\n",
    "# Creating the DataFrame\n",
    "df2 = pd.DataFrame(data2)\n",
    "df2"
   ]
  },
  {
   "cell_type": "code",
   "execution_count": 7,
   "metadata": {},
   "outputs": [
    {
     "name": "stdout",
     "output_type": "stream",
     "text": [
      "    color  rating     type\n",
      "0   olive     9.0    rinds\n",
      "1   olive     9.0    rinds\n",
      "2    gray     4.5  pellets\n",
      "3  salmon    11.0  pellets\n",
      "4  salmon     7.0  pellets\n",
      "\n",
      "0     True\n",
      "1    False\n",
      "2     True\n",
      "3     True\n",
      "4    False\n",
      "dtype: bool\n"
     ]
    }
   ],
   "source": [
    "print(df2)\n",
    "print()\n",
    "print(df2.duplicated(subset=['type'], keep='last'))"
   ]
  },
  {
   "cell_type": "code",
   "execution_count": 8,
   "metadata": {},
   "outputs": [
    {
     "data": {
      "text/html": [
       "<div>\n",
       "<style scoped>\n",
       "    .dataframe tbody tr th:only-of-type {\n",
       "        vertical-align: middle;\n",
       "    }\n",
       "\n",
       "    .dataframe tbody tr th {\n",
       "        vertical-align: top;\n",
       "    }\n",
       "\n",
       "    .dataframe thead th {\n",
       "        text-align: right;\n",
       "    }\n",
       "</style>\n",
       "<table border=\"1\" class=\"dataframe\">\n",
       "  <thead>\n",
       "    <tr style=\"text-align: right;\">\n",
       "      <th></th>\n",
       "      <th>brand</th>\n",
       "      <th>style</th>\n",
       "      <th>rating</th>\n",
       "    </tr>\n",
       "  </thead>\n",
       "  <tbody>\n",
       "    <tr>\n",
       "      <th>0</th>\n",
       "      <td>Wowyow</td>\n",
       "      <td>cistern</td>\n",
       "      <td>4.0</td>\n",
       "    </tr>\n",
       "    <tr>\n",
       "      <th>2</th>\n",
       "      <td>Splaysh</td>\n",
       "      <td>jug</td>\n",
       "      <td>5.5</td>\n",
       "    </tr>\n",
       "    <tr>\n",
       "      <th>3</th>\n",
       "      <td>Splaysh</td>\n",
       "      <td>stock</td>\n",
       "      <td>3.3</td>\n",
       "    </tr>\n",
       "    <tr>\n",
       "      <th>4</th>\n",
       "      <td>Pipplee</td>\n",
       "      <td>stock</td>\n",
       "      <td>3.0</td>\n",
       "    </tr>\n",
       "  </tbody>\n",
       "</table>\n",
       "</div>"
      ],
      "text/plain": [
       "     brand    style  rating\n",
       "0   Wowyow  cistern     4.0\n",
       "2  Splaysh      jug     5.5\n",
       "3  Splaysh    stock     3.3\n",
       "4  Pipplee    stock     3.0"
      ]
     },
     "execution_count": 8,
     "metadata": {},
     "output_type": "execute_result"
    }
   ],
   "source": [
    "df.drop_duplicates()"
   ]
  },
  {
   "cell_type": "code",
   "execution_count": 9,
   "metadata": {},
   "outputs": [
    {
     "name": "stdout",
     "output_type": "stream",
     "text": [
      "     brand    style  rating\n",
      "0   Wowyow  cistern     4.0\n",
      "1   Wowyow  cistern     4.0\n",
      "2  Splaysh      jug     5.5\n",
      "3  Splaysh    stock     3.3\n",
      "4  Pipplee    stock     3.0\n",
      "\n",
      "     brand    style  rating\n",
      "0   Wowyow  cistern     4.0\n",
      "2  Splaysh      jug     5.5\n",
      "3  Splaysh    stock     3.3\n"
     ]
    }
   ],
   "source": [
    "print(df)\n",
    "df = df.drop_duplicates(subset='style')\n",
    "\n",
    "print()\n",
    "print(df)"
   ]
  },
  {
   "cell_type": "code",
   "execution_count": 10,
   "metadata": {},
   "outputs": [
    {
     "name": "stdout",
     "output_type": "stream",
     "text": [
      "     brand    style  rating\n",
      "0   Wowyow  cistern     4.0\n",
      "2  Splaysh      jug     5.5\n",
      "3  Splaysh    stock     3.3\n",
      "\n",
      "     brand    style  rating\n",
      "0   Wowyow  cistern     4.0\n",
      "2  Splaysh      jug     5.5\n",
      "3  Splaysh    stock     3.3\n"
     ]
    }
   ],
   "source": [
    "print(df)\n",
    "df = df.drop_duplicates(subset=['style', 'rating'])\n",
    "\n",
    "print()\n",
    "print(df)"
   ]
  }
 ],
 "metadata": {
  "kernelspec": {
   "display_name": ".venv",
   "language": "python",
   "name": "python3"
  },
  "language_info": {
   "codemirror_mode": {
    "name": "ipython",
    "version": 3
   },
   "file_extension": ".py",
   "mimetype": "text/x-python",
   "name": "python",
   "nbconvert_exporter": "python",
   "pygments_lexer": "ipython3",
   "version": "3.13.0"
  }
 },
 "nbformat": 4,
 "nbformat_minor": 2
}
