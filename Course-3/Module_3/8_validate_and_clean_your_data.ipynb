{
 "cells": [
  {
   "cell_type": "markdown",
   "metadata": {},
   "source": [
    "# Activity: Validate and clean your data"
   ]
  },
  {
   "cell_type": "markdown",
   "metadata": {},
   "source": [
    "## Introduction\n",
    "\n",
    "In this activity, you will use input validation and label encoding to prepare a dataset for analysis. These are fundamental techniques used in all types of data analysis, from simple linear regression to complex neural networks. \n",
    "\n",
    "In this activity, you are a data professional an investment firm that is attempting to invest in private companies with a valuation of at least $1 billion. These are often known as \"unicorns.\" Your client wants to develop a better understanding of unicorns, with the hope they can be early investors in future highly successful companies. They are particularly interested in the investment strategies of the three top unicorn investors: Sequoia Capital, Tiger Global Management, and Accel. "
   ]
  },
  {
   "cell_type": "markdown",
   "metadata": {},
   "source": [
    "## Step 1: Imports "
   ]
  },
  {
   "cell_type": "markdown",
   "metadata": {},
   "source": [
    "Import relevant Python libraries and packages: `numpy`, `pandas`, `seaborn`, and `pyplot` from `matplotlib`."
   ]
  },
  {
   "cell_type": "code",
   "execution_count": 30,
   "metadata": {},
   "outputs": [],
   "source": [
    "# Import libraries and packages.\n",
    "import pandas as pd\n",
    "import numpy as np\n",
    "import seaborn as sns\n",
    "import matplotlib.pyplot as plt\n"
   ]
  },
  {
   "cell_type": "markdown",
   "metadata": {},
   "source": [
    "### Load the dataset\n",
    "\n",
    "The data contains details about unicorn companies, such as when they were founded, when they achieved unicorn status, and their current valuation. The dataset `Modified_Unicorn_Companies.csv` is loaded as `companies`, now display the first five rows. The variables in the dataset have been adjusted to suit the objectives of this lab, so they may be different from similar data used in prior labs."
   ]
  },
  {
   "cell_type": "code",
   "execution_count": 31,
   "metadata": {},
   "outputs": [],
   "source": [
    "# Run this cell so pandas displays all columns\n",
    "pd.set_option('display.max_columns', None)"
   ]
  },
  {
   "cell_type": "code",
   "execution_count": 32,
   "metadata": {},
   "outputs": [
    {
     "data": {
      "text/html": [
       "<div>\n",
       "<style scoped>\n",
       "    .dataframe tbody tr th:only-of-type {\n",
       "        vertical-align: middle;\n",
       "    }\n",
       "\n",
       "    .dataframe tbody tr th {\n",
       "        vertical-align: top;\n",
       "    }\n",
       "\n",
       "    .dataframe thead th {\n",
       "        text-align: right;\n",
       "    }\n",
       "</style>\n",
       "<table border=\"1\" class=\"dataframe\">\n",
       "  <thead>\n",
       "    <tr style=\"text-align: right;\">\n",
       "      <th></th>\n",
       "      <th>Company</th>\n",
       "      <th>Valuation</th>\n",
       "      <th>Date Joined</th>\n",
       "      <th>Industry</th>\n",
       "      <th>City</th>\n",
       "      <th>Country/Region</th>\n",
       "      <th>Continent</th>\n",
       "      <th>Year Founded</th>\n",
       "      <th>Funding</th>\n",
       "      <th>Select Investors</th>\n",
       "    </tr>\n",
       "  </thead>\n",
       "  <tbody>\n",
       "    <tr>\n",
       "      <th>0</th>\n",
       "      <td>Bytedance</td>\n",
       "      <td>180</td>\n",
       "      <td>2017-04-07</td>\n",
       "      <td>Artificial intelligence</td>\n",
       "      <td>Beijing</td>\n",
       "      <td>China</td>\n",
       "      <td>Asia</td>\n",
       "      <td>2012</td>\n",
       "      <td>$8B</td>\n",
       "      <td>Sequoia Capital China, SIG Asia Investments, S...</td>\n",
       "    </tr>\n",
       "    <tr>\n",
       "      <th>1</th>\n",
       "      <td>SpaceX</td>\n",
       "      <td>100</td>\n",
       "      <td>2012-12-01</td>\n",
       "      <td>Other</td>\n",
       "      <td>Hawthorne</td>\n",
       "      <td>United States</td>\n",
       "      <td>North America</td>\n",
       "      <td>2002</td>\n",
       "      <td>$7B</td>\n",
       "      <td>Founders Fund, Draper Fisher Jurvetson, Rothen...</td>\n",
       "    </tr>\n",
       "    <tr>\n",
       "      <th>2</th>\n",
       "      <td>SHEIN</td>\n",
       "      <td>100</td>\n",
       "      <td>2018-07-03</td>\n",
       "      <td>E-commerce &amp; direct-to-consumer</td>\n",
       "      <td>Shenzhen</td>\n",
       "      <td>China</td>\n",
       "      <td>Asia</td>\n",
       "      <td>2008</td>\n",
       "      <td>$2B</td>\n",
       "      <td>Tiger Global Management, Sequoia Capital China...</td>\n",
       "    </tr>\n",
       "    <tr>\n",
       "      <th>3</th>\n",
       "      <td>Stripe</td>\n",
       "      <td>95</td>\n",
       "      <td>2014-01-23</td>\n",
       "      <td>FinTech</td>\n",
       "      <td>San Francisco</td>\n",
       "      <td>United States</td>\n",
       "      <td>North America</td>\n",
       "      <td>2010</td>\n",
       "      <td>$2B</td>\n",
       "      <td>Khosla Ventures, LowercaseCapital, capitalG</td>\n",
       "    </tr>\n",
       "    <tr>\n",
       "      <th>4</th>\n",
       "      <td>Klarna</td>\n",
       "      <td>46</td>\n",
       "      <td>2011-12-12</td>\n",
       "      <td>Fintech</td>\n",
       "      <td>Stockholm</td>\n",
       "      <td>Sweden</td>\n",
       "      <td>Europe</td>\n",
       "      <td>2005</td>\n",
       "      <td>$4B</td>\n",
       "      <td>Institutional Venture Partners, Sequoia Capita...</td>\n",
       "    </tr>\n",
       "  </tbody>\n",
       "</table>\n",
       "</div>"
      ],
      "text/plain": [
       "     Company  Valuation Date Joined                         Industry  \\\n",
       "0  Bytedance        180  2017-04-07          Artificial intelligence   \n",
       "1     SpaceX        100  2012-12-01                            Other   \n",
       "2      SHEIN        100  2018-07-03  E-commerce & direct-to-consumer   \n",
       "3     Stripe         95  2014-01-23                          FinTech   \n",
       "4     Klarna         46  2011-12-12                          Fintech   \n",
       "\n",
       "            City Country/Region      Continent  Year Founded Funding  \\\n",
       "0        Beijing          China           Asia          2012     $8B   \n",
       "1      Hawthorne  United States  North America          2002     $7B   \n",
       "2       Shenzhen          China           Asia          2008     $2B   \n",
       "3  San Francisco  United States  North America          2010     $2B   \n",
       "4      Stockholm         Sweden         Europe          2005     $4B   \n",
       "\n",
       "                                    Select Investors  \n",
       "0  Sequoia Capital China, SIG Asia Investments, S...  \n",
       "1  Founders Fund, Draper Fisher Jurvetson, Rothen...  \n",
       "2  Tiger Global Management, Sequoia Capital China...  \n",
       "3        Khosla Ventures, LowercaseCapital, capitalG  \n",
       "4  Institutional Venture Partners, Sequoia Capita...  "
      ]
     },
     "execution_count": 32,
     "metadata": {},
     "output_type": "execute_result"
    }
   ],
   "source": [
    "# RUN THIS CELL TO IMPORT YOUR DATA. \n",
    "companies = pd.read_csv(r'C:\\Users\\saswa\\Documents\\GitHub\\Python-For-Data-Analysis\\Course-3\\Data\\Module_3\\Modified_Unicorn_Companies.csv')\n",
    "\n",
    "# Display the first five rows.\n",
    "companies.head()"
   ]
  },
  {
   "cell_type": "markdown",
   "metadata": {},
   "source": [
    "## Step 2: Data cleaning\n"
   ]
  },
  {
   "cell_type": "markdown",
   "metadata": {},
   "source": [
    "Begin by displaying the data types of the columns in `companies`."
   ]
  },
  {
   "cell_type": "code",
   "execution_count": 33,
   "metadata": {},
   "outputs": [
    {
     "data": {
      "text/plain": [
       "Company             object\n",
       "Valuation            int64\n",
       "Date Joined         object\n",
       "Industry            object\n",
       "City                object\n",
       "Country/Region      object\n",
       "Continent           object\n",
       "Year Founded         int64\n",
       "Funding             object\n",
       "Select Investors    object\n",
       "dtype: object"
      ]
     },
     "execution_count": 33,
     "metadata": {},
     "output_type": "execute_result"
    }
   ],
   "source": [
    "# Display the data types of the columns.\n",
    "\n",
    "companies.dtypes"
   ]
  },
  {
   "cell_type": "markdown",
   "metadata": {},
   "source": [
    "### Modify the data types"
   ]
  },
  {
   "cell_type": "markdown",
   "metadata": {},
   "source": [
    "Notice that the data type of the `Date Joined` column is an `object`&mdash;in this case, a string. Convert this column to `datetime` to make it more usable. "
   ]
  },
  {
   "cell_type": "code",
   "execution_count": 34,
   "metadata": {},
   "outputs": [],
   "source": [
    "# Apply necessary datatype conversions.\n",
    "\n",
    "companies['Date Joined']=pd.to_datetime(companies['Date Joined'])"
   ]
  },
  {
   "cell_type": "markdown",
   "metadata": {},
   "source": [
    "### Create a new column"
   ]
  },
  {
   "cell_type": "markdown",
   "metadata": {},
   "source": [
    "Add a column called `Years To Unicorn`, which is the number of years between when the company was founded and when it became a unicorn."
   ]
  },
  {
   "cell_type": "code",
   "execution_count": 35,
   "metadata": {},
   "outputs": [],
   "source": [
    "# Create the column Years To Unicorn.\n",
    "\n",
    "companies['Years To Unicorn']=companies['Date Joined'].dt.year-companies['Year Founded']"
   ]
  },
  {
   "cell_type": "markdown",
   "metadata": {},
   "source": [
    "**QUESTION: Why might your client be interested in how quickly a company achieved unicorn status?**"
   ]
  },
  {
   "cell_type": "markdown",
   "metadata": {},
   "source": [
    "I believe my client would be interested in how quickly a company achieves unicorn status because it can provide valuable insights into the company’s growth and potential for future success. If a company reaches unicorn status in a short period, it indicates rapid scaling and a high valuation, which often suggests strong performance, innovation, or high market demand. This could signal a promising investment opportunity or at least justify further investigation into the company’s long-term potential. By identifying companies that achieve unicorn status quickly, my client could uncover high-potential investment opportunities."
   ]
  },
  {
   "cell_type": "markdown",
   "metadata": {},
   "source": [
    "### Input validation\n",
    "\n",
    "The data has some issues with bad data, duplicate rows, and inconsistent `Industry` labels.\n",
    "\n",
    "Identify and correct each of these issues."
   ]
  },
  {
   "cell_type": "markdown",
   "metadata": {},
   "source": [
    "#### Correcting bad data\n",
    "\n",
    "Get descriptive statistics for the `Years To Unicorn` column."
   ]
  },
  {
   "cell_type": "code",
   "execution_count": 36,
   "metadata": {},
   "outputs": [
    {
     "data": {
      "text/plain": [
       "count    1074.000000\n",
       "mean        7.013035\n",
       "std         5.331842\n",
       "min        -3.000000\n",
       "25%         4.000000\n",
       "50%         6.000000\n",
       "75%         9.000000\n",
       "max        98.000000\n",
       "Name: Years To Unicorn, dtype: float64"
      ]
     },
     "execution_count": 36,
     "metadata": {},
     "output_type": "execute_result"
    }
   ],
   "source": [
    "# Identify and correct the issue with Years To Unicorn.\n",
    "\n",
    "companies['Years To Unicorn'].describe()"
   ]
  },
  {
   "cell_type": "markdown",
   "metadata": {},
   "source": [
    "Isolate all rows where the `Years To Unicorn` column contains a negative value."
   ]
  },
  {
   "cell_type": "code",
   "execution_count": 37,
   "metadata": {},
   "outputs": [
    {
     "data": {
      "text/html": [
       "<div>\n",
       "<style scoped>\n",
       "    .dataframe tbody tr th:only-of-type {\n",
       "        vertical-align: middle;\n",
       "    }\n",
       "\n",
       "    .dataframe tbody tr th {\n",
       "        vertical-align: top;\n",
       "    }\n",
       "\n",
       "    .dataframe thead th {\n",
       "        text-align: right;\n",
       "    }\n",
       "</style>\n",
       "<table border=\"1\" class=\"dataframe\">\n",
       "  <thead>\n",
       "    <tr style=\"text-align: right;\">\n",
       "      <th></th>\n",
       "      <th>Company</th>\n",
       "      <th>Valuation</th>\n",
       "      <th>Date Joined</th>\n",
       "      <th>Industry</th>\n",
       "      <th>City</th>\n",
       "      <th>Country/Region</th>\n",
       "      <th>Continent</th>\n",
       "      <th>Year Founded</th>\n",
       "      <th>Funding</th>\n",
       "      <th>Select Investors</th>\n",
       "      <th>Years To Unicorn</th>\n",
       "    </tr>\n",
       "  </thead>\n",
       "  <tbody>\n",
       "    <tr>\n",
       "      <th>527</th>\n",
       "      <td>InVision</td>\n",
       "      <td>2</td>\n",
       "      <td>2017-11-01</td>\n",
       "      <td>Internet software &amp; services</td>\n",
       "      <td>New York</td>\n",
       "      <td>United States</td>\n",
       "      <td>North America</td>\n",
       "      <td>2020</td>\n",
       "      <td>$349M</td>\n",
       "      <td>FirstMark Capital, Tiger Global Management, IC...</td>\n",
       "      <td>-3</td>\n",
       "    </tr>\n",
       "  </tbody>\n",
       "</table>\n",
       "</div>"
      ],
      "text/plain": [
       "      Company  Valuation Date Joined                      Industry      City  \\\n",
       "527  InVision          2  2017-11-01  Internet software & services  New York   \n",
       "\n",
       "    Country/Region      Continent  Year Founded Funding  \\\n",
       "527  United States  North America          2020   $349M   \n",
       "\n",
       "                                      Select Investors  Years To Unicorn  \n",
       "527  FirstMark Capital, Tiger Global Management, IC...                -3  "
      ]
     },
     "execution_count": 37,
     "metadata": {},
     "output_type": "execute_result"
    }
   ],
   "source": [
    "# Isolate any rows where `Years To Unicorn` is negative\n",
    "\n",
    "companies[companies['Years To Unicorn']<0]"
   ]
  },
  {
   "cell_type": "markdown",
   "metadata": {},
   "source": [
    "**Question: How many rows have negative values in the `Years To Unicorn` column, and what companies are they for?**\n"
   ]
  },
  {
   "cell_type": "markdown",
   "metadata": {},
   "source": [
    "There is only one row with a negative value in the Years To Unicorn column, corresponding to observation 527. This row represents the company InVision."
   ]
  },
  {
   "cell_type": "markdown",
   "metadata": {},
   "source": [
    "An internet search reveals that InVision was founded in 2011. Replace the value at `Year Founded` with `2011` for InVision's row. "
   ]
  },
  {
   "cell_type": "code",
   "execution_count": 38,
   "metadata": {},
   "outputs": [
    {
     "data": {
      "text/html": [
       "<div>\n",
       "<style scoped>\n",
       "    .dataframe tbody tr th:only-of-type {\n",
       "        vertical-align: middle;\n",
       "    }\n",
       "\n",
       "    .dataframe tbody tr th {\n",
       "        vertical-align: top;\n",
       "    }\n",
       "\n",
       "    .dataframe thead th {\n",
       "        text-align: right;\n",
       "    }\n",
       "</style>\n",
       "<table border=\"1\" class=\"dataframe\">\n",
       "  <thead>\n",
       "    <tr style=\"text-align: right;\">\n",
       "      <th></th>\n",
       "      <th>Company</th>\n",
       "      <th>Valuation</th>\n",
       "      <th>Date Joined</th>\n",
       "      <th>Industry</th>\n",
       "      <th>City</th>\n",
       "      <th>Country/Region</th>\n",
       "      <th>Continent</th>\n",
       "      <th>Year Founded</th>\n",
       "      <th>Funding</th>\n",
       "      <th>Select Investors</th>\n",
       "      <th>Years To Unicorn</th>\n",
       "    </tr>\n",
       "  </thead>\n",
       "  <tbody>\n",
       "    <tr>\n",
       "      <th>527</th>\n",
       "      <td>InVision</td>\n",
       "      <td>2</td>\n",
       "      <td>2017-11-01</td>\n",
       "      <td>Internet software &amp; services</td>\n",
       "      <td>New York</td>\n",
       "      <td>United States</td>\n",
       "      <td>North America</td>\n",
       "      <td>2011</td>\n",
       "      <td>$349M</td>\n",
       "      <td>FirstMark Capital, Tiger Global Management, IC...</td>\n",
       "      <td>-3</td>\n",
       "    </tr>\n",
       "  </tbody>\n",
       "</table>\n",
       "</div>"
      ],
      "text/plain": [
       "      Company  Valuation Date Joined                      Industry      City  \\\n",
       "527  InVision          2  2017-11-01  Internet software & services  New York   \n",
       "\n",
       "    Country/Region      Continent  Year Founded Funding  \\\n",
       "527  United States  North America          2011   $349M   \n",
       "\n",
       "                                      Select Investors  Years To Unicorn  \n",
       "527  FirstMark Capital, Tiger Global Management, IC...                -3  "
      ]
     },
     "execution_count": 38,
     "metadata": {},
     "output_type": "execute_result"
    }
   ],
   "source": [
    "# Replace InVision's `Year Founded` value with 2011\n",
    "\n",
    "companies.loc[companies['Company']=='InVision','Year Founded']=2011\n",
    "\n",
    "# Verify the change was made properly\n",
    "\n",
    "companies[companies['Company']=='InVision']"
   ]
  },
  {
   "cell_type": "markdown",
   "metadata": {},
   "source": [
    "Now, recalculate all the values in the `Years To Unicorn` column to remove the negative value for InVision. Verify that there are no more negative values afterwards."
   ]
  },
  {
   "cell_type": "code",
   "execution_count": 39,
   "metadata": {},
   "outputs": [
    {
     "data": {
      "text/plain": [
       "count    1074.000000\n",
       "mean        7.021415\n",
       "std         5.323155\n",
       "min         0.000000\n",
       "25%         4.000000\n",
       "50%         6.000000\n",
       "75%         9.000000\n",
       "max        98.000000\n",
       "Name: Years To Unicorn, dtype: float64"
      ]
     },
     "execution_count": 39,
     "metadata": {},
     "output_type": "execute_result"
    }
   ],
   "source": [
    "# Recalculate all values in the `Years To Unicorn` column\n",
    "\n",
    "companies['Years To Unicorn'] = companies['Date Joined'].dt.year - companies['Year Founded']\n",
    "\n",
    "# Verify that there are no more negative values in the column\n",
    "\n",
    "companies['Years To Unicorn'].describe()"
   ]
  },
  {
   "cell_type": "markdown",
   "metadata": {},
   "source": [
    "#### Issues with `Industry` labels\n",
    "\n",
    "The company provided you with the following list of industry labels to identify in the data for `Industry`. \n",
    "\n",
    "**Note:** Any labels in the `Industry` column that are not in `industry_list` are misspellings."
   ]
  },
  {
   "cell_type": "code",
   "execution_count": 40,
   "metadata": {},
   "outputs": [],
   "source": [
    "# List provided by the company of the expected industry labels in the data\n",
    "industry_list = ['Artificial intelligence', 'Other','E-commerce & direct-to-consumer', 'Fintech',\\\n",
    "       'Internet software & services','Supply chain, logistics, & delivery', 'Consumer & retail',\\\n",
    "       'Data management & analytics', 'Edtech', 'Health', 'Hardware','Auto & transportation', \\\n",
    "        'Travel', 'Cybersecurity','Mobile & telecommunications']"
   ]
  },
  {
   "cell_type": "markdown",
   "metadata": {},
   "source": [
    "First, check if there are values in the `Industry` column that are not in `industry_list`. If so, what are they?"
   ]
  },
  {
   "cell_type": "code",
   "execution_count": 41,
   "metadata": {},
   "outputs": [
    {
     "data": {
      "text/plain": [
       "{'Artificial Intelligence', 'Data management and analytics', 'FinTech'}"
      ]
     },
     "execution_count": 41,
     "metadata": {},
     "output_type": "execute_result"
    }
   ],
   "source": [
    "# Check which values are in `Industry` but not in `industry_list`\n",
    "\n",
    "set(companies['Industry'])-set(industry_list)"
   ]
  },
  {
   "cell_type": "markdown",
   "metadata": {},
   "source": [
    "**Question: Which values currently exist in the `Industry` column that are not in `industry_list`?**\n"
   ]
  },
  {
   "cell_type": "markdown",
   "metadata": {},
   "source": [
    "\n",
    "The values currently present in the Industry column but not in the industry_list are misspellings: 'Artificial Intelligence', 'Data management and analytics', and 'FinTech'."
   ]
  },
  {
   "cell_type": "markdown",
   "metadata": {},
   "source": [
    "Now, correct the bad entries in the `Industry` column by replacing them with an approved string from `industry_list`. To do this, use the [`replace()`](https://pandas.pydata.org/docs/reference/api/pandas.Series.replace.html) `Series` method on the `Industry` series. When you pass a dictionary to the method, it will replace the data in the series where that data matches the dictionary's keys. The values that get imputed are the values of the dictionary. If a value is not specified in the dictionary, the series' original value is retained.\n",
    "</br></br>\n",
    "\n",
    "\n",
    "```\n",
    "Example:\n",
    "\n",
    " [IN]: column_a = pd.Series(['A', 'B', 'C', 'D'])\n",
    "       column_a\n",
    "\n",
    "[OUT]: 0    A\n",
    "       1    B\n",
    "       2    C\n",
    "       3    D\n",
    "       dtype: object\n",
    "\n",
    " [IN]: replacement_dict = {'A':'z', 'B':'y', 'C':'x'}\n",
    "       column_a = column_a.replace(replacement_dict)\n",
    "       column_a\n",
    "       \n",
    "[OUT]: 0    z\n",
    "       1    y\n",
    "       2    x\n",
    "       3    D\n",
    "       dtype: object\n",
    "\n",
    "```\n",
    "\n",
    "1. Create a dictionary called `replacement_dict` whose keys are the incorrect spellings in the `Industry` series and whose values are the correct spelling, as indicated in `industry_list`.\n",
    "\n",
    "2. Call the `replace()` method on the `Industry` series and pass to it `replacement_dict` as its argument. Reassign the result back to the `Industry` column.\n",
    "\n",
    "3. Verify that there are no longer any elements in `Industry` that are not in `industry_list`."
   ]
  },
  {
   "cell_type": "code",
   "execution_count": 42,
   "metadata": {},
   "outputs": [
    {
     "data": {
      "text/plain": [
       "set()"
      ]
     },
     "execution_count": 42,
     "metadata": {},
     "output_type": "execute_result"
    }
   ],
   "source": [
    "# 1. Create `replacement_dict`\n",
    "\n",
    "replacement_dict={'Artificial Intelligence':'Artificial intelligence',\n",
    "                  'Data management and analytics':'Data management & analytics',\n",
    "                  'FinTech':'Fintech'}\n",
    "\n",
    "# 2. Replace the incorrect values in the `Industry` column\n",
    "\n",
    "companies['Industry']=companies['Industry'].replace(replacement_dict)\n",
    "\n",
    "# 3. Verify that there are no longer any elements in `Industry` that are not in `industry_list`\n",
    "\n",
    "set(companies['Industry'])-set(industry_list)"
   ]
  },
  {
   "cell_type": "markdown",
   "metadata": {},
   "source": [
    "#### Handling duplicate rows\n",
    "\n",
    "The business mentioned that no company should appear in the data more than once.\n",
    "\n",
    "Verify that this is indeed the case, and if not, clean the data so each company appears only once.\n",
    "\n",
    "Begin by checking which, if any, companies are duplicated. Filter the data to return all occurrences of those duplicated companies."
   ]
  },
  {
   "cell_type": "code",
   "execution_count": 43,
   "metadata": {},
   "outputs": [
    {
     "data": {
      "text/html": [
       "<div>\n",
       "<style scoped>\n",
       "    .dataframe tbody tr th:only-of-type {\n",
       "        vertical-align: middle;\n",
       "    }\n",
       "\n",
       "    .dataframe tbody tr th {\n",
       "        vertical-align: top;\n",
       "    }\n",
       "\n",
       "    .dataframe thead th {\n",
       "        text-align: right;\n",
       "    }\n",
       "</style>\n",
       "<table border=\"1\" class=\"dataframe\">\n",
       "  <thead>\n",
       "    <tr style=\"text-align: right;\">\n",
       "      <th></th>\n",
       "      <th>Company</th>\n",
       "      <th>Valuation</th>\n",
       "      <th>Date Joined</th>\n",
       "      <th>Industry</th>\n",
       "      <th>City</th>\n",
       "      <th>Country/Region</th>\n",
       "      <th>Continent</th>\n",
       "      <th>Year Founded</th>\n",
       "      <th>Funding</th>\n",
       "      <th>Select Investors</th>\n",
       "      <th>Years To Unicorn</th>\n",
       "    </tr>\n",
       "  </thead>\n",
       "  <tbody>\n",
       "    <tr>\n",
       "      <th>385</th>\n",
       "      <td>BrewDog</td>\n",
       "      <td>2</td>\n",
       "      <td>2017-04-10</td>\n",
       "      <td>Consumer &amp; retail</td>\n",
       "      <td>Aberdeen</td>\n",
       "      <td>United Kingdom</td>\n",
       "      <td>Europe</td>\n",
       "      <td>2007</td>\n",
       "      <td>$233M</td>\n",
       "      <td>TSG Consumer Partners, Crowdcube</td>\n",
       "      <td>10</td>\n",
       "    </tr>\n",
       "    <tr>\n",
       "      <th>386</th>\n",
       "      <td>BrewDog</td>\n",
       "      <td>2</td>\n",
       "      <td>2017-04-10</td>\n",
       "      <td>Consumer &amp; retail</td>\n",
       "      <td>Aberdeen</td>\n",
       "      <td>UnitedKingdom</td>\n",
       "      <td>Europe</td>\n",
       "      <td>2007</td>\n",
       "      <td>$233M</td>\n",
       "      <td>TSG Consumer Partners</td>\n",
       "      <td>10</td>\n",
       "    </tr>\n",
       "    <tr>\n",
       "      <th>510</th>\n",
       "      <td>ZocDoc</td>\n",
       "      <td>2</td>\n",
       "      <td>2015-08-20</td>\n",
       "      <td>Health</td>\n",
       "      <td>New York</td>\n",
       "      <td>United States</td>\n",
       "      <td>North America</td>\n",
       "      <td>2007</td>\n",
       "      <td>$374M</td>\n",
       "      <td>Founders Fund, Khosla Ventures, Goldman Sachs</td>\n",
       "      <td>8</td>\n",
       "    </tr>\n",
       "    <tr>\n",
       "      <th>511</th>\n",
       "      <td>ZocDoc</td>\n",
       "      <td>2</td>\n",
       "      <td>2015-08-20</td>\n",
       "      <td>Health</td>\n",
       "      <td>NaN</td>\n",
       "      <td>United States</td>\n",
       "      <td>North America</td>\n",
       "      <td>2007</td>\n",
       "      <td>$374M</td>\n",
       "      <td>Founders Fund</td>\n",
       "      <td>8</td>\n",
       "    </tr>\n",
       "    <tr>\n",
       "      <th>1031</th>\n",
       "      <td>SoundHound</td>\n",
       "      <td>1</td>\n",
       "      <td>2018-05-03</td>\n",
       "      <td>Artificial intelligence</td>\n",
       "      <td>Santa Clara</td>\n",
       "      <td>United States</td>\n",
       "      <td>North America</td>\n",
       "      <td>2005</td>\n",
       "      <td>$215M</td>\n",
       "      <td>Tencent Holdings, Walden Venture Capital, Glob...</td>\n",
       "      <td>13</td>\n",
       "    </tr>\n",
       "    <tr>\n",
       "      <th>1032</th>\n",
       "      <td>SoundHound</td>\n",
       "      <td>1</td>\n",
       "      <td>2018-05-03</td>\n",
       "      <td>Other</td>\n",
       "      <td>Santa Clara</td>\n",
       "      <td>United States</td>\n",
       "      <td>North America</td>\n",
       "      <td>2005</td>\n",
       "      <td>$215M</td>\n",
       "      <td>Tencent Holdings</td>\n",
       "      <td>13</td>\n",
       "    </tr>\n",
       "  </tbody>\n",
       "</table>\n",
       "</div>"
      ],
      "text/plain": [
       "         Company  Valuation Date Joined                 Industry         City  \\\n",
       "385      BrewDog          2  2017-04-10        Consumer & retail     Aberdeen   \n",
       "386      BrewDog          2  2017-04-10        Consumer & retail     Aberdeen   \n",
       "510       ZocDoc          2  2015-08-20                   Health     New York   \n",
       "511       ZocDoc          2  2015-08-20                   Health          NaN   \n",
       "1031  SoundHound          1  2018-05-03  Artificial intelligence  Santa Clara   \n",
       "1032  SoundHound          1  2018-05-03                    Other  Santa Clara   \n",
       "\n",
       "      Country/Region      Continent  Year Founded Funding  \\\n",
       "385   United Kingdom         Europe          2007   $233M   \n",
       "386    UnitedKingdom         Europe          2007   $233M   \n",
       "510    United States  North America          2007   $374M   \n",
       "511    United States  North America          2007   $374M   \n",
       "1031   United States  North America          2005   $215M   \n",
       "1032   United States  North America          2005   $215M   \n",
       "\n",
       "                                       Select Investors  Years To Unicorn  \n",
       "385                    TSG Consumer Partners, Crowdcube                10  \n",
       "386                               TSG Consumer Partners                10  \n",
       "510       Founders Fund, Khosla Ventures, Goldman Sachs                 8  \n",
       "511                                       Founders Fund                 8  \n",
       "1031  Tencent Holdings, Walden Venture Capital, Glob...                13  \n",
       "1032                                   Tencent Holdings                13  "
      ]
     },
     "execution_count": 43,
     "metadata": {},
     "output_type": "execute_result"
    }
   ],
   "source": [
    "# Isolate rows of all companies that have duplicates\n",
    "\n",
    "companies[companies.duplicated(subset=['Company'], keep=False)]\n",
    "\n"
   ]
  },
  {
   "cell_type": "markdown",
   "metadata": {},
   "source": [
    "**Question: Do these duplicated companies seem like legitimate data points, or are they problematic data?**\n"
   ]
  },
  {
   "cell_type": "markdown",
   "metadata": {},
   "source": [
    "The duplicated companies don't seem legitimate. They appear to be repeated entries of the same company with minor variations, rather than different companies with the same name."
   ]
  },
  {
   "cell_type": "markdown",
   "metadata": {},
   "source": [
    "Keep the first occurrence of each duplicate company and drop the subsequent rows that are copies."
   ]
  },
  {
   "cell_type": "code",
   "execution_count": 44,
   "metadata": {},
   "outputs": [],
   "source": [
    "# Drop rows of duplicate companies after their first occurrence\n",
    "\n",
    "companies=companies.drop_duplicates(subset=['Company'],keep='first')"
   ]
  },
  {
   "cell_type": "markdown",
   "metadata": {},
   "source": [
    "**Question: Why is it important to perform input validation?**\n"
   ]
  },
  {
   "cell_type": "markdown",
   "metadata": {},
   "source": [
    "Input validation is an important practice because it ensures that data is complete, consistent, and of high quality. It is an iterative process that can be performed at any stage of the exploratory data analysis (EDA) or even between stages. Regular validation is necessary to catch anomalies, ensure data integrity, and maintain dependability throughout the project. This process helps identify and correct errors, missing values, or inconsistencies, preventing incorrect or misleading analysis. Additionally, input validation safeguards the data against any unauthorized tampering during analysis or other tasks within the workflow."
   ]
  },
  {
   "cell_type": "markdown",
   "metadata": {},
   "source": [
    "**Question: What steps did you take to perform input validation for this dataset?**\n"
   ]
  },
  {
   "cell_type": "markdown",
   "metadata": {},
   "source": [
    "To perform input validation for this dataset, I took the following steps:\n",
    "\n",
    "- First, I converted the Date Joined column from an object dtype to a datetime object, ensuring the dates were in the correct format and enabling date-related operations.\n",
    "- I also ensured that the Years To Unicorn field did not contain any negative values, as negative values would imply anomalous insights, such as a company achieving unicorn status before being founded.\n",
    "- I then reviewed the Industry column for any discrepancies between the values in the original dataset and the approved list provided by the company. - I corrected any text casing differences and replaced the incorrect values with the appropriate entries from the list.\n",
    "- Lastly, I detected and removed duplicate entries based on the Company field, retaining only the first occurrence, which I considered the original."
   ]
  },
  {
   "cell_type": "markdown",
   "metadata": {},
   "source": [
    "### Convert numerical data to categorical data\n",
    "\n",
    "Sometimes, you'll want to simplify a numeric column by converting it to a categorical column. To do this, one common approach is to break the range of possible values into a defined number of equally sized bins and assign each bin a name. In the next step, you'll practice this process."
   ]
  },
  {
   "cell_type": "markdown",
   "metadata": {},
   "source": [
    "#### Create a `High Valuation` column\n",
    "\n",
    "The data in the `Valuation` column represents how much money (in billions, USD) each company is valued at. Use the `Valuation` column to create a new column called `High Valuation`. For each company, the value in this column should be `low` if the company is in the bottom 50% of company valuations and `high` if the company is in the top 50%."
   ]
  },
  {
   "cell_type": "code",
   "execution_count": 45,
   "metadata": {},
   "outputs": [],
   "source": [
    "pd.options.mode.copy_on_write = True\n"
   ]
  },
  {
   "cell_type": "code",
   "execution_count": 46,
   "metadata": {},
   "outputs": [],
   "source": [
    "# Create new `High Valuation` column\n",
    "# Use qcut to divide Valuation into 'high' and 'low' Valuation groups\n",
    "\n",
    "companies['High Valuation']=pd.qcut(companies['Valuation'],q=2,labels=['low','high'])"
   ]
  },
  {
   "cell_type": "markdown",
   "metadata": {},
   "source": [
    "### Convert categorical data to numerical data\n",
    "\n",
    "Three common methods for changing categorical data to numerical are:\n",
    "\n",
    "1. Label encoding: order matters (ordinal numeric labels)\n",
    "2. Label encoding: order doesn't matter (nominal numeric labels)\n",
    "3. Dummy encoding: order doesn't matter (creation of binary columns for each possible category contained in the variable)\n",
    "\n",
    "The decision on which method to use depends on the context and must be made on a case-to-case basis. However, a distinction is typically made between categorical variables with equal weight given to all possible categories vs. variables with a hierarchical structure of importance to their possible categories.  \n",
    "\n",
    "For example, a variable called `subject` might have possible values of `history`, `mathematics`, `literature`. In this case, each subject might be **nominal**&mdash;given the same level of importance. However, you might have another variable called `class`, whose possible values are `freshman`, `sophomore`, `junior`, `senior`. In this case, the class variable is **ordinal**&mdash;its values have an ordered, hierarchical structure of importance. \n",
    "\n",
    "Machine learning models typically need all data to be numeric, and they generally use ordinal label encoding (method 1) and dummy encoding (method 3). \n",
    "\n",
    "In the next steps, you'll convert the following variables: `Continent`, `Country/Region`, and `Industry`, each using a different approach."
   ]
  },
  {
   "cell_type": "markdown",
   "metadata": {},
   "source": [
    "When to Use Which:\n",
    "Use ordinal or nominal label encoding (cat.codes) when numeric representation is required:\n",
    "\n",
    "cat.codes can be used for both ordinal and nominal data. For ordinal data, it assigns numeric codes based on the order of categories (e.g., Low, Medium, High). For nominal data, it assigns unique numeric codes without implying any meaningful order. However, note that the order of categories might still influence the numeric labels assigned, and this depends on how the machine learning model interprets the data. Some models may treat these numeric labels as a meaningful ordinal relationship (like in linear models), while others (like tree-based models) may interpret them as distinct categories without implying order.\n",
    "Use nominal label encoding (LabelEncoder) when the order doesn't matter but numeric representation is required:\n",
    "\n",
    "LabelEncoder is typically used for nominal data, where categories have no inherent order (e.g., Country, Region). It assigns unique numeric labels to each category without implying any ranking or hierarchy.\n",
    "Use dummy encoding (get_dummies() or OneHotEncoder) when the order doesn't matter and you want to avoid introducing unnecessary ordinal relationships:\n",
    "\n",
    "Dummy encoding creates separate binary columns for each category, ensuring that no ordinal relationship is introduced. This is useful for models that don't natively handle categorical variables, especially when you need to avoid imposing any artificial hierarchy."
   ]
  },
  {
   "cell_type": "markdown",
   "metadata": {},
   "source": [
    "### Convert `Continent` to numeric\n",
    "\n",
    "For the purposes of this exercise, suppose that the investment group has specified that they want to give more weight to continents with fewer unicorn companies because they believe this could indicate unrealized market potential. "
   ]
  },
  {
   "cell_type": "markdown",
   "metadata": {},
   "source": [
    "**Question: Which type of variable would this make the `Continent` variable in terms of how it would be converted to a numeric data type?**\n"
   ]
  },
  {
   "cell_type": "markdown",
   "metadata": {},
   "source": [
    "The Continent variable would be considered an ordinal variable when converted to a numeric data type. This is because there is a hierarchy or ranking associated with the continents based on the number of unicorn companies they have. For example, continents with fewer unicorn companies may be considered less important in the context of this analysis, creating a meaningful order or ranking. Therefore, when assigning numeric values to the Continent column, the order of these numbers would reflect the importance of each continent."
   ]
  },
  {
   "cell_type": "markdown",
   "metadata": {},
   "source": [
    "Rank the continents in descending order from the greatest number of unicorn companies to the least."
   ]
  },
  {
   "cell_type": "code",
   "execution_count": 47,
   "metadata": {},
   "outputs": [
    {
     "data": {
      "text/plain": [
       "Continent\n",
       "North America    586\n",
       "Asia             310\n",
       "Europe           143\n",
       "South America     21\n",
       "Oceania            8\n",
       "Africa             3\n",
       "Name: count, dtype: int64"
      ]
     },
     "execution_count": 47,
     "metadata": {},
     "output_type": "execute_result"
    }
   ],
   "source": [
    "# Rank the continents by number of unicorn companies\n",
    "\n",
    "companies['Continent'].value_counts()"
   ]
  },
  {
   "cell_type": "markdown",
   "metadata": {},
   "source": [
    "Now, create a new column called `Continent Number` that represents the `Continent` column converted to numeric in the order of their number of unicorn companies, where North America is encoded as `1`, through Africa, encoded as `6`."
   ]
  },
  {
   "cell_type": "code",
   "execution_count": 48,
   "metadata": {},
   "outputs": [
    {
     "data": {
      "text/html": [
       "<div>\n",
       "<style scoped>\n",
       "    .dataframe tbody tr th:only-of-type {\n",
       "        vertical-align: middle;\n",
       "    }\n",
       "\n",
       "    .dataframe tbody tr th {\n",
       "        vertical-align: top;\n",
       "    }\n",
       "\n",
       "    .dataframe thead th {\n",
       "        text-align: right;\n",
       "    }\n",
       "</style>\n",
       "<table border=\"1\" class=\"dataframe\">\n",
       "  <thead>\n",
       "    <tr style=\"text-align: right;\">\n",
       "      <th></th>\n",
       "      <th>Company</th>\n",
       "      <th>Valuation</th>\n",
       "      <th>Date Joined</th>\n",
       "      <th>Industry</th>\n",
       "      <th>City</th>\n",
       "      <th>Country/Region</th>\n",
       "      <th>Continent</th>\n",
       "      <th>Year Founded</th>\n",
       "      <th>Funding</th>\n",
       "      <th>Select Investors</th>\n",
       "      <th>Years To Unicorn</th>\n",
       "      <th>High Valuation</th>\n",
       "      <th>Continent Number</th>\n",
       "    </tr>\n",
       "  </thead>\n",
       "  <tbody>\n",
       "    <tr>\n",
       "      <th>0</th>\n",
       "      <td>Bytedance</td>\n",
       "      <td>180</td>\n",
       "      <td>2017-04-07</td>\n",
       "      <td>Artificial intelligence</td>\n",
       "      <td>Beijing</td>\n",
       "      <td>China</td>\n",
       "      <td>Asia</td>\n",
       "      <td>2012</td>\n",
       "      <td>$8B</td>\n",
       "      <td>Sequoia Capital China, SIG Asia Investments, S...</td>\n",
       "      <td>5</td>\n",
       "      <td>high</td>\n",
       "      <td>2</td>\n",
       "    </tr>\n",
       "    <tr>\n",
       "      <th>1</th>\n",
       "      <td>SpaceX</td>\n",
       "      <td>100</td>\n",
       "      <td>2012-12-01</td>\n",
       "      <td>Other</td>\n",
       "      <td>Hawthorne</td>\n",
       "      <td>United States</td>\n",
       "      <td>North America</td>\n",
       "      <td>2002</td>\n",
       "      <td>$7B</td>\n",
       "      <td>Founders Fund, Draper Fisher Jurvetson, Rothen...</td>\n",
       "      <td>10</td>\n",
       "      <td>high</td>\n",
       "      <td>1</td>\n",
       "    </tr>\n",
       "    <tr>\n",
       "      <th>2</th>\n",
       "      <td>SHEIN</td>\n",
       "      <td>100</td>\n",
       "      <td>2018-07-03</td>\n",
       "      <td>E-commerce &amp; direct-to-consumer</td>\n",
       "      <td>Shenzhen</td>\n",
       "      <td>China</td>\n",
       "      <td>Asia</td>\n",
       "      <td>2008</td>\n",
       "      <td>$2B</td>\n",
       "      <td>Tiger Global Management, Sequoia Capital China...</td>\n",
       "      <td>10</td>\n",
       "      <td>high</td>\n",
       "      <td>2</td>\n",
       "    </tr>\n",
       "    <tr>\n",
       "      <th>3</th>\n",
       "      <td>Stripe</td>\n",
       "      <td>95</td>\n",
       "      <td>2014-01-23</td>\n",
       "      <td>Fintech</td>\n",
       "      <td>San Francisco</td>\n",
       "      <td>United States</td>\n",
       "      <td>North America</td>\n",
       "      <td>2010</td>\n",
       "      <td>$2B</td>\n",
       "      <td>Khosla Ventures, LowercaseCapital, capitalG</td>\n",
       "      <td>4</td>\n",
       "      <td>high</td>\n",
       "      <td>1</td>\n",
       "    </tr>\n",
       "    <tr>\n",
       "      <th>4</th>\n",
       "      <td>Klarna</td>\n",
       "      <td>46</td>\n",
       "      <td>2011-12-12</td>\n",
       "      <td>Fintech</td>\n",
       "      <td>Stockholm</td>\n",
       "      <td>Sweden</td>\n",
       "      <td>Europe</td>\n",
       "      <td>2005</td>\n",
       "      <td>$4B</td>\n",
       "      <td>Institutional Venture Partners, Sequoia Capita...</td>\n",
       "      <td>6</td>\n",
       "      <td>high</td>\n",
       "      <td>3</td>\n",
       "    </tr>\n",
       "  </tbody>\n",
       "</table>\n",
       "</div>"
      ],
      "text/plain": [
       "     Company  Valuation Date Joined                         Industry  \\\n",
       "0  Bytedance        180  2017-04-07          Artificial intelligence   \n",
       "1     SpaceX        100  2012-12-01                            Other   \n",
       "2      SHEIN        100  2018-07-03  E-commerce & direct-to-consumer   \n",
       "3     Stripe         95  2014-01-23                          Fintech   \n",
       "4     Klarna         46  2011-12-12                          Fintech   \n",
       "\n",
       "            City Country/Region      Continent  Year Founded Funding  \\\n",
       "0        Beijing          China           Asia          2012     $8B   \n",
       "1      Hawthorne  United States  North America          2002     $7B   \n",
       "2       Shenzhen          China           Asia          2008     $2B   \n",
       "3  San Francisco  United States  North America          2010     $2B   \n",
       "4      Stockholm         Sweden         Europe          2005     $4B   \n",
       "\n",
       "                                    Select Investors  Years To Unicorn  \\\n",
       "0  Sequoia Capital China, SIG Asia Investments, S...                 5   \n",
       "1  Founders Fund, Draper Fisher Jurvetson, Rothen...                10   \n",
       "2  Tiger Global Management, Sequoia Capital China...                10   \n",
       "3        Khosla Ventures, LowercaseCapital, capitalG                 4   \n",
       "4  Institutional Venture Partners, Sequoia Capita...                 6   \n",
       "\n",
       "  High Valuation Continent Number  \n",
       "0           high                2  \n",
       "1           high                1  \n",
       "2           high                2  \n",
       "3           high                1  \n",
       "4           high                3  "
      ]
     },
     "execution_count": 48,
     "metadata": {},
     "output_type": "execute_result"
    }
   ],
   "source": [
    "# Create numeric `Continent Number` column\n",
    "\n",
    "continent_dict={'North America':1,\n",
    "                'Asia':2,\n",
    "                'Europe':3,\n",
    "                'South America':4,\n",
    "                'Ocenia':5,\n",
    "                'Africa':6\n",
    "                }\n",
    "companies['Continent Number']=companies['Continent'].replace(continent_dict)\n",
    "companies.head()"
   ]
  },
  {
   "cell_type": "markdown",
   "metadata": {},
   "source": [
    "### Convert `Country/Region` to numeric\n",
    "\n",
    "Now, suppose that within a given continent, each company's `Country/Region` is given equal importance. For analytical purposes, you want to convert the values in this column to numeric without creating a large number of dummy columns. Use label encoding of this nominal categorical variable to create a new column called `Country/Region Numeric`, wherein each unique `Country/Region` is assigned its own number. "
   ]
  },
  {
   "cell_type": "code",
   "execution_count": 49,
   "metadata": {},
   "outputs": [],
   "source": [
    "# Create `Country/Region Numeric` column\n",
    "# Create numeric categories for Country/Region\n",
    "\n",
    "companies['Country/Region Numeric']=companies['Country/Region'].astype('category').cat.codes"
   ]
  },
  {
   "cell_type": "markdown",
   "metadata": {},
   "source": [
    "cat.codes: Requires conversion to a categorical type first.\n",
    "\n",
    "LabelEncoder: Does not require conversion to a categorical type. It can directly operate on any column with categorical values.\n",
    "\n",
    "Dummy Encoding: Does not require conversion to a categorical type. It works directly with the data and creates dummy/one-hot encoded columns."
   ]
  },
  {
   "cell_type": "markdown",
   "metadata": {},
   "source": [
    "### Convert `Industry` to numeric\n",
    "\n",
    "Finally, create dummy variables for the values in the `Industry` column. "
   ]
  },
  {
   "cell_type": "code",
   "execution_count": 50,
   "metadata": {},
   "outputs": [],
   "source": [
    "# Convert `Industry` to numeric data\n",
    "# Create dummy variables with Industry values\n",
    "\n",
    "industry_encoded = pd.get_dummies(companies['Industry'])\n",
    "\n",
    "\n",
    "# Combine `companies` DataFrame with new dummy Industry columns\n",
    "\n",
    "companies = pd.concat([companies, industry_encoded], axis=1)"
   ]
  },
  {
   "cell_type": "markdown",
   "metadata": {},
   "source": [
    "Display the first few rows of `companies`"
   ]
  },
  {
   "cell_type": "code",
   "execution_count": 51,
   "metadata": {},
   "outputs": [
    {
     "data": {
      "text/html": [
       "<div>\n",
       "<style scoped>\n",
       "    .dataframe tbody tr th:only-of-type {\n",
       "        vertical-align: middle;\n",
       "    }\n",
       "\n",
       "    .dataframe tbody tr th {\n",
       "        vertical-align: top;\n",
       "    }\n",
       "\n",
       "    .dataframe thead th {\n",
       "        text-align: right;\n",
       "    }\n",
       "</style>\n",
       "<table border=\"1\" class=\"dataframe\">\n",
       "  <thead>\n",
       "    <tr style=\"text-align: right;\">\n",
       "      <th></th>\n",
       "      <th>Company</th>\n",
       "      <th>Valuation</th>\n",
       "      <th>Date Joined</th>\n",
       "      <th>Industry</th>\n",
       "      <th>City</th>\n",
       "      <th>Country/Region</th>\n",
       "      <th>Continent</th>\n",
       "      <th>Year Founded</th>\n",
       "      <th>Funding</th>\n",
       "      <th>Select Investors</th>\n",
       "      <th>Years To Unicorn</th>\n",
       "      <th>High Valuation</th>\n",
       "      <th>Continent Number</th>\n",
       "      <th>Country/Region Numeric</th>\n",
       "      <th>Artificial intelligence</th>\n",
       "      <th>Auto &amp; transportation</th>\n",
       "      <th>Consumer &amp; retail</th>\n",
       "      <th>Cybersecurity</th>\n",
       "      <th>Data management &amp; analytics</th>\n",
       "      <th>E-commerce &amp; direct-to-consumer</th>\n",
       "      <th>Edtech</th>\n",
       "      <th>Fintech</th>\n",
       "      <th>Hardware</th>\n",
       "      <th>Health</th>\n",
       "      <th>Internet software &amp; services</th>\n",
       "      <th>Mobile &amp; telecommunications</th>\n",
       "      <th>Other</th>\n",
       "      <th>Supply chain, logistics, &amp; delivery</th>\n",
       "      <th>Travel</th>\n",
       "    </tr>\n",
       "  </thead>\n",
       "  <tbody>\n",
       "    <tr>\n",
       "      <th>0</th>\n",
       "      <td>Bytedance</td>\n",
       "      <td>180</td>\n",
       "      <td>2017-04-07</td>\n",
       "      <td>Artificial intelligence</td>\n",
       "      <td>Beijing</td>\n",
       "      <td>China</td>\n",
       "      <td>Asia</td>\n",
       "      <td>2012</td>\n",
       "      <td>$8B</td>\n",
       "      <td>Sequoia Capital China, SIG Asia Investments, S...</td>\n",
       "      <td>5</td>\n",
       "      <td>high</td>\n",
       "      <td>2</td>\n",
       "      <td>9</td>\n",
       "      <td>True</td>\n",
       "      <td>False</td>\n",
       "      <td>False</td>\n",
       "      <td>False</td>\n",
       "      <td>False</td>\n",
       "      <td>False</td>\n",
       "      <td>False</td>\n",
       "      <td>False</td>\n",
       "      <td>False</td>\n",
       "      <td>False</td>\n",
       "      <td>False</td>\n",
       "      <td>False</td>\n",
       "      <td>False</td>\n",
       "      <td>False</td>\n",
       "      <td>False</td>\n",
       "    </tr>\n",
       "    <tr>\n",
       "      <th>1</th>\n",
       "      <td>SpaceX</td>\n",
       "      <td>100</td>\n",
       "      <td>2012-12-01</td>\n",
       "      <td>Other</td>\n",
       "      <td>Hawthorne</td>\n",
       "      <td>United States</td>\n",
       "      <td>North America</td>\n",
       "      <td>2002</td>\n",
       "      <td>$7B</td>\n",
       "      <td>Founders Fund, Draper Fisher Jurvetson, Rothen...</td>\n",
       "      <td>10</td>\n",
       "      <td>high</td>\n",
       "      <td>1</td>\n",
       "      <td>44</td>\n",
       "      <td>False</td>\n",
       "      <td>False</td>\n",
       "      <td>False</td>\n",
       "      <td>False</td>\n",
       "      <td>False</td>\n",
       "      <td>False</td>\n",
       "      <td>False</td>\n",
       "      <td>False</td>\n",
       "      <td>False</td>\n",
       "      <td>False</td>\n",
       "      <td>False</td>\n",
       "      <td>False</td>\n",
       "      <td>True</td>\n",
       "      <td>False</td>\n",
       "      <td>False</td>\n",
       "    </tr>\n",
       "    <tr>\n",
       "      <th>2</th>\n",
       "      <td>SHEIN</td>\n",
       "      <td>100</td>\n",
       "      <td>2018-07-03</td>\n",
       "      <td>E-commerce &amp; direct-to-consumer</td>\n",
       "      <td>Shenzhen</td>\n",
       "      <td>China</td>\n",
       "      <td>Asia</td>\n",
       "      <td>2008</td>\n",
       "      <td>$2B</td>\n",
       "      <td>Tiger Global Management, Sequoia Capital China...</td>\n",
       "      <td>10</td>\n",
       "      <td>high</td>\n",
       "      <td>2</td>\n",
       "      <td>9</td>\n",
       "      <td>False</td>\n",
       "      <td>False</td>\n",
       "      <td>False</td>\n",
       "      <td>False</td>\n",
       "      <td>False</td>\n",
       "      <td>True</td>\n",
       "      <td>False</td>\n",
       "      <td>False</td>\n",
       "      <td>False</td>\n",
       "      <td>False</td>\n",
       "      <td>False</td>\n",
       "      <td>False</td>\n",
       "      <td>False</td>\n",
       "      <td>False</td>\n",
       "      <td>False</td>\n",
       "    </tr>\n",
       "    <tr>\n",
       "      <th>3</th>\n",
       "      <td>Stripe</td>\n",
       "      <td>95</td>\n",
       "      <td>2014-01-23</td>\n",
       "      <td>Fintech</td>\n",
       "      <td>San Francisco</td>\n",
       "      <td>United States</td>\n",
       "      <td>North America</td>\n",
       "      <td>2010</td>\n",
       "      <td>$2B</td>\n",
       "      <td>Khosla Ventures, LowercaseCapital, capitalG</td>\n",
       "      <td>4</td>\n",
       "      <td>high</td>\n",
       "      <td>1</td>\n",
       "      <td>44</td>\n",
       "      <td>False</td>\n",
       "      <td>False</td>\n",
       "      <td>False</td>\n",
       "      <td>False</td>\n",
       "      <td>False</td>\n",
       "      <td>False</td>\n",
       "      <td>False</td>\n",
       "      <td>True</td>\n",
       "      <td>False</td>\n",
       "      <td>False</td>\n",
       "      <td>False</td>\n",
       "      <td>False</td>\n",
       "      <td>False</td>\n",
       "      <td>False</td>\n",
       "      <td>False</td>\n",
       "    </tr>\n",
       "    <tr>\n",
       "      <th>4</th>\n",
       "      <td>Klarna</td>\n",
       "      <td>46</td>\n",
       "      <td>2011-12-12</td>\n",
       "      <td>Fintech</td>\n",
       "      <td>Stockholm</td>\n",
       "      <td>Sweden</td>\n",
       "      <td>Europe</td>\n",
       "      <td>2005</td>\n",
       "      <td>$4B</td>\n",
       "      <td>Institutional Venture Partners, Sequoia Capita...</td>\n",
       "      <td>6</td>\n",
       "      <td>high</td>\n",
       "      <td>3</td>\n",
       "      <td>38</td>\n",
       "      <td>False</td>\n",
       "      <td>False</td>\n",
       "      <td>False</td>\n",
       "      <td>False</td>\n",
       "      <td>False</td>\n",
       "      <td>False</td>\n",
       "      <td>False</td>\n",
       "      <td>True</td>\n",
       "      <td>False</td>\n",
       "      <td>False</td>\n",
       "      <td>False</td>\n",
       "      <td>False</td>\n",
       "      <td>False</td>\n",
       "      <td>False</td>\n",
       "      <td>False</td>\n",
       "    </tr>\n",
       "  </tbody>\n",
       "</table>\n",
       "</div>"
      ],
      "text/plain": [
       "     Company  Valuation Date Joined                         Industry  \\\n",
       "0  Bytedance        180  2017-04-07          Artificial intelligence   \n",
       "1     SpaceX        100  2012-12-01                            Other   \n",
       "2      SHEIN        100  2018-07-03  E-commerce & direct-to-consumer   \n",
       "3     Stripe         95  2014-01-23                          Fintech   \n",
       "4     Klarna         46  2011-12-12                          Fintech   \n",
       "\n",
       "            City Country/Region      Continent  Year Founded Funding  \\\n",
       "0        Beijing          China           Asia          2012     $8B   \n",
       "1      Hawthorne  United States  North America          2002     $7B   \n",
       "2       Shenzhen          China           Asia          2008     $2B   \n",
       "3  San Francisco  United States  North America          2010     $2B   \n",
       "4      Stockholm         Sweden         Europe          2005     $4B   \n",
       "\n",
       "                                    Select Investors  Years To Unicorn  \\\n",
       "0  Sequoia Capital China, SIG Asia Investments, S...                 5   \n",
       "1  Founders Fund, Draper Fisher Jurvetson, Rothen...                10   \n",
       "2  Tiger Global Management, Sequoia Capital China...                10   \n",
       "3        Khosla Ventures, LowercaseCapital, capitalG                 4   \n",
       "4  Institutional Venture Partners, Sequoia Capita...                 6   \n",
       "\n",
       "  High Valuation Continent Number  Country/Region Numeric  \\\n",
       "0           high                2                       9   \n",
       "1           high                1                      44   \n",
       "2           high                2                       9   \n",
       "3           high                1                      44   \n",
       "4           high                3                      38   \n",
       "\n",
       "   Artificial intelligence  Auto & transportation  Consumer & retail  \\\n",
       "0                     True                  False              False   \n",
       "1                    False                  False              False   \n",
       "2                    False                  False              False   \n",
       "3                    False                  False              False   \n",
       "4                    False                  False              False   \n",
       "\n",
       "   Cybersecurity  Data management & analytics  \\\n",
       "0          False                        False   \n",
       "1          False                        False   \n",
       "2          False                        False   \n",
       "3          False                        False   \n",
       "4          False                        False   \n",
       "\n",
       "   E-commerce & direct-to-consumer  Edtech  Fintech  Hardware  Health  \\\n",
       "0                            False   False    False     False   False   \n",
       "1                            False   False    False     False   False   \n",
       "2                             True   False    False     False   False   \n",
       "3                            False   False     True     False   False   \n",
       "4                            False   False     True     False   False   \n",
       "\n",
       "   Internet software & services  Mobile & telecommunications  Other  \\\n",
       "0                         False                        False  False   \n",
       "1                         False                        False   True   \n",
       "2                         False                        False  False   \n",
       "3                         False                        False  False   \n",
       "4                         False                        False  False   \n",
       "\n",
       "   Supply chain, logistics, & delivery  Travel  \n",
       "0                                False   False  \n",
       "1                                False   False  \n",
       "2                                False   False  \n",
       "3                                False   False  \n",
       "4                                False   False  "
      ]
     },
     "execution_count": 51,
     "metadata": {},
     "output_type": "execute_result"
    }
   ],
   "source": [
    "companies.head()"
   ]
  },
  {
   "cell_type": "markdown",
   "metadata": {},
   "source": [
    "**Question: Which categorical encoding approach did you use for each variable? Why?**"
   ]
  },
  {
   "cell_type": "markdown",
   "metadata": {},
   "source": [
    "For encoding the categorical variables:\n",
    "\n",
    "- Continent: Manual encoding was used to convert the continents into numeric values. This approach established an ordinal relationship based on the perceived hierarchy of importance (e.g., fewer unicorns imply lesser importance). The continents were not first converted into categories, but were directly mapped to numeric values.\n",
    "\n",
    "- Country/Region: The .cat.codes method was used to encode the Country/Region variable. This method requires the column to be converted into a category type first, which was done here. It created numeric labels for each unique category, but whether this encoding is treated as ordinal depends on the machine learning model used, as it doesn’t inherently establish order.\n",
    "\n",
    "- Industry: Dummy encoding was used here to create binary columns for each unique category in the Industry column. Since the industries were considered to have no inherent order, this encoding ensures no ordinal relationship is implied. The resulting dummy-encoded columns were concatenated with the original dataframe."
   ]
  },
  {
   "cell_type": "markdown",
   "metadata": {},
   "source": [
    "**Question: How does label encoding change the data?**\n"
   ]
  },
  {
   "cell_type": "markdown",
   "metadata": {},
   "source": [
    "Label encoding changes the data by assigning each category a unique number, converting qualitative categorical data into numerical format. This transformation makes the data suitable for machine learning models, which typically require numerical inputs. Label encoding also simplifies data visualization and analysis, as numerical data can be more easily represented in charts and graphs. However, it's important to be cautious with label encoding for nominal data, as it might unintentionally introduce an ordinal relationship if the categories are interpreted as having a meaningful order."
   ]
  },
  {
   "cell_type": "markdown",
   "metadata": {},
   "source": [
    "**Question: What are the benefits of label encoding?**\n"
   ]
  },
  {
   "cell_type": "markdown",
   "metadata": {},
   "source": [
    "Label encoding has several benefits:\n",
    "\n",
    "- Compatibility with Machine Learning Models: Many machine learning algorithms require numeric inputs, and label encoding transforms categorical variables into numerical values, making the data compatible with such models.\n",
    "\n",
    "- Data Processing: Label encoding simplifies the processing of categorical data, as machine learning models can perform mathematical operations more easily on numerical data.\n",
    "\n",
    "- Efficiency: It is a simple and computationally efficient technique, especially when the number of categories is not too large.\n",
    "\n",
    "- Easy Visualization: Converted numerical values allow for easier plotting and interpretation, as categorical data is transformed into a form that can be visualized in graphs or charts.\n",
    "\n",
    "However, for nominal data, care must be taken to ensure that the numeric encoding doesn't imply an unintended ordinal relationship."
   ]
  },
  {
   "cell_type": "markdown",
   "metadata": {},
   "source": [
    "**Question: What are the disadvantages of label encoding?**\n"
   ]
  },
  {
   "cell_type": "markdown",
   "metadata": {},
   "source": [
    "Label encoding has the following disadvantages:\n",
    "\n",
    "- Unintended Ordinality: If label encoding is applied to nominal (non-ordered) categories, it can introduce a false sense of ordinality. This means that the model might interpret the encoded numbers as having some order or ranking, which may not actually exist between the categories.\n",
    "\n",
    "- Difficulty in Interpretation: After label encoding, the categories are represented by numbers, which can make it harder to directly interpret the meaning of the values. For example, \"red\", \"green\", and \"blue\" might be encoded as 1, 2, and 3, but it becomes unclear what these numbers represent without referencing the original category labels.\n",
    "\n",
    "- Impact on Algorithms: Some machine learning algorithms (like linear regression) may treat encoded numerical values as continuous variables, which could be misleading if the data is nominal. For example, assigning \"1\" to \"North\" and \"2\" to \"South\" may incorrectly imply a numeric relationship that doesn't exist between the two.\n",
    "\n",
    "- Scalability: Label encoding can become problematic when dealing with a large number of unique categories, as it still assigns a unique number to each category, which can increase computational complexity."
   ]
  },
  {
   "cell_type": "markdown",
   "metadata": {},
   "source": [
    "## Conclusion\n",
    "\n",
    "**What are some key takeaways that you learned during this lab?**"
   ]
  },
  {
   "cell_type": "markdown",
   "metadata": {},
   "source": [
    "Key Takeaways from this Lab:\n",
    "\n",
    "- Input Validation: I learned the importance of input validation in ensuring that data is accurate, complete, and free of errors. This is essential for achieving high-quality analysis and results.\n",
    "\n",
    "- Trial and Error Process: I also discovered that input validation requires an iterative process of identifying issues and choosing the most effective methods for fixing them.\n",
    "\n",
    "- Label Encoding vs. Dummy Encoding: The lab highlighted the benefits and drawbacks of label encoding and dummy/one-hot encoding. Both methods have their place depending on the type of data and the analysis being performed.\n",
    "\n",
    "- Decision-Making in Encoding: I understood that the decision to use label encoding or dummy encoding should be based on the specific context and nature of the categorical data at hand.\n",
    "\n",
    "- Data Cleaning and Validation: Through this lab, I gained hands-on experience in cleaning and validating datasets, including handling missing or inconsistent data, checking for duplicates, and encoding categorical variables for machine learning or further analysis.\n"
   ]
  },
  {
   "cell_type": "markdown",
   "metadata": {},
   "source": [
    "**Reference**\n",
    "\n",
    "[Bhat, M.A. *Unicorn Companies*](https://www.kaggle.com/datasets/mysarahmadbhat/unicorn-companies)\n",
    "\n"
   ]
  }
 ],
 "metadata": {
  "kernelspec": {
   "display_name": ".venv",
   "language": "python",
   "name": "python3"
  },
  "language_info": {
   "codemirror_mode": {
    "name": "ipython",
    "version": 3
   },
   "file_extension": ".py",
   "mimetype": "text/x-python",
   "name": "python",
   "nbconvert_exporter": "python",
   "pygments_lexer": "ipython3",
   "version": "3.13.0"
  }
 },
 "nbformat": 4,
 "nbformat_minor": 2
}
