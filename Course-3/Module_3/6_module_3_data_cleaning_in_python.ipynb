{
 "cells": [
  {
   "cell_type": "markdown",
   "metadata": {},
   "source": [
    "# Missing Data"
   ]
  },
  {
   "cell_type": "markdown",
   "metadata": {},
   "source": [
    "## Overview"
   ]
  },
  {
   "cell_type": "markdown",
   "metadata": {},
   "source": [
    "The following pandas functions and methods are helpful when dealing with missing data.\n"
   ]
  },
  {
   "cell_type": "code",
   "execution_count": 1,
   "metadata": {},
   "outputs": [],
   "source": [
    "import pandas as pd\n",
    "import numpy as np\n",
    "from sklearn.preprocessing import LabelEncoder\n"
   ]
  },
  {
   "cell_type": "markdown",
   "metadata": {},
   "source": [
    "### 1. `df.info()`\n",
    "**Description**: A DataFrame method that returns a concise summary of the dataframe, including a ‘non-null count,’ which helps you know the number of missing values.\n",
    "\n",
    "#### Example:\n",
    "\n"
   ]
  },
  {
   "cell_type": "code",
   "execution_count": 2,
   "metadata": {},
   "outputs": [],
   "source": [
    "\n",
    "data = {\n",
    "    'planet': ['Mercury', 'Venus', 'Earth', 'Mars', 'Jupiter', 'Saturn', 'Uranus', 'Neptune'],\n",
    "    'radius_km': [2440, 6052, 6371, 3390, 69911, 58232, 25362, 24622],\n",
    "    'moons': [0, 0, 1, 2, 80, 83, 27, 14]\n",
    "}\n"
   ]
  },
  {
   "cell_type": "markdown",
   "metadata": {},
   "source": [
    "df = pd.DataFrame(data)\n",
    "print(df)\n",
    "print()\n",
    "df.info()"
   ]
  },
  {
   "cell_type": "markdown",
   "metadata": {},
   "source": [
    "### 2. `df.isna()` / `df.isnull()`\n",
    "**Description**: A pandas function that returns a same-sized Boolean array indicating whether each value is null (you can also use `pd.isnull()` as an alias). This function also exists as a DataFrame method.\n",
    "\n",
    "#### Example:\n"
   ]
  },
  {
   "cell_type": "code",
   "execution_count": 3,
   "metadata": {},
   "outputs": [],
   "source": [
    "data = {\n",
    "    'Planet': ['Mercury', 'Venus', 'Earth', 'Mars', 'Jupiter', 'Saturn', 'Uranus', 'Neptune'],\n",
    "    'radius_km': [2440, 6052, 6371, 3390, 69911, 58232, 25362, 24622],\n",
    "    'moons': [np.nan, np.nan, 1, np.nan, 80, 83, 27, 14]\n",
    "}"
   ]
  },
  {
   "cell_type": "code",
   "execution_count": 4,
   "metadata": {},
   "outputs": [
    {
     "name": "stdout",
     "output_type": "stream",
     "text": [
      "    Planet  radius_km  moons\n",
      "0  Mercury       2440    NaN\n",
      "1    Venus       6052    NaN\n",
      "2    Earth       6371    1.0\n",
      "3     Mars       3390    NaN\n",
      "4  Jupiter      69911   80.0\n",
      "5   Saturn      58232   83.0\n",
      "6   Uranus      25362   27.0\n",
      "7  Neptune      24622   14.0\n",
      "\n",
      " After pd.isnull(): \n",
      "\n",
      "   Planet  radius_km  moons\n",
      "0   False      False   True\n",
      "1   False      False   True\n",
      "2   False      False  False\n",
      "3   False      False   True\n",
      "4   False      False  False\n",
      "5   False      False  False\n",
      "6   False      False  False\n",
      "7   False      False  False\n"
     ]
    }
   ],
   "source": [
    "\n",
    "df = pd.DataFrame(data)\n",
    "print(df)\n",
    "print('\\n After pd.isnull(): \\n')\n",
    "print(pd.isnull(df))"
   ]
  },
  {
   "cell_type": "markdown",
   "metadata": {},
   "source": [
    "### 3. `pd.notna()` / `df.notnull()`\n",
    "**Description**: A pandas function that returns a same-sized Boolean array indicating whether each value is **NOT null** (you can also use `pd.notnull()` as an alias). This function also exists as a DataFrame method.\n",
    "\n",
    "#### Example:"
   ]
  },
  {
   "cell_type": "code",
   "execution_count": 5,
   "metadata": {},
   "outputs": [
    {
     "name": "stdout",
     "output_type": "stream",
     "text": [
      "    Planet  radius_km  moons\n",
      "0  Mercury       2440    NaN\n",
      "1    Venus       6052    NaN\n",
      "2    Earth       6371    1.0\n",
      "3     Mars       3390    NaN\n",
      "4  Jupiter      69911   80.0\n",
      "5   Saturn      58232   83.0\n",
      "6   Uranus      25362   27.0\n",
      "7  Neptune      24622   14.0\n",
      "\n",
      " After pd.notnull(): \n",
      "\n",
      "   Planet  radius_km  moons\n",
      "0    True       True  False\n",
      "1    True       True  False\n",
      "2    True       True   True\n",
      "3    True       True  False\n",
      "4    True       True   True\n",
      "5    True       True   True\n",
      "6    True       True   True\n",
      "7    True       True   True\n"
     ]
    }
   ],
   "source": [
    "print(df)\n",
    "print('\\n After pd.notnull(): \\n')\n",
    "print(pd.notnull(df))"
   ]
  },
  {
   "cell_type": "markdown",
   "metadata": {},
   "source": [
    "### 4. `df.fillna()`\n",
    "**Description**: A DataFrame method that fills in missing values using a specified method.\n",
    "\n",
    "#### Example:"
   ]
  },
  {
   "cell_type": "code",
   "execution_count": 6,
   "metadata": {},
   "outputs": [],
   "source": [
    "animal_data = {\n",
    "    'animal': ['cardinal', 'gecko', 'raven'],\n",
    "    'class': ['Aves', 'Reptilia', 'Aves'],\n",
    "    'color': ['red', 'green', 'black'],\n",
    "    'legs': [np.nan, 4, np.nan]\n",
    "}"
   ]
  },
  {
   "cell_type": "code",
   "execution_count": 7,
   "metadata": {},
   "outputs": [
    {
     "name": "stdout",
     "output_type": "stream",
     "text": [
      "     animal     class  color  legs\n",
      "0  cardinal      Aves    red   NaN\n",
      "1     gecko  Reptilia  green   4.0\n",
      "2     raven      Aves  black   NaN\n",
      "\n",
      " After fillna(): \n",
      "\n",
      "     animal     class  color  legs\n",
      "0  cardinal      Aves    red   2.0\n",
      "1     gecko  Reptilia  green   4.0\n",
      "2     raven      Aves  black   2.0\n"
     ]
    }
   ],
   "source": [
    "animal_df = pd.DataFrame(animal_data)\n",
    "print(animal_df)\n",
    "print('\\n After fillna(): \\n')\n",
    "print(animal_df.fillna(2))"
   ]
  },
  {
   "cell_type": "markdown",
   "metadata": {},
   "source": [
    "### 5. `df.replace()`\n",
    "**Description**: A DataFrame method that replaces specified values with other specified values. Can also be applied to pandas Series.\n",
    "\n",
    "#### Example:"
   ]
  },
  {
   "cell_type": "code",
   "execution_count": 8,
   "metadata": {},
   "outputs": [
    {
     "name": "stdout",
     "output_type": "stream",
     "text": [
      "     animal     class  color  legs\n",
      "0  cardinal      Aves    red   NaN\n",
      "1     gecko  Reptilia  green   4.0\n",
      "2     raven      Aves  black   NaN\n",
      "\n",
      " After replace(): \n",
      "\n",
      "     animal     class  color  legs\n",
      "0  cardinal      bird    red   NaN\n",
      "1     gecko  Reptilia  green   4.0\n",
      "2     raven      bird  black   NaN\n"
     ]
    }
   ],
   "source": [
    "print(animal_df)\n",
    "print('\\n After replace(): \\n')\n",
    "print(animal_df.replace('Aves', 'bird'))"
   ]
  },
  {
   "cell_type": "markdown",
   "metadata": {},
   "source": [
    "### 6. `df.dropna()`\n",
    "**Description**: A DataFrame method that removes rows or columns that contain missing values, depending on the axis you specify.\n",
    "\n",
    "#### Example:"
   ]
  },
  {
   "cell_type": "code",
   "execution_count": 10,
   "metadata": {},
   "outputs": [],
   "source": [
    "missing_data = {\n",
    "    'animal': [np.nan, 'gecko', 'raven'],\n",
    "    'class': ['Aves', 'Reptilia', 'Aves'],\n",
    "    'color': ['red', 'green', np.nan],\n",
    "    'legs': [2, 4, 2]\n",
    "}"
   ]
  },
  {
   "cell_type": "code",
   "execution_count": 11,
   "metadata": {},
   "outputs": [
    {
     "name": "stdout",
     "output_type": "stream",
     "text": [
      "Original df: \n",
      "\n",
      "   animal     class  color  legs\n",
      "0    NaN      Aves    red     2\n",
      "1  gecko  Reptilia  green     4\n",
      "2  raven      Aves    NaN     2\n",
      "\n",
      " After dropna(axis=0): \n",
      "\n",
      "  animal     class  color  legs\n",
      "1  gecko  Reptilia  green     4\n",
      "\n",
      " After dropna(axis=1): \n",
      "\n",
      "      class  legs\n",
      "0      Aves     2\n",
      "1  Reptilia     4\n",
      "2      Aves     2\n"
     ]
    }
   ],
   "source": [
    "missing_df = pd.DataFrame(missing_data)\n",
    "print('Original df: \\n\\n', missing_df)\n",
    "print('\\n After dropna(axis=0): \\n')\n",
    "print(missing_df.dropna(axis=0))\n",
    "\n",
    "print('\\n After dropna(axis=1): \\n')\n",
    "print(missing_df.dropna(axis=1))"
   ]
  },
  {
   "cell_type": "markdown",
   "metadata": {},
   "source": [
    "# Outliers\n",
    "\n",
    "### 1. `df.describe()`\n",
    "**Description**: A DataFrame method that returns general statistics about the dataframe, which can help determine outliers.\n",
    "\n",
    "#### Example:"
   ]
  },
  {
   "cell_type": "code",
   "execution_count": 12,
   "metadata": {},
   "outputs": [
    {
     "name": "stdout",
     "output_type": "stream",
     "text": [
      "    Planet  radius_km  moons\n",
      "0  Mercury       2440    NaN\n",
      "1    Venus       6052    NaN\n",
      "2    Earth       6371    1.0\n",
      "3     Mars       3390    NaN\n",
      "4  Jupiter      69911   80.0\n",
      "5   Saturn      58232   83.0\n",
      "6   Uranus      25362   27.0\n",
      "7  Neptune      24622   14.0\n",
      "\n",
      "          radius_km      moons\n",
      "count      8.000000   5.000000\n",
      "mean   24547.500000  41.000000\n",
      "std    26191.633528  38.111678\n",
      "min     2440.000000   1.000000\n",
      "25%     5386.500000  14.000000\n",
      "50%    15496.500000  27.000000\n",
      "75%    33579.500000  80.000000\n",
      "max    69911.000000  83.000000\n"
     ]
    }
   ],
   "source": [
    "print(df)\n",
    "print()\n",
    "print(df.describe())"
   ]
  },
  {
   "cell_type": "markdown",
   "metadata": {},
   "source": [
    "### 2. `sns.boxplot()`\n",
    "**Description**: A seaborn function that generates a box plot. Data points beyond 1.5x the interquartile range are considered outliers.\n",
    "\n",
    "#### Example:"
   ]
  },
  {
   "cell_type": "code",
   "execution_count": 13,
   "metadata": {},
   "outputs": [
    {
     "data": {
      "image/png": "[encoded data removed]",
      "text/plain": [
       "<Figure size 640x480 with 1 Axes>"
      ]
     },
     "metadata": {},
     "output_type": "display_data"
    }
   ],
   "source": [
    "import seaborn as sns\n",
    "import matplotlib.pyplot as plt\n",
    "\n",
    "sns.boxplot(data=df, x='moons')\n",
    "plt.show()"
   ]
  },
  {
   "cell_type": "markdown",
   "metadata": {},
   "source": [
    "# Label Encoding\n",
    "\n",
    "### 1. `df.astype()`\n",
    "**Description**: A DataFrame method that allows you to encode its data as a specified dtype. This method can also be used on Series objects.\n",
    "\n",
    "#### Example:"
   ]
  },
  {
   "cell_type": "code",
   "execution_count": 14,
   "metadata": {},
   "outputs": [
    {
     "name": "stdout",
     "output_type": "stream",
     "text": [
      "     animal     class  color  legs\n",
      "0  cardinal      Aves    red   NaN\n",
      "1     gecko  Reptilia  green   4.0\n",
      "2     raven      Aves  black   NaN\n",
      "\n",
      " Original dtypes of df: \n",
      "\n",
      "animal     object\n",
      "class      object\n",
      "color      object\n",
      "legs      float64\n",
      "dtype: object\n",
      "\n",
      " dtypes after casting 'class' column as categorical: \n",
      "\n",
      "animal      object\n",
      "class     category\n",
      "color       object\n",
      "legs       float64\n",
      "dtype: object\n"
     ]
    }
   ],
   "source": [
    "print(animal_df)\n",
    "print('\\n Original dtypes of df: \\n')\n",
    "print(animal_df.dtypes)\n",
    "\n",
    "animal_df['class'] = animal_df['class'].astype('category')\n",
    "print('\\n dtypes after casting \\'class\\' column as categorical: \\n')\n",
    "print(animal_df.dtypes)"
   ]
  },
  {
   "cell_type": "markdown",
   "metadata": {},
   "source": [
    "### 2. `Series.cat.codes`\n",
    "**Description**: A Series attribute that returns the numeric category codes of the series.\n",
    "\n",
    "#### Example:"
   ]
  },
  {
   "cell_type": "code",
   "execution_count": 15,
   "metadata": {},
   "outputs": [
    {
     "name": "stdout",
     "output_type": "stream",
     "text": [
      "\n",
      " 'class' column: \n",
      "\n",
      "0        Aves\n",
      "1    Reptilia\n",
      "2        Aves\n",
      "Name: class, dtype: category\n",
      "Categories (2, object): ['Aves', 'Reptilia']\n",
      "\n",
      " Category codes of 'class' column: \n",
      "\n",
      "0    0\n",
      "1    1\n",
      "2    0\n",
      "dtype: int8\n"
     ]
    }
   ],
   "source": [
    "print('\\n \\'class\\' column: \\n')\n",
    "print(animal_df['class'])\n",
    "\n",
    "print('\\n Category codes of \\'class\\' column: \\n')\n",
    "print(animal_df['class'].cat.codes)"
   ]
  },
  {
   "cell_type": "markdown",
   "metadata": {},
   "source": [
    "\n",
    "### 3. `get_dummies()`\n",
    "**Description**: Converts categorical values into new binary columns—one for each different category.\n",
    "\n",
    "#### Example:"
   ]
  },
  {
   "cell_type": "code",
   "execution_count": 16,
   "metadata": {},
   "outputs": [
    {
     "name": "stdout",
     "output_type": "stream",
     "text": [
      "    Aves  Reptilia\n",
      "0   True     False\n",
      "1  False      True\n",
      "2   True     False\n"
     ]
    }
   ],
   "source": [
    "dummies = pd.get_dummies(animal_df['class'])\n",
    "print(dummies)"
   ]
  },
  {
   "cell_type": "markdown",
   "metadata": {},
   "source": [
    "### 4. `LabelEncoder()`\n",
    "**Description**: A transformer from `sklearn.preprocessing` that encodes specified categories or labels with numeric codes. Useful for normalizing labels or converting categorical labels into numeric.\n",
    "\n",
    "#### Example:"
   ]
  },
  {
   "cell_type": "code",
   "execution_count": 17,
   "metadata": {},
   "outputs": [],
   "source": [
    "# Instantiate LabelEncoder()\n",
    "encoder = LabelEncoder()"
   ]
  },
  {
   "cell_type": "code",
   "execution_count": 18,
   "metadata": {},
   "outputs": [
    {
     "name": "stdout",
     "output_type": "stream",
     "text": [
      "Data = ['paris', 'paris', 'tokyo', 'amsterdam']\n",
      "\n",
      " Classes: \n",
      " ['amsterdam' 'paris' 'tokyo']\n",
      "\n",
      " Encoded (normalized) classes: \n",
      " [1 1 2 0]\n",
      "\n",
      " Reverse from encoded classes to original: \n",
      " ['paris' 'paris' 'tokyo' 'amsterdam']\n"
     ]
    }
   ],
   "source": [
    "\n",
    "data = ['paris', 'paris', 'tokyo', 'amsterdam']\n",
    "\n",
    "# Fit to the data\n",
    "encoder.fit(data)\n",
    "\n",
    "# Transform the data\n",
    "transformed = encoder.transform(data)\n",
    "\n",
    "# Reverse the transformation\n",
    "inverse = encoder.inverse_transform(transformed)\n",
    "\n",
    "print('Data =', data)\n",
    "print('\\n Classes: \\n', encoder.classes_)\n",
    "print('\\n Encoded (normalized) classes: \\n', transformed)\n",
    "print('\\n Reverse from encoded classes to original: \\n', inverse)"
   ]
  }
 ],
 "metadata": {
  "kernelspec": {
   "display_name": ".venv",
   "language": "python",
   "name": "python3"
  },
  "language_info": {
   "codemirror_mode": {
    "name": "ipython",
    "version": 3
   },
   "file_extension": ".py",
   "mimetype": "text/x-python",
   "name": "python",
   "nbconvert_exporter": "python",
   "pygments_lexer": "ipython3",
   "version": "3.13.0"
  }
 },
 "nbformat": 4,
 "nbformat_minor": 2
}
