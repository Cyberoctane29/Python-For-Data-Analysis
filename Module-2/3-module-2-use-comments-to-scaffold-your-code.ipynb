{
 "cells": [
  {
   "cell_type": "code",
   "execution_count": 3,
   "metadata": {},
   "outputs": [],
   "source": [
    "def seed_calculator(fountain_side, grass_width):\n",
    "    \"\"\"\n",
    "    Calculate number of kilograms of grass seed needed for\n",
    "    a border around a square fountain.\n",
    "\n",
    "        Parameters:\n",
    "            fountain_side (num): length of 1 side of fountain in meters\n",
    "            grass_width (num): width of grass border in meters\n",
    "\n",
    "        Returns:\n",
    "            seed (float): amount of seed (kg) needed for grass border\n",
    "    \"\"\"\n",
    "    # Area of fountain\n",
    "    fountain_area = fountain_side**2\n",
    "    # Total area\n",
    "    total_area = (fountain_side + 2 * grass_width)**2\n",
    "    # Area of grass border\n",
    "    grass_area = total_area - fountain_area\n",
    "    # Amount of seed needed (35 g/sq.m)\n",
    "    seed = grass_area * 35\n",
    "    # Convert to kg\n",
    "    seed = seed / 1000\n",
    "\n",
    "    return seed"
   ]
  },
  {
   "cell_type": "code",
   "execution_count": 4,
   "metadata": {},
   "outputs": [
    {
     "data": {
      "text/plain": [
       "3.92"
      ]
     },
     "execution_count": 4,
     "metadata": {},
     "output_type": "execute_result"
    }
   ],
   "source": [
    "seed_calculator(12, 2)"
   ]
  }
 ],
 "metadata": {
  "kernelspec": {
   "display_name": ".venv",
   "language": "python",
   "name": "python3"
  },
  "language_info": {
   "codemirror_mode": {
    "name": "ipython",
    "version": 3
   },
   "file_extension": ".py",
   "mimetype": "text/x-python",
   "name": "python",
   "nbconvert_exporter": "python",
   "pygments_lexer": "ipython3",
   "version": "3.13.0"
  }
 },
 "nbformat": 4,
 "nbformat_minor": 2
}
