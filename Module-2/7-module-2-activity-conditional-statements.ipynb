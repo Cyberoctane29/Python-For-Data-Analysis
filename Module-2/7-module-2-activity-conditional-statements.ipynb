{
 "cells": [
  {
   "cell_type": "markdown",
   "metadata": {},
   "source": [
    "<h1>Activity: Conditional Statements</h1>\n"
   ]
  },
  {
   "cell_type": "markdown",
   "metadata": {},
   "source": [
    "## Introduction \n",
    "\n",
    "In this lab, you will practice using Python operators to perform operations between two variables and write conditional statements.\n",
    "\n",
    "As a data analyst, you'll use conditional statements in your approach to many different tasks using Python. Using Boolean values, conditional statements will determine how a code block is executed based on how a condition is met.\n",
    "\n",
    "While continuing work for the movie theater, you're now examining marketing campaigns. Specifically, you'll be analyzing user behavior to determine when a customer's activity has prompted a marketing email.\n"
   ]
  },
  {
   "cell_type": "markdown",
   "metadata": {},
   "source": [
    "## Task 1: Define a comparator function\n",
    "\n",
    "You are a data professional for a movie theater, and your task is to use customers' purchasing data to determine whether or not to send them a marketing email.\n",
    "\n",
    "*   Define a function called `send_email` that accepts the following arguments:\n",
    "    *  `num_visits` - the number of times a customer has visited the theater\n",
    "    *  `visits_email` - the minimum number of visits the customer must have made for them to receive a marketing email\n",
    "*   The function must print either: `Send email.` or `Not enough visits.`\n",
    "\n",
    "*Example:*\n",
    "\n",
    "```\n",
    " [IN] send_email(num_visits=3, visits_email=5)\n",
    "[OUT] 'Not enough visits.'\n",
    "\n",
    " [IN] send_email(num_visits=5, visits_email=5)\n",
    "[OUT] 'Send email.'\n",
    "```\n",
    "\n",
    "**Note that there is more than one way to solve this problem.**\n"
   ]
  },
  {
   "cell_type": "code",
   "execution_count": 1,
   "metadata": {},
   "outputs": [],
   "source": [
    "def send_email(num_visits, visits_email):\n",
    "    if num_visits >= visits_email:\n",
    "        print(\"Send email.\")\n",
    "    else:\n",
    "        print(\"Not enough visits.\")"
   ]
  },
  {
   "cell_type": "markdown",
   "metadata": {},
   "source": [
    "### Test your function\n",
    "Test your function against the following cases by running the cell below."
   ]
  },
  {
   "cell_type": "code",
   "execution_count": 2,
   "metadata": {},
   "outputs": [
    {
     "name": "stdout",
     "output_type": "stream",
     "text": [
      "Not enough visits.\n",
      "Send email.\n",
      "Send email.\n"
     ]
    }
   ],
   "source": [
    "send_email(num_visits=3, visits_email=5)    # Should print 'Not enough visits.'\n",
    "send_email(num_visits=5, visits_email=5)    # Should print 'Send email.'\n",
    "send_email(num_visits=15, visits_email=10)  # Should print 'Send email.'"
   ]
  },
  {
   "cell_type": "markdown",
   "metadata": {},
   "source": [
    "## Task 2: Add logical branching to your function\n",
    "\n",
    "The theater is offering a promotion where customers who have visited the theater more than a designated number of times will also receive a coupon with their email. Update the function that you created above to include additional logical branching.\n",
    "\n",
    "*   Include an additional argument `visits_coupon` that represents the minimum number of visits the customer must have made for them to receive a coupon with their email.\n",
    "\n",
    "*   The function must print one of three possible messages:\n",
    "    1. `Send email with coupon.`\n",
    "    2. `Send email only.`\n",
    "    3. `Not enough visits.`\n",
    "    \n",
    "The minimum number of visits to receive a coupon will always be greater than the number to receive an email only. \n",
    "\n",
    "*Example:*\n",
    "\n",
    "```\n",
    " [IN] send_email(num_visits=3, visits_email=5, visits_coupon=8)\n",
    "[OUT] 'Not enough visits.'\n",
    "\n",
    " [IN] send_email(num_visits=5, visits_email=5, visits_coupon=8)\n",
    "[OUT] `Send email only.`\n",
    "\n",
    " [IN] send_email(num_visits=8, visits_email=5, visits_coupon=8)\n",
    "[OUT] `Send email with coupon.`\n",
    "```\n",
    "\n",
    "**Note that there is more than one way to solve this problem.**"
   ]
  },
  {
   "cell_type": "code",
   "execution_count": 7,
   "metadata": {},
   "outputs": [],
   "source": [
    "def send_email(num_visits, visits_email,visits_coupon):\n",
    "    if num_visits >= visits_coupon:\n",
    "        print(\"Send email with coupon.\")\n",
    "    elif(num_visits>=visits_email):\n",
    "        print(\"Send email only\")\n",
    "    else:\n",
    "        print(\"Not enough visits.\")"
   ]
  },
  {
   "cell_type": "markdown",
   "metadata": {},
   "source": [
    "### Test your function\n",
    "Test your function against the following cases by running the cell below."
   ]
  },
  {
   "cell_type": "code",
   "execution_count": 8,
   "metadata": {},
   "outputs": [
    {
     "name": "stdout",
     "output_type": "stream",
     "text": [
      "Not enough visits.\n",
      "Send email only\n",
      "Send email only\n",
      "Send email with coupon.\n",
      "Send email with coupon.\n"
     ]
    }
   ],
   "source": [
    "send_email(num_visits=3, visits_email=5, visits_coupon=8)   # Should print 'Not enough visits.'\n",
    "send_email(num_visits=5, visits_email=5, visits_coupon=8)   # Should print 'Send email only.'\n",
    "send_email(num_visits=6, visits_email=5, visits_coupon=8)   # Should print 'Send email only.'\n",
    "send_email(num_visits=8, visits_email=5, visits_coupon=8)   # Should print 'Send email with coupon.'\n",
    "send_email(num_visits=10, visits_email=5, visits_coupon=8)  # Should print 'Send email with coupon.'"
   ]
  },
  {
   "cell_type": "markdown",
   "metadata": {},
   "source": [
    "## Conclusion\n",
    "\n",
    "**What are your key takeaways from this lab?**"
   ]
  },
  {
   "cell_type": "markdown",
   "metadata": {},
   "source": [
    "Conditionaly statments paired along with comparator operators control the flow of the code well or support decision making in the code quite well."
   ]
  },
  {
   "cell_type": "markdown",
   "metadata": {},
   "source": [
    "My takeaway is that conditional statements, when paired with comparison operators, effectively control the flow of code and support decision-making. They allow programs to evaluate conditions and execute specific actions based on those conditions, making the code more dynamic and responsive to different inputs. This helps in executing different actions or logic depending on the state of the program."
   ]
  }
 ],
 "metadata": {
  "kernelspec": {
   "display_name": ".venv",
   "language": "python",
   "name": "python3"
  },
  "language_info": {
   "codemirror_mode": {
    "name": "ipython",
    "version": 3
   },
   "file_extension": ".py",
   "mimetype": "text/x-python",
   "name": "python",
   "nbconvert_exporter": "python",
   "pygments_lexer": "ipython3",
   "version": "3.13.0"
  }
 },
 "nbformat": 4,
 "nbformat_minor": 2
}
