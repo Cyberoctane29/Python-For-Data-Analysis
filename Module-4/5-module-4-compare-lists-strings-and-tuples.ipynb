{
 "cells": [
  {
   "cell_type": "markdown",
   "metadata": {},
   "source": [
    "Strings"
   ]
  },
  {
   "cell_type": "code",
   "execution_count": 3,
   "metadata": {},
   "outputs": [
    {
     "name": "stdout",
     "output_type": "stream",
     "text": [
      "\n",
      "marathon\n",
      "golfcart\n",
      "\n"
     ]
    }
   ],
   "source": [
    "my_string3 = \"\"\"\n",
    "marathon\n",
    "golfcart\n",
    "\"\"\"\n",
    "\n",
    "print(my_string3)"
   ]
  },
  {
   "cell_type": "code",
   "execution_count": 6,
   "metadata": {},
   "outputs": [
    {
     "name": "stdout",
     "output_type": "stream",
     "text": [
      "\n",
      "125\n"
     ]
    }
   ],
   "source": [
    "empty_str = str()\n",
    "my_string = str(125)\n",
    "print(empty_str)\n",
    "print(my_string)"
   ]
  },
  {
   "cell_type": "markdown",
   "metadata": {},
   "source": [
    "Lists\n"
   ]
  },
  {
   "cell_type": "code",
   "execution_count": 12,
   "metadata": {},
   "outputs": [
    {
     "name": "stdout",
     "output_type": "stream",
     "text": [
      "[]\n",
      "[1, 2, 3, 4, 5]\n"
     ]
    }
   ],
   "source": [
    "empty_list = []\n",
    "my_list = [1, 2, 3, 4, 5]\n",
    "print(empty_list)\n",
    "print(my_list)"
   ]
  },
  {
   "cell_type": "code",
   "execution_count": 8,
   "metadata": {},
   "outputs": [
    {
     "name": "stdout",
     "output_type": "stream",
     "text": [
      "['r', 'o', 'c', 'k', 's']\n",
      "['stones', 'water', 'underground']\n"
     ]
    }
   ],
   "source": [
    "print(list('rocks'))\n",
    "print(list(('stones', 'water', 'underground')))"
   ]
  },
  {
   "cell_type": "code",
   "execution_count": 9,
   "metadata": {},
   "outputs": [],
   "source": [
    "my_list = [1, 2, 1, 2, 'And through', ['and', 'through']]"
   ]
  },
  {
   "cell_type": "code",
   "execution_count": 10,
   "metadata": {},
   "outputs": [
    {
     "name": "stdout",
     "output_type": "stream",
     "text": [
      "[5446, 2, 3]\n"
     ]
    }
   ],
   "source": [
    "num_list = [1, 2, 3]\n",
    "num_list[0] = 5446\n",
    "print(num_list)"
   ]
  },
  {
   "cell_type": "markdown",
   "metadata": {},
   "source": [
    "Tuples"
   ]
  },
  {
   "cell_type": "code",
   "execution_count": 13,
   "metadata": {},
   "outputs": [
    {
     "name": "stdout",
     "output_type": "stream",
     "text": [
      "()\n",
      "(1, 'z')\n"
     ]
    }
   ],
   "source": [
    "empty_tuple = ()\n",
    "my_tuple = (1, 'z')\n",
    "print(empty_tuple)\n",
    "print(my_tuple)"
   ]
  },
  {
   "cell_type": "code",
   "execution_count": 14,
   "metadata": {},
   "outputs": [
    {
     "name": "stdout",
     "output_type": "stream",
     "text": [
      "<class 'int'>\n",
      "<class 'tuple'>\n"
     ]
    }
   ],
   "source": [
    "test1 = (1)\n",
    "test2 = (2,)\n",
    "\n",
    "print(type(test1))\n",
    "print(type(test2))"
   ]
  },
  {
   "cell_type": "code",
   "execution_count": 15,
   "metadata": {},
   "outputs": [
    {
     "name": "stdout",
     "output_type": "stream",
     "text": [
      "<class 'tuple'>\n",
      "<class 'tuple'>\n"
     ]
    }
   ],
   "source": [
    "tuple1 = 1,\n",
    "tuple2 = 2, 3\n",
    "\n",
    "print(type(tuple1))\n",
    "print(type(tuple2))"
   ]
  },
  {
   "cell_type": "code",
   "execution_count": 21,
   "metadata": {},
   "outputs": [
    {
     "name": "stdout",
     "output_type": "stream",
     "text": [
      "()\n",
      "(1, 'z')\n",
      "('r', 'o', 'c', 'k', 's')\n"
     ]
    }
   ],
   "source": [
    "empty_tuple = tuple()\n",
    "my_tuple = tuple([1, 'z'])\n",
    "my_string1=\"rocks\"\n",
    "my_tuple1=tuple(my_string1)\n",
    "print(empty_tuple)\n",
    "print(my_tuple)\n",
    "print(my_tuple1)"
   ]
  },
  {
   "cell_type": "code",
   "execution_count": 23,
   "metadata": {},
   "outputs": [
    {
     "name": "stdout",
     "output_type": "stream",
     "text": [
      "(1871, 'all', 'mimsy', ('were', 'the'), ['borogroves'])\n"
     ]
    }
   ],
   "source": [
    "my_tuple = (1871, 'all', 'mimsy', ('were', 'the'), ['borogroves'])\n",
    "print(my_tuple)"
   ]
  }
 ],
 "metadata": {
  "kernelspec": {
   "display_name": ".venv",
   "language": "python",
   "name": "python3"
  },
  "language_info": {
   "codemirror_mode": {
    "name": "ipython",
    "version": 3
   },
   "file_extension": ".py",
   "mimetype": "text/x-python",
   "name": "python",
   "nbconvert_exporter": "python",
   "pygments_lexer": "ipython3",
   "version": "3.13.0"
  }
 },
 "nbformat": 4,
 "nbformat_minor": 2
}
