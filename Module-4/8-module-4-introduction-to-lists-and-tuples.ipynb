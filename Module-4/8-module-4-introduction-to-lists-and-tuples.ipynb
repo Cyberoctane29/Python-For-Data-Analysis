{
 "cells": [
  {
   "cell_type": "markdown",
   "metadata": {},
   "source": [
    "<h1>Activity: Introduction to lists and tuples</h1>"
   ]
  },
  {
   "cell_type": "markdown",
   "metadata": {},
   "source": [
    "## Introduction \n",
    "\n",
    "In this lab, you will practice creating, modifying, and working with data structures in Python. This will develop your knowledge of different kinds of data structures and the different operations that you can perform with them to answer questions about the data. This will help you prepare for projects you may encounter where you will need to use data structures to store and keep track of data.\n",
    "\n",
    "For this activity, you are part of a research team that focuses on air quality, and you have received a few data points collected by the U.S. Environmental Protection Agency (EPA). Your goal is to store and organize this data, so that it can be accessed and updated easily.\n",
    "\n",
    "In this lab, you'll be working specifically with the state names and county names of places that reported air quality index readings."
   ]
  },
  {
   "cell_type": "markdown",
   "metadata": {},
   "source": [
    "## Task 1: Create lists and use tuples\n",
    "\n",
    "As you continue your work with the EPA, you want to create an ordered data structure containing pairs of values, which can be iterated over to gain insights from the data."
   ]
  },
  {
   "cell_type": "markdown",
   "metadata": {},
   "source": [
    "### 1a: Create lists\n",
    "\n",
    "You'll work with state names and county names indicated below.\n",
    "\n",
    "| state_name | county_name |\n",
    "| --- | --- |\n",
    "| Arizona | Maricopa |\n",
    "| California | Alameda |\n",
    "| California | Sacramento |\n",
    "| Kentucky | Jefferson |\n",
    "| Louisiana | East Baton Rouge |\n",
    "\n",
    "<br/>\n",
    "\n",
    "\n",
    "*  In this task, assign two variables:\n",
    "\n",
    "    1. `state_names` - a `list` of each state in the `state_name` column in the table above, in order, as strings\n",
    "    2. `county_names` - a `list` of each county in the `county_name` column in the table above, in order, as strings\n",
    "\n"
   ]
  },
  {
   "cell_type": "code",
   "execution_count": null,
   "metadata": {
    "vscode": {
     "languageId": "plaintext"
    }
   },
   "outputs": [],
   "source": [
    "# 1. ### YOUR CODE HERE ###\n",
    "\n",
    "\n",
    "# 2. ### YOUR CODE HERE ###\n"
   ]
  },
  {
   "cell_type": "markdown",
   "metadata": {},
   "source": [
    "### 1b: Use a loop to combine the lists into a single list of tuples\n",
    "\n",
    "* Use `state_names` and `county_names` to:\n",
    "    * Create a new list of tuples, where each tuple contains a pair of state name and county name.\n",
    "    * Assign the new list to a variable called `state_county_tuples`.\n",
    "* Print the result\n",
    "\n",
    "*Expected result:*\n",
    "\n",
    "```\n",
    "[OUT] [('Arizona', 'Maricopa'),\n",
    "       ('California', 'Alameda'),\n",
    "       ('California', 'Sacramento'),\n",
    "       ('Kentucky', 'Jefferson'),\n",
    "       ('Louisiana', 'East Baton Rouge')]\n",
    "```"
   ]
  },
  {
   "cell_type": "code",
   "execution_count": null,
   "metadata": {
    "vscode": {
     "languageId": "plaintext"
    }
   },
   "outputs": [],
   "source": [
    "### YOUR CODE HERE ###\n"
   ]
  },
  {
   "cell_type": "markdown",
   "metadata": {},
   "source": [
    "### 1c: Use the `zip()` function to combine the lists into a single list of tuples\n",
    "\n",
    "Python has a built-in function to make the above process much easier. It's called the `zip()` function. This function accepts any number of iterable objects as arguments. If the arguments are all of equal length, the function returns an iterator object of tuples, where each tuple contains `element[i]` of each argument.\n",
    "\n",
    "You can then either loop over the iterator object or pass it to the `list()` function to unpack its values.\n",
    "\n",
    "Refer to the [zip() Python documentation](https://docs.python.org/3/library/functions.html#zip) for more information.\n",
    "\n",
    "Here's an example:\n",
    "\n"
   ]
  },
  {
   "cell_type": "code",
   "execution_count": null,
   "metadata": {
    "vscode": {
     "languageId": "plaintext"
    }
   },
   "outputs": [],
   "source": [
    "# RUN THIS CELL\n",
    "a = ['a', 'b', 'c']\n",
    "b = [1, 2, 3]\n",
    "c = zip(a, b)\n",
    "\n",
    "print(c)\n",
    "print(list(c))"
   ]
  },
  {
   "cell_type": "markdown",
   "metadata": {},
   "source": [
    "Use the `zip()` function to generate the same output created in Task 1b.\n",
    "\n",
    "1. Use `state_names` and `county_names` to:\n",
    "    * Create a new list of tuples, where each tuple contains a pair of state name and county name.\n",
    "    * Assign the new list to a variable called `state_county_zipped`.\n",
    "2. Check that `state_county_zipped` is the same as `state_county_tuples`."
   ]
  },
  {
   "cell_type": "code",
   "execution_count": null,
   "metadata": {
    "vscode": {
     "languageId": "plaintext"
    }
   },
   "outputs": [],
   "source": [
    "# 1. ### YOUR CODE HERE ###\n",
    "\n",
    "\n",
    "# 2. ### YOUR CODE HERE ###\n"
   ]
  },
  {
   "cell_type": "markdown",
   "metadata": {},
   "source": [
    "## Task 2: Use list comprehension to convert to list of lists\n",
    "\n",
    "Since tuples are immutable and can't be changed, converting tuples to lists is a practice data professionals use so they can make adjustments to the data, if necessary.\n",
    "\n",
    "* Use a list comprehension to convert `state_county_tuples` from a list of tuples to a list of lists. Assign the result to a variable called `state_county_lists`.\n",
    "\n",
    "* Print the result.\n",
    "\n",
    "*Expected result:*\n",
    "\n",
    "```\n",
    "[OUT] [['Arizona', 'Maricopa'],\n",
    "       ['California', 'Alameda'],\n",
    "       ['California', 'Sacramento'],\n",
    "       ['Kentucky', 'Jefferson'],\n",
    "       ['Louisiana', 'East Baton Rouge']]\n",
    "```"
   ]
  },
  {
   "cell_type": "code",
   "execution_count": null,
   "metadata": {
    "vscode": {
     "languageId": "plaintext"
    }
   },
   "outputs": [],
   "source": [
    "### YOUR CODE HERE\n"
   ]
  },
  {
   "cell_type": "markdown",
   "metadata": {},
   "source": [
    "## Task 3: Unpacking an iterable\n",
    "\n",
    "Data professionals often use the technique of unpacking to work with individual elements of iterable objects. As you continue in your work as an analyst, you are asked to iterate through your list of state/county pairs to identify only the counties in California.\n",
    "\n",
    "As a refresher, here is the data you have been working with:\n",
    "\n",
    "| state_name | county_name |\n",
    "| --- | --- |\n",
    "| Arizona | Maricopa |\n",
    "| California | Alameda |\n",
    "| California | Sacramento |\n",
    "| Kentucky | Jefferson |\n",
    "| Louisiana | East Baton Rouge |\n"
   ]
  },
  {
   "cell_type": "markdown",
   "metadata": {},
   "source": [
    "### 3a: Unpacking in a loop\n",
    "\n",
    "* Write a loop that unpacks each tuple in `state_county_tuples` and, if the state in the tuple is `California`, add the corresponding county to a list called `ca_counties`.\n",
    "\n",
    "*Expected output:*\n",
    "\n",
    "```\n",
    "[OUT] ['Alameda', 'Sacramento']\n",
    "```"
   ]
  },
  {
   "cell_type": "code",
   "execution_count": null,
   "metadata": {
    "vscode": {
     "languageId": "plaintext"
    }
   },
   "outputs": [],
   "source": [
    "### YOUR CODE HERE ###\n"
   ]
  },
  {
   "cell_type": "markdown",
   "metadata": {},
   "source": [
    "### 3b: Unpacking in a list comprehension\n",
    "\n",
    "Now, use a list comprehension to accomplish the same thing as what you did in Task 3a.\n",
    "\n",
    "* In a list comprehension, unpack each tuple in `state_county_tuples` and, if the state in the tuple is `California`, add the corresponding county to the list comprehension.\n",
    "\n",
    "* Assign the result to a variable called `ca_counties`.\n",
    "\n",
    "* Print `ca_counties`.\n",
    "\n",
    "*Expected output:*\n",
    "\n",
    "```\n",
    "[OUT] ['Alameda', 'Sacramento']\n",
    "```"
   ]
  },
  {
   "cell_type": "code",
   "execution_count": null,
   "metadata": {
    "vscode": {
     "languageId": "plaintext"
    }
   },
   "outputs": [],
   "source": [
    "### YOUR CODE HERE ###\n"
   ]
  },
  {
   "cell_type": "markdown",
   "metadata": {},
   "source": [
    "## Conclusion\n",
    "\n",
    "**What are your key takeaways from this lab?**"
   ]
  },
  {
   "cell_type": "code",
   "execution_count": null,
   "metadata": {
    "vscode": {
     "languageId": "plaintext"
    }
   },
   "outputs": [],
   "source": [
    "[Double-click to record your response here.]"
   ]
  }
 ],
 "metadata": {
  "language_info": {
   "name": "python"
  }
 },
 "nbformat": 4,
 "nbformat_minor": 2
}
