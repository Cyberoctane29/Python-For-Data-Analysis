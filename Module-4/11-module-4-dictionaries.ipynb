{
 "cells": [
  {
   "cell_type": "code",
   "execution_count": 1,
   "metadata": {},
   "outputs": [],
   "source": [
    "smallest_countries = {'Africa': 'Seychelles',\n",
    "                     'Asia': 'Maldives',\n",
    "                     'Europe': 'Vatican City',\n",
    "                     'Oceania': 'Nauru',\n",
    "                     'North America': 'St. Kitts and Nevis',\n",
    "                     'South America': 'Suriname'\n",
    "                     }"
   ]
  },
  {
   "cell_type": "code",
   "execution_count": 2,
   "metadata": {},
   "outputs": [],
   "source": [
    "empty_dict_1 = {}\n",
    "empty_dict_2 = dict()"
   ]
  },
  {
   "cell_type": "code",
   "execution_count": 3,
   "metadata": {},
   "outputs": [],
   "source": [
    "smallest_countries = dict(africa='Seychelles',\n",
    "                         asia='Maldives',\n",
    "                         europe='Vatican City',\n",
    "                         oceania='Nauru',\n",
    "                         north_america='St. Kitts and Nevis',\n",
    "                         south_america ='Suriname'\n",
    ")"
   ]
  },
  {
   "cell_type": "code",
   "execution_count": 5,
   "metadata": {},
   "outputs": [
    {
     "ename": "SyntaxError",
     "evalue": "':' expected after dictionary key (3199852771.py, line 3)",
     "output_type": "error",
     "traceback": [
      "\u001b[1;36m  Cell \u001b[1;32mIn[5], line 3\u001b[1;36m\u001b[0m\n\u001b[1;33m    invalid_dict = {'numbers': 1, 2, 3}\u001b[0m\n\u001b[1;37m                                  ^\u001b[0m\n\u001b[1;31mSyntaxError\u001b[0m\u001b[1;31m:\u001b[0m ':' expected after dictionary key\n"
     ]
    }
   ],
   "source": [
    "#Each key can only correspond to a single value; so, for example, this will throw an error:\n",
    "\n",
    "invalid_dict = {'numbers': 1, 2, 3}"
   ]
  },
  {
   "cell_type": "code",
   "execution_count": 6,
   "metadata": {},
   "outputs": [
    {
     "name": "stdout",
     "output_type": "stream",
     "text": [
      "{'numbers': [1, 2, 3]}\n"
     ]
    }
   ],
   "source": [
    "valid_dict = {'numbers': [1, 2, 3]}\n",
    "print(valid_dict)"
   ]
  },
  {
   "cell_type": "code",
   "execution_count": 7,
   "metadata": {},
   "outputs": [
    {
     "name": "stdout",
     "output_type": "stream",
     "text": [
      "[1, 2, 3]\n"
     ]
    }
   ],
   "source": [
    "my_dict = {'nums': [1, 2, 3],\n",
    "          'abc': ['a', 'b', 'c']\n",
    "          }\n",
    "print(my_dict['nums'])"
   ]
  },
  {
   "cell_type": "code",
   "execution_count": 8,
   "metadata": {},
   "outputs": [
    {
     "name": "stdout",
     "output_type": "stream",
     "text": [
      "dict_values([[1, 2, 3], ['a', 'b', 'c']])\n"
     ]
    }
   ],
   "source": [
    "my_dict = {'nums': [1, 2, 3],\n",
    "          'abc': ['a', 'b', 'c']\n",
    "          }\n",
    "print(my_dict.values())"
   ]
  },
  {
   "cell_type": "code",
   "execution_count": 9,
   "metadata": {},
   "outputs": [
    {
     "name": "stdout",
     "output_type": "stream",
     "text": [
      "{'nums': [1, 2, 3], 'abc': ['a', 'b', 'c'], 'floats': [1.0, 2.0, 3.0]}\n"
     ]
    }
   ],
   "source": [
    "my_dict = {'nums': [1, 2, 3],\n",
    "          'abc': ['a', 'b', 'c']\n",
    "          }\n",
    "\n",
    "\n",
    "# Add a new 'floats' key\n",
    "my_dict['floats'] = [1.0, 2.0, 3.0]\n",
    "print(my_dict)"
   ]
  },
  {
   "cell_type": "code",
   "execution_count": 10,
   "metadata": {},
   "outputs": [
    {
     "name": "stdout",
     "output_type": "stream",
     "text": [
      "True\n",
      "False\n"
     ]
    }
   ],
   "source": [
    "smallest_countries = {'Africa': 'Seychelles',\n",
    "                     'Asia': 'Maldives',\n",
    "                     'Europe': 'Vatican City',\n",
    "                     'Oceania': 'Nauru',\n",
    "                     'North America': 'St. Kitts and Nevis',\n",
    "                     'South America': 'Suriname'\n",
    "                     }\n",
    "\n",
    "\n",
    "print('Africa' in smallest_countries)\n",
    "print('Asia' not in smallest_countries)"
   ]
  },
  {
   "cell_type": "code",
   "execution_count": 11,
   "metadata": {},
   "outputs": [
    {
     "name": "stdout",
     "output_type": "stream",
     "text": [
      "{'nums': [1, 2, 3]}\n"
     ]
    }
   ],
   "source": [
    "my_dict = {'nums': [1, 2, 3],\n",
    "          'abc': ['a', 'b', 'c']\n",
    "          }\n",
    "del my_dict['abc']\n",
    "print(my_dict)"
   ]
  },
  {
   "cell_type": "code",
   "execution_count": 12,
   "metadata": {},
   "outputs": [
    {
     "name": "stdout",
     "output_type": "stream",
     "text": [
      "dict_items([('nums', [1, 2, 3]), ('abc', ['a', 'b', 'c'])])\n"
     ]
    }
   ],
   "source": [
    "my_dict = {'nums': [1, 2, 3],\n",
    "          'abc': ['a', 'b', 'c']\n",
    "          }\n",
    "print(my_dict.items())"
   ]
  },
  {
   "cell_type": "code",
   "execution_count": 13,
   "metadata": {},
   "outputs": [
    {
     "name": "stdout",
     "output_type": "stream",
     "text": [
      "dict_keys(['nums', 'abc'])\n"
     ]
    }
   ],
   "source": [
    "my_dict = {'nums': [1, 2, 3],\n",
    "          'abc': ['a', 'b', 'c']\n",
    "          }\n",
    "print(my_dict.keys())"
   ]
  },
  {
   "cell_type": "code",
   "execution_count": null,
   "metadata": {},
   "outputs": [
    {
     "name": "stdout",
     "output_type": "stream",
     "text": [
      "dict_values([[1, 2, 3], ['a', 'b', 'c']])\n"
     ]
    },
    {
     "ename": "",
     "evalue": "",
     "output_type": "error",
     "traceback": [
      "\u001b[1;31mThe Kernel crashed while executing code in the current cell or a previous cell. \n",
      "\u001b[1;31mPlease review the code in the cell(s) to identify a possible cause of the failure. \n",
      "\u001b[1;31mClick <a href='https://aka.ms/vscodeJupyterKernelCrash'>here</a> for more info. \n",
      "\u001b[1;31mView Jupyter <a href='command:jupyter.viewOutput'>log</a> for further details."
     ]
    }
   ],
   "source": [
    "my_dict = {'nums': [1, 2, 3],\n",
    "          'abc': ['a', 'b', 'c']\n",
    "          }\n",
    "print(my_dict.values())"
   ]
  }
 ],
 "metadata": {
  "kernelspec": {
   "display_name": ".venv",
   "language": "python",
   "name": "python3"
  },
  "language_info": {
   "codemirror_mode": {
    "name": "ipython",
    "version": 3
   },
   "file_extension": ".py",
   "mimetype": "text/x-python",
   "name": "python",
   "nbconvert_exporter": "python",
   "pygments_lexer": "ipython3",
   "version": "3.13.0"
  }
 },
 "nbformat": 4,
 "nbformat_minor": 2
}
