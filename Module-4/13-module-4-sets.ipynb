{
 "cells": [
  {
   "cell_type": "code",
   "execution_count": 1,
   "metadata": {},
   "outputs": [
    {
     "data": {
      "text/plain": [
       "{1, 2, '2'}"
      ]
     },
     "execution_count": 1,
     "metadata": {},
     "output_type": "execute_result"
    }
   ],
   "source": [
    "example_a = [1, 2, 2.0, '2']\n",
    "set(example_a)"
   ]
  },
  {
   "cell_type": "code",
   "execution_count": 2,
   "metadata": {},
   "outputs": [
    {
     "data": {
      "text/plain": [
       "{(1, 2, 2, 2, 3), 2, 'apple'}"
      ]
     },
     "execution_count": 2,
     "metadata": {},
     "output_type": "execute_result"
    }
   ],
   "source": [
    "example_b = ('apple', (1, 2, 2, 2, 3), 2)\n",
    "set(example_b)"
   ]
  },
  {
   "cell_type": "code",
   "execution_count": null,
   "metadata": {},
   "outputs": [
    {
     "ename": "TypeError",
     "evalue": "unhashable type: 'set'",
     "output_type": "error",
     "traceback": [
      "\u001b[1;31m---------------------------------------------------------------------------\u001b[0m",
      "\u001b[1;31mTypeError\u001b[0m                                 Traceback (most recent call last)",
      "Cell \u001b[1;32mIn[3], line 2\u001b[0m\n\u001b[0;32m      1\u001b[0m example_c \u001b[38;5;241m=\u001b[39m [\u001b[38;5;241m1.5\u001b[39m, {\u001b[38;5;124m'\u001b[39m\u001b[38;5;124ma\u001b[39m\u001b[38;5;124m'\u001b[39m, \u001b[38;5;124m'\u001b[39m\u001b[38;5;124mb\u001b[39m\u001b[38;5;124m'\u001b[39m, \u001b[38;5;124m'\u001b[39m\u001b[38;5;124mc\u001b[39m\u001b[38;5;124m'\u001b[39m}, \u001b[38;5;241m1.5\u001b[39m]\n\u001b[1;32m----> 2\u001b[0m \u001b[38;5;28;43mset\u001b[39;49m\u001b[43m(\u001b[49m\u001b[43mexample_c\u001b[49m\u001b[43m)\u001b[49m\n",
      "\u001b[1;31mTypeError\u001b[0m: unhashable type: 'set'"
     ]
    }
   ],
   "source": [
    "# The preceding example throws an error because each element of a set must be hashable (≈ immutable), but {‘a’, ‘b’, ‘c’} is a set, which is a mutable (unhashable) object.\n",
    "\n",
    "example_c = [1.5, {'a', 'b', 'c'}, 1.5]\n",
    "set(example_c)"
   ]
  },
  {
   "cell_type": "code",
   "execution_count": 4,
   "metadata": {},
   "outputs": [
    {
     "data": {
      "text/plain": [
       "{'elderberries', 'father', 'hamster', 'mother'}"
      ]
     },
     "execution_count": 4,
     "metadata": {},
     "output_type": "execute_result"
    }
   ],
   "source": [
    "example_d = {'mother', 'hamster', 'father'}\n",
    "example_d.add('elderberries')\n",
    "example_d"
   ]
  },
  {
   "cell_type": "code",
   "execution_count": 5,
   "metadata": {},
   "outputs": [
    {
     "data": {
      "text/plain": [
       "{1.5, frozenset({'a', 'b', 'c'})}"
      ]
     },
     "execution_count": 5,
     "metadata": {},
     "output_type": "execute_result"
    }
   ],
   "source": [
    "example_e = [1.5, frozenset(['a', 'b', 'c']), 1.5]\n",
    "set(example_e)"
   ]
  },
  {
   "cell_type": "code",
   "execution_count": 6,
   "metadata": {},
   "outputs": [
    {
     "name": "stdout",
     "output_type": "stream",
     "text": [
      "{'a', 'd', 'b', 'c'}\n",
      "{'a', 'd', 'b', 'c'}\n"
     ]
    }
   ],
   "source": [
    "set_1 = {'a', 'b', 'c'}\n",
    "set_2 = {'b', 'c', 'd'}\n",
    "\n",
    "print(set_1.union(set_2))\n",
    "print(set_1 | set_2)"
   ]
  },
  {
   "cell_type": "code",
   "execution_count": 7,
   "metadata": {},
   "outputs": [
    {
     "name": "stdout",
     "output_type": "stream",
     "text": [
      "{'b', 'c'}\n",
      "{'b', 'c'}\n"
     ]
    }
   ],
   "source": [
    "set_1 = {'a', 'b', 'c'}\n",
    "set_2 = {'b', 'c', 'd'}\n",
    "\n",
    "print(set_1.intersection(set_2))\n",
    "print(set_1 & set_2)"
   ]
  },
  {
   "cell_type": "code",
   "execution_count": 8,
   "metadata": {},
   "outputs": [
    {
     "name": "stdout",
     "output_type": "stream",
     "text": [
      "{'a'}\n",
      "{'a'}\n"
     ]
    }
   ],
   "source": [
    "set_1 = {'a', 'b', 'c'}\n",
    "set_2 = {'b', 'c', 'd'}\n",
    "\n",
    "print(set_1.difference(set_2))\n",
    "print(set_1 - set_2)"
   ]
  },
  {
   "cell_type": "code",
   "execution_count": 9,
   "metadata": {},
   "outputs": [
    {
     "name": "stdout",
     "output_type": "stream",
     "text": [
      "{'a', 'd'}\n",
      "{'a', 'd'}\n"
     ]
    }
   ],
   "source": [
    "set_1 = {'a', 'b', 'c'}\n",
    "set_2 = {'b', 'c', 'd'}\n",
    "\n",
    "print(set_1.symmetric_difference(set_2))\n",
    "print(set_1 ^ set_2)"
   ]
  }
 ],
 "metadata": {
  "kernelspec": {
   "display_name": ".venv",
   "language": "python",
   "name": "python3"
  },
  "language_info": {
   "codemirror_mode": {
    "name": "ipython",
    "version": 3
   },
   "file_extension": ".py",
   "mimetype": "text/x-python",
   "name": "python",
   "nbconvert_exporter": "python",
   "pygments_lexer": "ipython3",
   "version": "3.13.0"
  }
 },
 "nbformat": 4,
 "nbformat_minor": 2
}
