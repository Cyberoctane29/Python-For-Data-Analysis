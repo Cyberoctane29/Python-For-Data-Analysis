{
 "cells": [
  {
   "cell_type": "markdown",
   "metadata": {},
   "source": [
    "<h1>Activity: Vectors and arrays with NumPy</h1>"
   ]
  },
  {
   "cell_type": "markdown",
   "metadata": {},
   "source": [
    "## Introduction \n",
    "\n",
    "Your work as a data professional for the U.S. Environmental Protection Agency (EPA) requires you to analyze air quality index data collected from the United States and Mexico.\n",
    "\n",
    "The air quality index (AQI) is a number that runs from 0 to 500. The higher the AQI value, the greater the level of air pollution and the greater the health concern. For example, an AQI value of 50 or below represents good air quality, while an AQI value over 300 represents hazardous air quality. Refer to this guide from [AirNow.gov](https://www.airnow.gov/aqi/aqi-basics/) for more information.\n",
    "\n",
    "In this lab, you will work with NumPy arrays to perform calculations and evaluations with data they contain. Specifically, you'll be working with just the data from the numerical AQI readings.\n"
   ]
  },
  {
   "cell_type": "markdown",
   "metadata": {},
   "source": [
    "# Task 1: Create an array using NumPy\n",
    "\n",
    "The EPA has compiled some AQI data where each AQI report has the state name, county name, and AQI. Refer to the table below as an example.\n",
    "\n",
    "| state_name | county_name | aqi |\n",
    "| ------- | ------- | ------ |\n",
    "| Arizona | Maricopa | 18 |\n",
    "| California | Alameda | 11 |\n",
    "| California | Butte | 6 |\n",
    "| Texas | El Paso | 40 |\n",
    "| Florida | Duval | 15 |\n",
    "\n",
    "<br/>\n"
   ]
  },
  {
   "cell_type": "markdown",
   "metadata": {},
   "source": [
    "## 1a: Import NumPy\n",
    "\n",
    "Import NumPy using its standard alias."
   ]
  },
  {
   "cell_type": "code",
   "execution_count": 2,
   "metadata": {},
   "outputs": [],
   "source": [
    "import numpy as np"
   ]
  },
  {
   "cell_type": "markdown",
   "metadata": {},
   "source": [
    "## 1b: Create an array of AQI data\n",
    "\n",
    "You are given an ordered `list` of AQI readings called `aqi_list`.\n",
    "\n",
    "1. Use a NumPy function to convert the list to an `ndarray`. Assign the result to a variable called `aqi_array`.\n",
    "2. Print the length of `aqi_array`.\n",
    "3. Print the first five elements of `aqi_array`.\n",
    "\n",
    "*Expected result:*\n",
    "\n",
    "```\n",
    "[OUT] 1725\n",
    "      [18.  9. 20. 11.  6.]\n",
    "```"
   ]
  },
  {
   "cell_type": "code",
   "execution_count": 34,
   "metadata": {},
   "outputs": [],
   "source": [
    "import pandas as pd\n"
   ]
  },
  {
   "cell_type": "code",
   "execution_count": 35,
   "metadata": {},
   "outputs": [],
   "source": [
    "epa = pd.read_csv('Data/c2_epa_air_quality.csv')\n",
    "aqi_list = epa['aqi'].to_list()"
   ]
  },
  {
   "cell_type": "code",
   "execution_count": 36,
   "metadata": {},
   "outputs": [
    {
     "name": "stdout",
     "output_type": "stream",
     "text": [
      "[18.0, 9.0, 20.0, 11.0, 6.0, 11.0, 7.0, 3.0, 7.0, 13.0, 18.0, 5.0, 35.0, 18.0, 23.0, 0.0, 11.0, 9.0, 15.0, 13.0, 19.0, 10.0, 20.0, 32.0, 8.0, 6.0, 13.0, 13.0, 5.0, 33.0, 13.0, 19.0, 16.0, 10.0, 41.0, 17.0, 11.0, 6.0, 13.0, 24.0, 13.0, 28.0, 10.0, 17.0, 14.0, 31.0, 28.0, 7.0, 13.0, 38.0, 22.0, 19.0, 18.0, 20.0, 39.0, 15.0, 17.0, 55.0, 22.0, 35.0, 10.0, 56.0, 30.0, 30.0, 11.0, 18.0, 11.0, 22.0, 11.0, 24.0, 11.0, 7.0, 11.0, 11.0, 0.0, 28.0, 9.0, 9.0, 6.0, 26.0, 27.0, 14.0, 16.0, 5.0, 9.0, 24.0, 17.0, 16.0, 6.0, 3.0, 14.0, 52.0, 8.0, 7.0, 17.0, 14.0, 18.0, 6.0, 19.0, 11.0, 13.0, 7.0, 13.0, 16.0, 6.0, 5.0, 10.0, 74.0, 6.0, 2.0, 22.0, 19.0, 15.0, 13.0, 8.0, 44.0, 76.0, 32.0, 2.0, 22.0, 35.0, 18.0, 23.0, 66.0, 14.0, 60.0, 20.0, 36.0, 9.0, 19.0, 23.0, 33.0, 10.0, 16.0, 13.0, 47.0, 0.0, 6.0, 11.0, 25.0, 7.0, 10.0, 8.0, 22.0, 17.0, 24.0, 15.0, 13.0, 8.0, 16.0, 9.0, 15.0, 23.0, 31.0, 20.0, 28.0, 13.0, 26.0, 11.0, 13.0, 7.0, 9.0, 11.0, 19.0, 16.0, 18.0, 5.0, 13.0, 9.0, 47.0, 31.0, 42.0, 15.0, 58.0, 57.0, 14.0, 9.0, 35.0, 28.0, 45.0, 8.0, 18.0, 16.0, 30.0, 5.0, 11.0, 15.0, 16.0, 5.0, 0.0, 13.0, 40.0, 10.0, 3.0, 15.0, 28.0, 5.0, 6.0, 24.0, 5.0, 13.0, 16.0, 43.0, 5.0, 7.0, 14.0, 18.0, 15.0, 8.0, 3.0, 19.0, 6.0, 6.0, 32.0, 13.0, 32.0, 20.0, 16.0, 48.0, 18.0, 23.0, 36.0, 31.0, 11.0, 2.0, 51.0, 32.0, 5.0, 11.0, 27.0, 7.0, 34.0, 18.0, 25.0, 7.0, 18.0, 14.0, 20.0, 23.0, 16.0, 6.0, 8.0, 5.0, 13.0, 11.0, 5.0, 11.0, 14.0, 8.0, 6.0, 35.0, 38.0, 22.0, 93.0, 10.0, 11.0, 6.0, 43.0, 5.0, 16.0, 7.0, 13.0, 10.0, 7.0, 11.0, 31.0, 23.0, 9.0, 20.0, 24.0, 8.0, 11.0, 18.0, 15.0, 17.0, 9.0, 18.0, 7.0, 7.0, 7.0, 9.0, 17.0, 9.0, 15.0, 7.0, 6.0, 19.0, 8.0, 23.0, 45.0, 18.0, 17.0, 54.0, 10.0, 16.0, 39.0, 6.0, 8.0, 17.0, 14.0, 14.0, 13.0, 18.0, 9.0, 9.0, 22.0, 11.0, 9.0, 39.0, 40.0, 30.0, 11.0, 16.0, 10.0, 9.0, 38.0, 16.0, 47.0, 9.0, 6.0, 5.0, 33.0, 18.0, 17.0, 24.0, 8.0, 7.0, 1.0, 10.0, 16.0, 6.0, 6.0, 20.0, 6.0, 28.0, 8.0, 19.0, 19.0, 36.0, 24.0, 5.0, 20.0, 10.0, 7.0, 15.0, 8.0, 6.0, 7.0, 15.0, 25.0, 6.0, 19.0, 40.0, 19.0, 9.0, 20.0, 14.0, 0.0, 7.0, 6.0, 13.0, 22.0, 8.0, 9.0, 50.0, 8.0, 13.0, 11.0, 8.0, 30.0, 11.0, 6.0, 5.0, 10.0, 6.0, 6.0, 30.0, 9.0, 13.0, 13.0, 8.0, 7.0, 23.0, 6.0, 18.0, 9.0, 34.0, 5.0, 3.0, 6.0, 11.0, 45.0, 35.0, 32.0, 2.0, 7.0, 13.0, 0.0, 30.0, 23.0, 8.0, 20.0, 6.0, 47.0, 3.0, 10.0, 7.0, 5.0, 2.0, 10.0, 8.0, 3.0, 5.0, 10.0, 16.0, 22.0, 13.0, 15.0, 10.0, 20.0, 36.0, 11.0, 10.0, 11.0, 17.0, 14.0, 1.0, 16.0, 17.0, 32.0, 49.0, 2.0, 15.0, 32.0, 25.0, 49.0, 6.0, 23.0, 19.0, 19.0, 32.0, 13.0, 20.0, 10.0, 16.0, 14.0, 24.0, 40.0, 15.0, 9.0, 11.0, 15.0, 11.0, 13.0, 40.0, 49.0, 8.0, 8.0, 25.0, 13.0, 40.0, 19.0, 16.0, 3.0, 14.0, 23.0, 22.0, 11.0, 15.0, 3.0, 13.0, 15.0, 59.0, 16.0, 20.0, 5.0, 24.0, 6.0, 16.0, 16.0, 2.0, 5.0, 17.0, 25.0, 28.0, 16.0, 13.0, 15.0, 2.0, 13.0, 9.0, 11.0, 10.0, 11.0, 11.0, 11.0, 6.0, 10.0, 6.0, 6.0, 19.0, 11.0, 13.0, 6.0, 9.0, 9.0, 10.0, 36.0, 8.0, 6.0, 7.0, 8.0, 30.0, 24.0, 23.0, 15.0, 6.0, 1.0, 2.0, 0.0, 1.0, 24.0, 28.0, 9.0, 9.0, 11.0, 10.0, 15.0, 15.0, 6.0, 0.0, 15.0, 15.0, 13.0, 5.0, 13.0, 10.0, 18.0, 36.0, 39.0, 7.0, 31.0, 5.0, 11.0, 23.0, 13.0, 20.0, 8.0, 17.0, 7.0, 30.0, 11.0, 20.0, 11.0, 17.0, 17.0, 10.0, 2.0, 19.0, 11.0, 18.0, 7.0, 24.0, 24.0, 10.0, 11.0, 8.0, 15.0, 28.0, 3.0, 16.0, 28.0, 14.0, 7.0, 35.0, 10.0, 26.0, 5.0, 1.0, 13.0, 5.0, 16.0, 18.0, 11.0, 16.0, 13.0, 34.0, 5.0, 0.0, 11.0, 10.0, 15.0, 14.0, 6.0, 10.0, 15.0, 25.0, 3.0, 9.0, 20.0, 2.0, 3.0, 17.0, 14.0, 34.0, 5.0, 18.0, 66.0, 22.0, 25.0, 6.0, 14.0, 28.0, 16.0, 10.0, 47.0, 14.0, 39.0, 2.0, 2.0, 36.0, 14.0, 6.0, 16.0, 14.0, 5.0, 28.0, 8.0, 11.0, 39.0, 11.0, 14.0, 17.0, 3.0, 1.0, 6.0, 7.0, 5.0, 3.0, 9.0, 8.0, 7.0, 2.0, 8.0, 14.0, 8.0, 0.0, 15.0, 13.0, 19.0, 20.0, 30.0, 9.0, 6.0, 10.0, 7.0, 13.0, 13.0, 5.0, 3.0, 9.0, 3.0, 14.0, 2.0, 1.0, 0.0, 1.0, 1.0, 8.0, 3.0, 23.0, 13.0, 7.0, 6.0, 18.0, 7.0, 3.0, 14.0, 25.0, 11.0, 2.0, 17.0, 17.0, 6.0, 19.0, 18.0, 22.0, 6.0, 8.0, 1.0, 13.0, 9.0, 17.0, 5.0, 7.0, 8.0, 6.0, 10.0, 5.0, 5.0, 2.0, 10.0, 18.0, 13.0, 26.0, 11.0, 3.0, 7.0, 22.0, 7.0, 24.0, 11.0, 18.0, 0.0, 9.0, 7.0, 8.0, 9.0, 3.0, 11.0, 5.0, 6.0, 9.0, 11.0, 18.0, 0.0, 0.0, 18.0, 6.0, 24.0, 24.0, 5.0, 2.0, 6.0, 11.0, 15.0, 14.0, 7.0, 18.0, 15.0, 6.0, 24.0, 15.0, 5.0, 9.0, 8.0, 8.0, 1.0, 7.0, 2.0, 8.0, 3.0, 3.0, 6.0, 15.0, 14.0, 36.0, 11.0, 7.0, 11.0, 15.0, 24.0, 26.0, 14.0, 16.0, 18.0, 7.0, 3.0, 7.0, 7.0, 3.0, 10.0, 33.0, 6.0, 45.0, 9.0, 14.0, 17.0, 5.0, 5.0, 3.0, 5.0, 19.0, 8.0, 28.0, 8.0, 13.0, 61.0, 9.0, 16.0, 14.0, 8.0, 7.0, 16.0, 3.0, 3.0, 32.0, 10.0, 17.0, 16.0, 10.0, 3.0, 1.0, 23.0, 20.0, 50.0, 34.0, 7.0, 9.0, 14.0, 17.0, 13.0, 3.0, 18.0, 1.0, 7.0, 10.0, 17.0, 11.0, 8.0, 3.0, 10.0, 7.0, 6.0, 7.0, 16.0, 5.0, 18.0, 16.0, 8.0, 13.0, 6.0, 9.0, 38.0, 25.0, 7.0, 10.0, 15.0, 6.0, 7.0, 5.0, 3.0, 11.0, 10.0, 5.0, 14.0, 8.0, 32.0, 7.0, 17.0, 24.0, 19.0, 7.0, 20.0, 8.0, 3.0, 2.0, 2.0, 24.0, 14.0, 16.0, 6.0, 11.0, 10.0, 32.0, 6.0, 5.0, 3.0, 5.0, 9.0, 3.0, 18.0, 11.0, 8.0, 8.0, 6.0, 14.0, 9.0, 5.0, 10.0, 10.0, 5.0, 6.0, 3.0, 8.0, 7.0, 0.0, 22.0, 19.0, 33.0, 22.0, 1.0, 15.0, 8.0, 9.0, 10.0, 13.0, 10.0, 1.0, 2.0, 24.0, 6.0, 8.0, 24.0, 1.0, 11.0, 7.0, 7.0, 1.0, 6.0, 6.0, 8.0, 6.0, 10.0, 5.0, 10.0, 9.0, 17.0, 34.0, 16.0, 7.0, 5.0, 15.0, 5.0, 17.0, 5.0, 5.0, 5.0, 11.0, 6.0, 10.0, 3.0, 6.0, 9.0, 6.0, 17.0, 9.0, 3.0, 5.0, 6.0, 5.0, 5.0, 31.0, 2.0, 20.0, 9.0, 9.0, 8.0, 10.0, 9.0, 18.0, 9.0, 7.0, 2.0, 8.0, 24.0, 7.0, 13.0, 16.0, 26.0, 25.0, 3.0, 3.0, 8.0, 2.0, 9.0, 7.0, 7.0, 2.0, 17.0, 2.0, 3.0, 5.0, 6.0, 13.0, 11.0, 16.0, 3.0, 17.0, 19.0, 60.0, 28.0, 0.0, 0.0, 25.0, 8.0, 8.0, 11.0, 22.0, 3.0, 26.0, 0.0, 5.0, 3.0, 3.0, 7.0, 7.0, 9.0, 10.0, 3.0, 14.0, 11.0, 7.0, 15.0, 24.0, 13.0, 8.0, 1.0, 8.0, 8.0, 8.0, 3.0, 16.0, 17.0, 5.0, 8.0, 5.0, 10.0, 7.0, 8.0, 3.0, 8.0, 14.0, 5.0, 9.0, 10.0, 8.0, 6.0, 3.0, 13.0, 8.0, 15.0, 11.0, 9.0, 22.0, 13.0, 5.0, 6.0, 7.0, 9.0, 7.0, 14.0, 6.0, 7.0, 22.0, 16.0, 7.0, 18.0, 8.0, 10.0, 6.0, 7.0, 19.0, 7.0, 5.0, 10.0, 6.0, 9.0, 2.0, 6.0, 6.0, 7.0, 0.0, 3.0, 15.0, 2.0, 13.0, 30.0, 0.0, 6.0, 5.0, 7.0, 9.0, 7.0, 10.0, 14.0, 13.0, 10.0, 10.0, 6.0, 8.0, 14.0, 5.0, 15.0, 0.0, 17.0, 2.0, 8.0, 14.0, 7.0, 16.0, 8.0, 7.0, 28.0, 14.0, 25.0, 5.0, 6.0, 5.0, 6.0, 6.0, 5.0, 10.0, 3.0, 3.0, 10.0, 13.0, 5.0, 8.0, 2.0, 8.0, 23.0, 9.0, 3.0, 9.0, 2.0, 3.0, 5.0, 9.0, 2.0, 1.0, 2.0, 5.0, 2.0, 8.0, 7.0, 2.0, 0.0, 8.0, 2.0, 8.0, 22.0, 11.0, 7.0, 5.0, 8.0, 2.0, 5.0, 3.0, 6.0, 7.0, 7.0, 6.0, 17.0, 2.0, 2.0, 8.0, 5.0, 3.0, 5.0, 3.0, 7.0, 8.0, 6.0, 3.0, 15.0, 8.0, 10.0, 3.0, 8.0, 15.0, 5.0, 8.0, 19.0, 5.0, 7.0, 6.0, 8.0, 5.0, 2.0, 8.0, 10.0, 8.0, 0.0, 10.0, 27.0, 2.0, 6.0, 3.0, 11.0, 5.0, 3.0, 1.0, 1.0, 3.0, 14.0, 8.0, 5.0, 11.0, 7.0, 2.0, 0.0, 6.0, 2.0, 5.0, 6.0, 5.0, 6.0, 6.0, 5.0, 5.0, 8.0, 2.0, 11.0, 8.0, 7.0, 3.0, 0.0, 8.0, 5.0, 6.0, 1.0, 7.0, 6.0, 3.0, 13.0, 13.0, 8.0, 2.0, 0.0, 10.0, 7.0, 6.0, 3.0, 8.0, 3.0, 3.0, 6.0, 3.0, 6.0, 9.0, 7.0, 3.0, 5.0, 6.0, 3.0, 8.0, 3.0, 3.0, 9.0, 2.0, 2.0, 10.0, 2.0, 3.0, 5.0, 10.0, 7.0, 5.0, 5.0, 3.0, 0.0, 2.0, 20.0, 16.0, 7.0, 2.0, 6.0, 10.0, 3.0, 3.0, 0.0, 3.0, 7.0, 5.0, 2.0, 5.0, 8.0, 7.0, 17.0, 28.0, 6.0, 2.0, 8.0, 10.0, 9.0, 0.0, 13.0, 5.0, 5.0, 6.0, 17.0, 13.0, 8.0, 5.0, 11.0, 7.0, 3.0, 10.0, 22.0, 13.0, 3.0, 11.0, 7.0, 14.0, 9.0, 9.0, 2.0, 3.0, 6.0, 1.0, 10.0, 9.0, 7.0, 16.0, 13.0, 2.0, 11.0, 7.0, 3.0, 6.0, 13.0, 6.0, 3.0, 14.0, 0.0, 0.0, 3.0, 7.0, 5.0, 16.0, 13.0, 8.0, 10.0, 79.0, 18.0, 10.0, 7.0, 23.0, 8.0, 6.0, 5.0, 3.0, 0.0, 6.0, 10.0, 15.0, 2.0, 8.0, 2.0, 3.0, 7.0, 3.0, 2.0, 13.0, 9.0, 6.0, 6.0, 2.0, 8.0, 13.0, 2.0, 13.0, 0.0, 5.0, 11.0, 6.0, 3.0, 6.0, 0.0, 3.0, 2.0, 5.0, 11.0, 6.0, 3.0, 3.0, 7.0, 6.0, 2.0, 22.0, 1.0, 6.0, 2.0, 6.0, 5.0, 7.0, 2.0, 5.0, 23.0, 23.0, 2.0, 10.0, 5.0, 5.0, 11.0, 3.0, 1.0, 2.0, 5.0, 5.0, 2.0, 2.0, 6.0, 1.0, 5.0, 2.0, 6.0, 8.0, 9.0, 6.0, 1.0, 5.0, 11.0, 6.0, 8.0, 2.0, 2.0, 2.0, 5.0, 3.0, 8.0, 3.0, 2.0, 5.0, 1.0, 3.0, 2.0, 2.0, 6.0, 5.0, 3.0, 3.0, 7.0, 6.0, 6.0, 1.0, 3.0, 3.0, 10.0, 6.0, 16.0, 16.0, 5.0, 0.0, 2.0, 1.0, 20.0, 5.0, 2.0, 2.0, 3.0, 5.0, 5.0, 6.0, 7.0, 6.0, 7.0, 3.0, 3.0, 2.0, 5.0, 6.0, 3.0, 7.0, 7.0, 2.0, 3.0, 2.0, 2.0, 8.0, 9.0, 5.0, 5.0, 1.0, 2.0, 6.0, 2.0, 3.0, 3.0, 5.0, 5.0, 6.0, 3.0, 1.0, 3.0, 3.0, 8.0, 3.0, 2.0, 1.0, 2.0, 3.0, 1.0, 2.0, 6.0, 2.0, 3.0, 6.0, 2.0, 2.0, 2.0, 5.0, 13.0, 9.0, 1.0, 6.0, 7.0, 2.0, 8.0, 2.0, 3.0, 8.0, 3.0, 6.0, 3.0, 5.0, 8.0, 2.0, 8.0, 2.0, 9.0, 2.0, 2.0, 5.0, 6.0, 5.0, 6.0, 2.0, 6.0, 3.0, 2.0, 8.0, 3.0, 3.0, 1.0, 1.0, 3.0, 2.0, 3.0, 1.0, 2.0, 15.0, 7.0, 2.0, 2.0, 5.0, 2.0, 3.0, 5.0, 3.0, 5.0, 2.0, 5.0, 3.0, 6.0, 6.0, 5.0, 5.0, 2.0, 5.0, 2.0, 10.0, 3.0, 7.0, 5.0, 3.0, 1.0, 5.0, 2.0, 8.0, 6.0, 3.0, 6.0, 0.0, 3.0, 2.0, 5.0, 5.0, 3.0, 5.0, 5.0, 6.0, 5.0, 6.0, 5.0, 14.0, 5.0, 5.0, 7.0, 2.0, 5.0, 1.0, 0.0, 3.0, 6.0, 5.0, 9.0, 8.0, 9.0, 2.0, 6.0, 5.0, 3.0, 13.0, 7.0, 5.0, 2.0, 2.0, 5.0, 2.0, 2.0, 6.0, 7.0, 2.0, 3.0, 5.0, 5.0, 5.0, 6.0, 9.0, 2.0, 9.0, 1.0, 5.0, 7.0, 5.0, 6.0, 1.0, 7.0, 9.0, 1.0, 5.0, 0.0, 7.0, 1.0, 3.0, 6.0, 2.0, 3.0, 0.0, 7.0, 3.0, 3.0, 3.0, 3.0, 7.0, 3.0, 5.0, 5.0, 8.0, 2.0, 13.0, 17.0, 11.0, 2.0, 3.0, 6.0, 3.0, 0.0, 5.0, 1.0, 2.0, 5.0, 3.0, 2.0, 0.0, 5.0, 5.0, 7.0, 9.0, 2.0, 2.0, 2.0, 1.0, 5.0, 6.0, 3.0, 7.0, 5.0, 6.0, 14.0, 3.0, 1.0, 2.0, 1.0, 5.0, 1.0, 5.0, 3.0, 3.0, 6.0, 2.0, 5.0, 6.0, 5.0, 2.0, 5.0, 9.0, 3.0, 9.0, 2.0, 3.0, 2.0, 3.0, 5.0, 1.0, 7.0, 8.0, 1.0, 5.0, 10.0, 2.0, 3.0, 3.0, 10.0, 3.0, 2.0, 3.0, 5.0, 10.0, 6.0, 3.0, 3.0, 3.0, 5.0, 2.0, 3.0, 6.0, 5.0, 2.0, 7.0, 5.0, 3.0, 0.0]\n"
     ]
    }
   ],
   "source": [
    "print(aqi_list)"
   ]
  },
  {
   "cell_type": "code",
   "execution_count": 37,
   "metadata": {},
   "outputs": [
    {
     "name": "stdout",
     "output_type": "stream",
     "text": [
      "1725\n",
      "[18.  9. 20. 11.  6.]\n"
     ]
    }
   ],
   "source": [
    "aqi_array = np.array(aqi_list) \n",
    "print(len(aqi_array)) \n",
    "print(aqi_array[:5])"
   ]
  },
  {
   "cell_type": "markdown",
   "metadata": {},
   "source": [
    "# Task 2: Calculate summary statistics\n",
    "\n",
    "Now that you have the AQI data stored in an array, use NumPy functions to calculate some summary statistics about it.\n",
    "\n",
    "* Use built-in NumPy functions to print the following values from `aqi_array`:\n",
    "    1. Maximum value\n",
    "    2. Minimum value\n",
    "    3. Median value\n",
    "    4. Standard deviation\n",
    "\n",
    "*Expected result:*\n",
    "\n",
    "```\n",
    "[OUT] Max = 93.0\n",
    "      Min = 0.0\n",
    "      Median = 8.0\n",
    "      Std = 10.382982538847708\n",
    "```"
   ]
  },
  {
   "cell_type": "code",
   "execution_count": 38,
   "metadata": {},
   "outputs": [
    {
     "name": "stdout",
     "output_type": "stream",
     "text": [
      "Max = 93.0\n",
      "Min = 0.0\n",
      "Median = 8.0\n",
      "Std = 10.382982538847708\n"
     ]
    }
   ],
   "source": [
    "print(f\"Max = {np.max(aqi_array)}\")\n",
    "print(f\"Min = {np.min(aqi_array)}\")\n",
    "print(f\"Median = {np.median(aqi_array)}\")\n",
    "print(f\"Std = {np.std(aqi_array)}\")"
   ]
  },
  {
   "cell_type": "markdown",
   "metadata": {},
   "source": [
    "# Task 3: Calculate percentage of readings with cleanest AQI\n",
    "\n",
    "You are interested in how many air quality readings in the data represent the cleanest air, which we'll consider **readings of 5 or less.**\n",
    "\n",
    "To perform this calculation, you'll make use of one of the properties of arrays that make them so powerful: their element-wise operability. For example, when you add an integer to an `ndarray` using the `+` operator, it performs an element-wise addition on the whole array.\n",
    "\n",
    "```\n",
    "[IN]  my_array = np.array([1, 2, 3])\n",
    "      my_array = my_array + 10\n",
    "      print(my_array)\n",
    "\n",
    "[OUT] [11, 12, 13]\n",
    "```\n",
    "\n",
    "**The same concept applies to comparison operators used on an `ndarray`.** With this in mind:\n",
    "\n",
    "* Calculate the percentage of AQI readings that are considered cleanest:\n",
    "    1. Use a comparison statement to get an array of Boolean values that is the same length as `aqi_array`. Assign the result to variable called `boolean_aqi`.\n",
    "    2. Calculate the number of `True` values in the `boolean_aqi` and divide this number by the total number of values in the array. Assign the result to a variable named `percent_under_6` and print it.\n",
    "\n",
    "*Expected result:*\n",
    "\n",
    "```\n",
    "[OUT] 0.3194202898550725\n",
    "```\n",
    "\n",
    "\n"
   ]
  },
  {
   "cell_type": "code",
   "execution_count": 39,
   "metadata": {},
   "outputs": [
    {
     "data": {
      "text/plain": [
       "np.float64(0.3194202898550725)"
      ]
     },
     "execution_count": 39,
     "metadata": {},
     "output_type": "execute_result"
    }
   ],
   "source": [
    "boolean_aqi = (aqi_array <= 5)\n",
    "\n",
    "percent_under_6=boolean_aqi.sum()/len(boolean_aqi)\n",
    "\n",
    "percent_under_6"
   ]
  },
  {
   "cell_type": "markdown",
   "metadata": {},
   "source": [
    "## Conclusion\n",
    "\n",
    "**What are your key takeaways from this lab?**"
   ]
  },
  {
   "cell_type": "markdown",
   "metadata": {},
   "source": [
    "NumPy has significantly improved my data analysis process by offering high efficiency, especially with large datasets. Its optimized C implementation makes operations much faster than Python lists. Unlike lists, NumPy arrays store a single data type, making them more memory and computation efficient. Vectorized operations allow for quick element-wise calculations, eliminating the need for slow loops. Overall, NumPy enables faster and more efficient data manipulation, making it a powerful tool for handling large datasets."
   ]
  }
 ],
 "metadata": {
  "kernelspec": {
   "display_name": ".venv",
   "language": "python",
   "name": "python3"
  },
  "language_info": {
   "codemirror_mode": {
    "name": "ipython",
    "version": 3
   },
   "file_extension": ".py",
   "mimetype": "text/x-python",
   "name": "python",
   "nbconvert_exporter": "python",
   "pygments_lexer": "ipython3",
   "version": "3.13.0"
  }
 },
 "nbformat": 4,
 "nbformat_minor": 2
}
