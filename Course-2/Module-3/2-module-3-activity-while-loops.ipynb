{
 "cells": [
  {
   "cell_type": "markdown",
   "metadata": {},
   "source": [
    "<summary><h1>Activity: While loops</h1></summary>"
   ]
  },
  {
   "cell_type": "markdown",
   "metadata": {},
   "source": [
    "## Introduction \n",
    "\n",
    "Data analysts often work with code that requires repetition. In Python, iterative statements can help automate repetitive processes to make them more efficient.\n",
    "\n",
    "In this lab, imagine you have transitioned fully into marketing for the movie theater. One of your tasks is analyzing customer purchases at the concession stand and automating messages to alert staff when a customer has earned a coupon.\n",
    "\n",
    "You will practice using while loops to iterate through data and perform repeated comparisons. "
   ]
  },
  {
   "cell_type": "markdown",
   "metadata": {},
   "source": [
    "## Task 1: Iterate with a `while` loop\n",
    "\n",
    "While continuing your work as an analyst for a movie theater, you've been asked to create a function that will require a `while` loop. To prepare for the job, first practice using `while` loops.\n",
    "\n",
    "In this warmup task:\n",
    "\n",
    "* Create a variable called `candy_purchased` that will act as a counter. Initialize it with a starting value of `0`.\n",
    "* Write a `while` loop that will continue iterating until `5` candies have been purchased.\n",
    "    * Each iteration of the loop must print `'Candy purchased: {number}'` and increment `candy_purchased` by one.\n",
    "\n",
    "*Expected output:*\n",
    "```\n",
    "Candy purchased: 0\n",
    "Candy purchased: 1\n",
    "Candy purchased: 2\n",
    "Candy purchased: 3\n",
    "Candy purchased: 4\n",
    "Candy purchased: 5\n",
    "```"
   ]
  },
  {
   "cell_type": "code",
   "execution_count": 1,
   "metadata": {},
   "outputs": [
    {
     "name": "stdout",
     "output_type": "stream",
     "text": [
      "Candy purchased: 0\n",
      "Candy purchased: 1\n",
      "Candy purchased: 2\n",
      "Candy purchased: 3\n",
      "Candy purchased: 4\n",
      "Candy purchased: 5\n"
     ]
    }
   ],
   "source": [
    "candy_purchased=0\n",
    "\n",
    "while(candy_purchased<=5):\n",
    "    print(f\"Candy purchased: {candy_purchased}\")\n",
    "    candy_purchased+=1"
   ]
  },
  {
   "cell_type": "markdown",
   "metadata": {},
   "source": [
    "# Task 2: Iterate using `while` and `if`\n",
    "\n",
    "In the next warmup task, you'll use a `while` loop that has an `if` statement and some Boolean logic.\n",
    "\n",
    "* Write a `while` loop where `candy_purchased` begins at `0` and stops after 100 purchases have been made. Your code must:\n",
    "    * Increment `candy_purchased` by one with each iteration\n",
    "    * Print `'Candy purchased: {number}'` only when a multiple of 10 purchases have been made\n",
    "\n",
    "*Expected output:*\n",
    "```\n",
    "Candy purchased: 0\n",
    "Candy purchased: 10\n",
    "Candy purchased: 20\n",
    "Candy purchased: 30\n",
    "Candy purchased: 40\n",
    "Candy purchased: 50\n",
    "Candy purchased: 60\n",
    "Candy purchased: 70\n",
    "Candy purchased: 80\n",
    "Candy purchased: 90\n",
    "Candy purchased: 100\n",
    "```"
   ]
  },
  {
   "cell_type": "code",
   "execution_count": 2,
   "metadata": {},
   "outputs": [
    {
     "name": "stdout",
     "output_type": "stream",
     "text": [
      "Candy purchased: 0\n",
      "Candy purchased: 10\n",
      "Candy purchased: 20\n",
      "Candy purchased: 30\n",
      "Candy purchased: 40\n",
      "Candy purchased: 50\n",
      "Candy purchased: 60\n",
      "Candy purchased: 70\n",
      "Candy purchased: 80\n",
      "Candy purchased: 90\n",
      "Candy purchased: 100\n"
     ]
    }
   ],
   "source": [
    "candy_purchased=0\n",
    "\n",
    "while(candy_purchased<=100):\n",
    "    if(candy_purchased%10==0):\n",
    "        print(f\"Candy purchased: {candy_purchased}\")\n",
    "    candy_purchased+=1"
   ]
  },
  {
   "cell_type": "markdown",
   "metadata": {},
   "source": [
    "# Task 3: Create a webpage timer function\n",
    "\n",
    "Now that you have some practice constructing `while` loops, it's time to take on the project you've been asked to complete for the theater.\n",
    "\n",
    "This task makes use of a function called `sleep()` from the `time` module. Whenever `sleep(n)` is executed, the program will pause for `n` seconds. Run the below cell as an illustrative example to help you understand."
   ]
  },
  {
   "cell_type": "code",
   "execution_count": 3,
   "metadata": {},
   "outputs": [
    {
     "name": "stdout",
     "output_type": "stream",
     "text": [
      "3\n",
      "2\n",
      "1\n",
      "0\n"
     ]
    }
   ],
   "source": [
    "from time import sleep\n",
    "\n",
    "n = 3\n",
    "while n >= 0:\n",
    "    print(n)\n",
    "    sleep(1)    # Execution pauses for 1 second\n",
    "    n = n - 1   # Decrement n by 1"
   ]
  },
  {
   "cell_type": "markdown",
   "metadata": {},
   "source": [
    "For the purposes of this task, pretend that 1 second = 1 minute, so the above cell would represent a 3-minute countdown.\n",
    "\n",
    "The movie theater has implemented online reservations through their website. From the seat selection page, customers have a limited amount of time to make their selection. You must write a function that counts down and reminds the user that they have limited time to make a selection. When time expires, it must print a timeout message.\n",
    "\n",
    "*  Instantiate a variable called `mins` and assign it a starting value of `10`.\n",
    "*  Write a `while` loop that uses the `sleep()` function and decrements `mins` from `10` minutes. For each minute:\n",
    "\n",
    "    *  Print how many minutes remain as an integer. <br/>**BUT:**\n",
    "    *  If there are 5 minutes left, print `Place your reservation soon! 5 minutes remaining.` instead of the integer.\n",
    "    *  If there are 2 minutes left, print `Don't lose your seats! 2 minutes remaining.` instead of the integer.\n",
    "    *  When zero minutes remain, print `User timed out.` instead of the integer.\n",
    "\n",
    "*Expected output:*\n",
    "\n",
    "```\n",
    "10\n",
    "9\n",
    "8\n",
    "7\n",
    "6\n",
    "Place your reservation soon! 5 minutes remaining.\n",
    "4\n",
    "3\n",
    "Don't lose your seats! 2 minutes remaining.\n",
    "1\n",
    "User timed out.\n",
    "```\n",
    "\n",
    "**Note that there is more than one way to solve this problem.**"
   ]
  },
  {
   "cell_type": "code",
   "execution_count": 4,
   "metadata": {},
   "outputs": [
    {
     "name": "stdout",
     "output_type": "stream",
     "text": [
      "10\n",
      "9\n",
      "8\n",
      "7\n",
      "6\n",
      "Place your reservation soon! 5 minutes remaining.\n",
      "4\n",
      "3\n",
      "Don't lose your seats! 2 minutes remaining.\n",
      "1\n",
      "User timed out.\n"
     ]
    }
   ],
   "source": [
    "from time import sleep\n",
    "\n",
    "mins=10\n",
    "\n",
    "while(mins>=0):\n",
    "    sleep(1)\n",
    "    if(mins==5):\n",
    "        print(\"Place your reservation soon! 5 minutes remaining.\")\n",
    "    elif(mins==2):\n",
    "        print(\"Don't lose your seats! 2 minutes remaining.\")\n",
    "    elif(mins==0):\n",
    "        print(\"User timed out.\")\n",
    "    else:\n",
    "        print(mins)\n",
    "    mins-=1"
   ]
  },
  {
   "cell_type": "markdown",
   "metadata": {},
   "source": [
    "## Conclusion\n",
    "\n",
    "**What are your key takeaways from this lab?**"
   ]
  },
  {
   "cell_type": "markdown",
   "metadata": {},
   "source": [
    "My key takeaway is that the while loop helps iterate over a condition, making repetitive tasks more manageable. The if statement works alongside it to control the flow of the code, ensuring specific actions happen under certain conditions. Together, they enable efficient iteration and decision-making based on changing conditions. Additionally, the sleep() function from the time module allows me to introduce delays, making the code more dynamic and time-sensitive."
   ]
  }
 ],
 "metadata": {
  "kernelspec": {
   "display_name": ".venv",
   "language": "python",
   "name": "python3"
  },
  "language_info": {
   "codemirror_mode": {
    "name": "ipython",
    "version": 3
   },
   "file_extension": ".py",
   "mimetype": "text/x-python",
   "name": "python",
   "nbconvert_exporter": "python",
   "pygments_lexer": "ipython3",
   "version": "3.13.0"
  }
 },
 "nbformat": 4,
 "nbformat_minor": 2
}
