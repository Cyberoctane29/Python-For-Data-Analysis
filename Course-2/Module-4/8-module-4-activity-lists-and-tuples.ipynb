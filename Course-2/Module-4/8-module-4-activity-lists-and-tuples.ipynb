{
 "cells": [
  {
   "cell_type": "markdown",
   "metadata": {},
   "source": [
    "<h1>Activity: Introduction to lists and tuples</h1>"
   ]
  },
  {
   "cell_type": "markdown",
   "metadata": {},
   "source": [
    "## Introduction \n",
    "\n",
    "In this lab, you will practice creating, modifying, and working with data structures in Python. This will develop your knowledge of different kinds of data structures and the different operations that you can perform with them to answer questions about the data. This will help you prepare for projects you may encounter where you will need to use data structures to store and keep track of data.\n",
    "\n",
    "For this activity, you are part of a research team that focuses on air quality, and you have received a few data points collected by the U.S. Environmental Protection Agency (EPA). Your goal is to store and organize this data, so that it can be accessed and updated easily.\n",
    "\n",
    "In this lab, you'll be working specifically with the state names and county names of places that reported air quality index readings."
   ]
  },
  {
   "cell_type": "markdown",
   "metadata": {},
   "source": [
    "## Task 1: Create lists and use tuples\n",
    "\n",
    "As you continue your work with the EPA, you want to create an ordered data structure containing pairs of values, which can be iterated over to gain insights from the data."
   ]
  },
  {
   "cell_type": "markdown",
   "metadata": {},
   "source": [
    "### 1a: Create lists\n",
    "\n",
    "You'll work with state names and county names indicated below.\n",
    "\n",
    "| state_name | county_name |\n",
    "| --- | --- |\n",
    "| Arizona | Maricopa |\n",
    "| California | Alameda |\n",
    "| California | Sacramento |\n",
    "| Kentucky | Jefferson |\n",
    "| Louisiana | East Baton Rouge |\n",
    "\n",
    "<br/>\n",
    "\n",
    "\n",
    "*  In this task, assign two variables:\n",
    "\n",
    "    1. `state_names` - a `list` of each state in the `state_name` column in the table above, in order, as strings\n",
    "    2. `county_names` - a `list` of each county in the `county_name` column in the table above, in order, as strings\n",
    "\n"
   ]
  },
  {
   "cell_type": "code",
   "execution_count": 1,
   "metadata": {},
   "outputs": [],
   "source": [
    "state_names=['Arizona', 'California', 'California', 'Kentucky', 'Louisiana']\n",
    "\n",
    "county_names=['Maricopa', 'Alameda', 'Sacramento', 'Jefferson', 'East Baton Rogue']"
   ]
  },
  {
   "cell_type": "markdown",
   "metadata": {},
   "source": [
    "### 1b: Use a loop to combine the lists into a single list of tuples\n",
    "\n",
    "* Use `state_names` and `county_names` to:\n",
    "    * Create a new list of tuples, where each tuple contains a pair of state name and county name.\n",
    "    * Assign the new list to a variable called `state_county_tuples`.\n",
    "* Print the result\n",
    "\n",
    "*Expected result:*\n",
    "\n",
    "```\n",
    "[OUT] [('Arizona', 'Maricopa'),\n",
    "       ('California', 'Alameda'),\n",
    "       ('California', 'Sacramento'),\n",
    "       ('Kentucky', 'Jefferson'),\n",
    "       ('Louisiana', 'East Baton Rouge')]\n",
    "```"
   ]
  },
  {
   "cell_type": "code",
   "execution_count": 6,
   "metadata": {},
   "outputs": [
    {
     "name": "stdout",
     "output_type": "stream",
     "text": [
      "[('Arizona', 'Maricopa'), ('California', 'Alameda'), ('California', 'Sacramento'), ('Kentucky', 'Jefferson'), ('Louisiana', 'East Baton Rogue')]\n"
     ]
    }
   ],
   "source": [
    "state_county_tuples=[]\n",
    "for i in range(len(state_names)):\n",
    "    state_county_tuples.append((state_names[i],county_names[i]))\n",
    "\n",
    "print(state_county_tuples)"
   ]
  },
  {
   "cell_type": "markdown",
   "metadata": {},
   "source": [
    "### 1c: Use the `zip()` function to combine the lists into a single list of tuples\n",
    "\n",
    "Python has a built-in function to make the above process much easier. It's called the `zip()` function. This function accepts any number of iterable objects as arguments. If the arguments are all of equal length, the function returns an iterator object of tuples, where each tuple contains `element[i]` of each argument.\n",
    "\n",
    "You can then either loop over the iterator object or pass it to the `list()` function to unpack its values.\n",
    "\n",
    "Refer to the [zip() Python documentation](https://docs.python.org/3/library/functions.html#zip) for more information.\n",
    "\n",
    "Here's an example:\n",
    "\n"
   ]
  },
  {
   "cell_type": "code",
   "execution_count": 7,
   "metadata": {},
   "outputs": [
    {
     "name": "stdout",
     "output_type": "stream",
     "text": [
      "<zip object at 0x000001F2AD606240>\n",
      "[('a', 1), ('b', 2), ('c', 3)]\n"
     ]
    }
   ],
   "source": [
    "# RUN THIS CELL\n",
    "a = ['a', 'b', 'c']\n",
    "b = [1, 2, 3]\n",
    "c = zip(a, b)\n",
    "\n",
    "print(c)\n",
    "print(list(c))"
   ]
  },
  {
   "cell_type": "markdown",
   "metadata": {},
   "source": [
    "Use the `zip()` function to generate the same output created in Task 1b.\n",
    "\n",
    "1. Use `state_names` and `county_names` to:\n",
    "    * Create a new list of tuples, where each tuple contains a pair of state name and county name.\n",
    "    * Assign the new list to a variable called `state_county_zipped`.\n",
    "2. Check that `state_county_zipped` is the same as `state_county_tuples`."
   ]
  },
  {
   "cell_type": "code",
   "execution_count": 8,
   "metadata": {},
   "outputs": [
    {
     "name": "stdout",
     "output_type": "stream",
     "text": [
      "[('Arizona', 'Maricopa'), ('California', 'Alameda'), ('California', 'Sacramento'), ('Kentucky', 'Jefferson'), ('Louisiana', 'East Baton Rogue')]\n"
     ]
    },
    {
     "data": {
      "text/plain": [
       "True"
      ]
     },
     "execution_count": 8,
     "metadata": {},
     "output_type": "execute_result"
    }
   ],
   "source": [
    "state_county_zipped=list(zip(state_names,county_names))\n",
    "print(state_county_zipped)\n",
    "\n",
    "state_county_tuples==state_county_zipped"
   ]
  },
  {
   "cell_type": "markdown",
   "metadata": {},
   "source": [
    "## Task 2: Use list comprehension to convert to list of lists\n",
    "\n",
    "Since tuples are immutable and can't be changed, converting tuples to lists is a practice data professionals use so they can make adjustments to the data, if necessary.\n",
    "\n",
    "* Use a list comprehension to convert `state_county_tuples` from a list of tuples to a list of lists. Assign the result to a variable called `state_county_lists`.\n",
    "\n",
    "* Print the result.\n",
    "\n",
    "*Expected result:*\n",
    "\n",
    "```\n",
    "[OUT] [['Arizona', 'Maricopa'],\n",
    "       ['California', 'Alameda'],\n",
    "       ['California', 'Sacramento'],\n",
    "       ['Kentucky', 'Jefferson'],\n",
    "       ['Louisiana', 'East Baton Rouge']]\n",
    "```"
   ]
  },
  {
   "cell_type": "code",
   "execution_count": 9,
   "metadata": {},
   "outputs": [
    {
     "name": "stdout",
     "output_type": "stream",
     "text": [
      "[['Arizona', 'Maricopa'], ['California', 'Alameda'], ['California', 'Sacramento'], ['Kentucky', 'Jefferson'], ['Louisiana', 'East Baton Rogue']]\n"
     ]
    }
   ],
   "source": [
    "state_county_list=[[state_county[0],state_county[1]] for state_county in state_county_tuples]\n",
    "\n",
    "print(state_county_list)"
   ]
  },
  {
   "cell_type": "markdown",
   "metadata": {},
   "source": [
    "## Task 3: Unpacking an iterable\n",
    "\n",
    "Data professionals often use the technique of unpacking to work with individual elements of iterable objects. As you continue in your work as an analyst, you are asked to iterate through your list of state/county pairs to identify only the counties in California.\n",
    "\n",
    "As a refresher, here is the data you have been working with:\n",
    "\n",
    "| state_name | county_name |\n",
    "| --- | --- |\n",
    "| Arizona | Maricopa |\n",
    "| California | Alameda |\n",
    "| California | Sacramento |\n",
    "| Kentucky | Jefferson |\n",
    "| Louisiana | East Baton Rouge |\n"
   ]
  },
  {
   "cell_type": "markdown",
   "metadata": {},
   "source": [
    "### 3a: Unpacking in a loop\n",
    "\n",
    "* Write a loop that unpacks each tuple in `state_county_tuples` and, if the state in the tuple is `California`, add the corresponding county to a list called `ca_counties`.\n",
    "\n",
    "*Expected output:*\n",
    "\n",
    "```\n",
    "[OUT] ['Alameda', 'Sacramento']\n",
    "```"
   ]
  },
  {
   "cell_type": "code",
   "execution_count": 14,
   "metadata": {},
   "outputs": [
    {
     "name": "stdout",
     "output_type": "stream",
     "text": [
      "['Alameda', 'Sacramento']\n"
     ]
    }
   ],
   "source": [
    "ca_counties=[]\n",
    "\n",
    "for state,county in state_county_tuples:\n",
    "    if(state==\"California\"):\n",
    "        ca_counties.append(county)\n",
    "\n",
    "print(ca_counties)"
   ]
  },
  {
   "cell_type": "markdown",
   "metadata": {},
   "source": [
    "### 3b: Unpacking in a list comprehension\n",
    "\n",
    "Now, use a list comprehension to accomplish the same thing as what you did in Task 3a.\n",
    "\n",
    "* In a list comprehension, unpack each tuple in `state_county_tuples` and, if the state in the tuple is `California`, add the corresponding county to the list comprehension.\n",
    "\n",
    "* Assign the result to a variable called `ca_counties`.\n",
    "\n",
    "* Print `ca_counties`.\n",
    "\n",
    "*Expected output:*\n",
    "\n",
    "```\n",
    "[OUT] ['Alameda', 'Sacramento']\n",
    "```"
   ]
  },
  {
   "cell_type": "code",
   "execution_count": 15,
   "metadata": {},
   "outputs": [
    {
     "name": "stdout",
     "output_type": "stream",
     "text": [
      "['Alameda', 'Sacramento']\n"
     ]
    }
   ],
   "source": [
    "ca_counties=[state_county[1] for state_county in state_county_tuples if state_county[0]==\"California\"]\n",
    "\n",
    "print(ca_counties)"
   ]
  },
  {
   "cell_type": "markdown",
   "metadata": {},
   "source": [
    "## Conclusion\n",
    "\n",
    "**What are your key takeaways from this lab?**"
   ]
  },
  {
   "cell_type": "markdown",
   "metadata": {},
   "source": [
    "Lists and tuples are essential data types in Python, with lists being mutable and versatile, while tuples are immutable and perfect for fixed sequences. The zip() function combines iterables element-wise, pairing corresponding elements into tuples, and both lists and tuples can be unpacked to retrieve individual elements, making data manipulation more readable. Additionally, list comprehensions offer a concise and efficient way to create lists from iterables in a single line. These techniques have significantly enhanced my ability to work with data efficiently in Python."
   ]
  }
 ],
 "metadata": {
  "kernelspec": {
   "display_name": ".venv",
   "language": "python",
   "name": "python3"
  },
  "language_info": {
   "codemirror_mode": {
    "name": "ipython",
    "version": 3
   },
   "file_extension": ".py",
   "mimetype": "text/x-python",
   "name": "python",
   "nbconvert_exporter": "python",
   "pygments_lexer": "ipython3",
   "version": "3.13.0"
  }
 },
 "nbformat": 4,
 "nbformat_minor": 2
}
