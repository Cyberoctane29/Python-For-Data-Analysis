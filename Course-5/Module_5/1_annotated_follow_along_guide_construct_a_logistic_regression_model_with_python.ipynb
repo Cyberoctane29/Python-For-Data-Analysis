{
 "cells": [
  {
   "cell_type": "markdown",
   "metadata": {
    "id": "YuVzCKZsD80q"
   },
   "source": [
    "# Binomial logistic regression (Part 1)\n"
   ]
  },
  {
   "cell_type": "markdown",
   "metadata": {
    "id": "aFu3ohRS7AqS"
   },
   "source": [
    "Throughout the following exercises, you will learn to use Python to build and evaluate a binomial logistic regression model. Before starting on this programming exercise, we strongly recommend watching the video lecture and completing the IVQ for the associated topics."
   ]
  },
  {
   "cell_type": "markdown",
   "metadata": {
    "id": "9NzZBvWT7Nkb"
   },
   "source": [
    "All the information you need for solving this assignment is in this notebook, and all the code you will be implementing will take place within this notebook."
   ]
  },
  {
   "cell_type": "markdown",
   "metadata": {
    "id": "98Uwa9yj7PlY"
   },
   "source": [
    "As we move forward, you can find instructions on how to install required libraries as they arise in this notebook. Before we begin with the exercises and analyzing the data, we need to import all libraries and extensions required for this programming exercise. Throughout the course, we will be using pandas and sickit-learn for operations, and seaborn for plotting."
   ]
  },
  {
   "cell_type": "markdown",
   "metadata": {
    "id": "kNZmIAr2RuLq"
   },
   "source": [
    "## Relevant imports"
   ]
  },
  {
   "cell_type": "markdown",
   "metadata": {
    "id": "K1ds6EDlMa13"
   },
   "source": [
    "Begin by importing the relevant packages and data."
   ]
  },
  {
   "cell_type": "code",
   "execution_count": 1,
   "metadata": {
    "id": "ku7DYiI4TJfe"
   },
   "outputs": [],
   "source": [
    "# Import pandas and seaborn packages\n",
    "import pandas as pd\n",
    "import seaborn as sns"
   ]
  },
  {
   "cell_type": "markdown",
   "metadata": {
    "id": "_XJ0dXPrTZt7"
   },
   "source": [
    "## Exploratory data analysis "
   ]
  },
  {
   "cell_type": "markdown",
   "metadata": {
    "id": "7i103UlWVy9t"
   },
   "source": [
    "**Note:** The following code cell is shown in the video, but it will only work if the .csv file is in the same folder as the notebook. Otherwise, please follow the data loading process outlined above."
   ]
  },
  {
   "cell_type": "code",
   "execution_count": 2,
   "metadata": {
    "id": "szENw9kUTFu5"
   },
   "outputs": [],
   "source": [
    "# Load in if csv file is in the same folder as notebook\n",
    "activity = pd.read_csv(r\"C:\\Users\\saswa\\Documents\\GitHub\\Python-For-Data-Analysis\\Course-5\\Data\\module_5_data\\activity.csv\")"
   ]
  },
  {
   "cell_type": "code",
   "execution_count": 3,
   "metadata": {
    "colab": {
     "base_uri": "https://localhost:8080/",
     "height": 300
    },
    "executionInfo": {
     "elapsed": 149,
     "status": "ok",
     "timestamp": 1660312975159,
     "user": {
      "displayName": "Rebecca Weng",
      "userId": "08002348150894593460"
     },
     "user_tz": 240
    },
    "id": "SnbYODnCTi8K",
    "outputId": "93858599-4fd2-4107-d7cd-083eba7daddb"
   },
   "outputs": [
    {
     "data": {
      "text/html": [
       "<div>\n",
       "<style scoped>\n",
       "    .dataframe tbody tr th:only-of-type {\n",
       "        vertical-align: middle;\n",
       "    }\n",
       "\n",
       "    .dataframe tbody tr th {\n",
       "        vertical-align: top;\n",
       "    }\n",
       "\n",
       "    .dataframe thead th {\n",
       "        text-align: right;\n",
       "    }\n",
       "</style>\n",
       "<table border=\"1\" class=\"dataframe\">\n",
       "  <thead>\n",
       "    <tr style=\"text-align: right;\">\n",
       "      <th></th>\n",
       "      <th>Acc (vertical)</th>\n",
       "      <th>LyingDown</th>\n",
       "    </tr>\n",
       "  </thead>\n",
       "  <tbody>\n",
       "    <tr>\n",
       "      <th>count</th>\n",
       "      <td>494.000000</td>\n",
       "      <td>494.000000</td>\n",
       "    </tr>\n",
       "    <tr>\n",
       "      <th>mean</th>\n",
       "      <td>45.512363</td>\n",
       "      <td>0.516194</td>\n",
       "    </tr>\n",
       "    <tr>\n",
       "      <th>std</th>\n",
       "      <td>44.799360</td>\n",
       "      <td>0.500244</td>\n",
       "    </tr>\n",
       "    <tr>\n",
       "      <th>min</th>\n",
       "      <td>-48.459000</td>\n",
       "      <td>0.000000</td>\n",
       "    </tr>\n",
       "    <tr>\n",
       "      <th>25%</th>\n",
       "      <td>0.918650</td>\n",
       "      <td>0.000000</td>\n",
       "    </tr>\n",
       "    <tr>\n",
       "      <th>50%</th>\n",
       "      <td>41.109500</td>\n",
       "      <td>1.000000</td>\n",
       "    </tr>\n",
       "    <tr>\n",
       "      <th>75%</th>\n",
       "      <td>89.339000</td>\n",
       "      <td>1.000000</td>\n",
       "    </tr>\n",
       "    <tr>\n",
       "      <th>max</th>\n",
       "      <td>112.310000</td>\n",
       "      <td>1.000000</td>\n",
       "    </tr>\n",
       "  </tbody>\n",
       "</table>\n",
       "</div>"
      ],
      "text/plain": [
       "       Acc (vertical)   LyingDown\n",
       "count      494.000000  494.000000\n",
       "mean        45.512363    0.516194\n",
       "std         44.799360    0.500244\n",
       "min        -48.459000    0.000000\n",
       "25%          0.918650    0.000000\n",
       "50%         41.109500    1.000000\n",
       "75%         89.339000    1.000000\n",
       "max        112.310000    1.000000"
      ]
     },
     "execution_count": 3,
     "metadata": {},
     "output_type": "execute_result"
    }
   ],
   "source": [
    "# Get summary statistics about the dataset\n",
    "activity.describe()"
   ]
  },
  {
   "cell_type": "code",
   "execution_count": 4,
   "metadata": {
    "colab": {
     "base_uri": "https://localhost:8080/",
     "height": 206
    },
    "executionInfo": {
     "elapsed": 14,
     "status": "ok",
     "timestamp": 1660312981736,
     "user": {
      "displayName": "Rebecca Weng",
      "userId": "08002348150894593460"
     },
     "user_tz": 240
    },
    "id": "G0bqgWQWTnUp",
    "outputId": "6a2bc422-97c6-4634-fc1c-c4aa12c57c78"
   },
   "outputs": [
    {
     "data": {
      "text/html": [
       "<div>\n",
       "<style scoped>\n",
       "    .dataframe tbody tr th:only-of-type {\n",
       "        vertical-align: middle;\n",
       "    }\n",
       "\n",
       "    .dataframe tbody tr th {\n",
       "        vertical-align: top;\n",
       "    }\n",
       "\n",
       "    .dataframe thead th {\n",
       "        text-align: right;\n",
       "    }\n",
       "</style>\n",
       "<table border=\"1\" class=\"dataframe\">\n",
       "  <thead>\n",
       "    <tr style=\"text-align: right;\">\n",
       "      <th></th>\n",
       "      <th>Acc (vertical)</th>\n",
       "      <th>LyingDown</th>\n",
       "    </tr>\n",
       "  </thead>\n",
       "  <tbody>\n",
       "    <tr>\n",
       "      <th>0</th>\n",
       "      <td>96.229</td>\n",
       "      <td>0</td>\n",
       "    </tr>\n",
       "    <tr>\n",
       "      <th>1</th>\n",
       "      <td>84.746</td>\n",
       "      <td>0</td>\n",
       "    </tr>\n",
       "    <tr>\n",
       "      <th>2</th>\n",
       "      <td>82.449</td>\n",
       "      <td>0</td>\n",
       "    </tr>\n",
       "    <tr>\n",
       "      <th>3</th>\n",
       "      <td>106.560</td>\n",
       "      <td>0</td>\n",
       "    </tr>\n",
       "    <tr>\n",
       "      <th>4</th>\n",
       "      <td>80.152</td>\n",
       "      <td>0</td>\n",
       "    </tr>\n",
       "  </tbody>\n",
       "</table>\n",
       "</div>"
      ],
      "text/plain": [
       "   Acc (vertical)  LyingDown\n",
       "0          96.229          0\n",
       "1          84.746          0\n",
       "2          82.449          0\n",
       "3         106.560          0\n",
       "4          80.152          0"
      ]
     },
     "execution_count": 4,
     "metadata": {},
     "output_type": "execute_result"
    }
   ],
   "source": [
    "# Examine the dataset\n",
    "activity.head()"
   ]
  },
  {
   "cell_type": "markdown",
   "metadata": {
    "id": "DhQOZeiaT22w"
   },
   "source": [
    "## Construct binomial logistic regression model"
   ]
  },
  {
   "cell_type": "markdown",
   "metadata": {
    "id": "vm5-H84dZbon"
   },
   "source": [
    "For binomial logistic regression, we'll be using the `scikit-learn` package, which is frequently used for machine learning and more advanced data science topics. For the purposes of this exercise, we'll only load in the functions we need: `train_test_split()` and `LogisticRegression()`."
   ]
  },
  {
   "cell_type": "code",
   "execution_count": 5,
   "metadata": {
    "id": "U35tLg4rT0wJ"
   },
   "outputs": [],
   "source": [
    "# Load in sci-kit learn functions for constructing logistic regression\n",
    "from sklearn.model_selection import train_test_split\n",
    "from sklearn.linear_model import LogisticRegression"
   ]
  },
  {
   "cell_type": "markdown",
   "metadata": {
    "id": "Pt6gCjCxZxIr"
   },
   "source": [
    "Then, we'll save the data into variables called X and y so we can use the `train_test_split()` function more easily. Remember that you can subset specific columns of a DataFrame object by using double square brackets: `[[]]` and listing the columns in between, separated by commas."
   ]
  },
  {
   "cell_type": "code",
   "execution_count": 6,
   "metadata": {
    "id": "J6gEcI3nVEdA"
   },
   "outputs": [],
   "source": [
    "# Save X and y data into variables\n",
    "X = activity[[\"Acc (vertical)\"]]\n",
    "y = activity[[\"LyingDown\"]]"
   ]
  },
  {
   "cell_type": "markdown",
   "metadata": {
    "id": "XFjASWrkZ22w"
   },
   "source": [
    "Then we'll split the data into training and holdout datasets. We set the `test_size` to `0.3` so that the holdout dataset is only 30% of the total data we have. We'll set the `random_state` equal to `42`. If you change this variable, then your results will be different from ours. Setting the `random_state` is mainly for reproducibility purposes."
   ]
  },
  {
   "cell_type": "code",
   "execution_count": 7,
   "metadata": {
    "id": "8QtbIfy2VNql"
   },
   "outputs": [],
   "source": [
    "# Split dataset into training and holdout datasets\n",
    "X_train, X_test, y_train, y_test = train_test_split(X,y, test_size=0.3, random_state=42)"
   ]
  },
  {
   "cell_type": "markdown",
   "metadata": {
    "id": "q9Y_Q6KFaLDb"
   },
   "source": [
    "Then we'll build our classifier, and fit the model to the data by using the `.fit()` function. We'll save the fitted model as a variable called `clf`."
   ]
  },
  {
   "cell_type": "code",
   "execution_count": 8,
   "metadata": {
    "colab": {
     "base_uri": "https://localhost:8080/"
    },
    "executionInfo": {
     "elapsed": 131,
     "status": "ok",
     "timestamp": 1660315959140,
     "user": {
      "displayName": "Rebecca Weng",
      "userId": "08002348150894593460"
     },
     "user_tz": 240
    },
    "id": "l3Rv5aTmVPSK",
    "outputId": "94aa4671-0899-4e43-fbdb-05e19a7e02d9"
   },
   "outputs": [],
   "source": [
    "clf = LogisticRegression().fit(X_train, y_train.squeeze())\n"
   ]
  },
  {
   "cell_type": "markdown",
   "metadata": {
    "id": "PnUMpj--fFOu"
   },
   "source": [
    "## Get coefficients and visualize model"
   ]
  },
  {
   "cell_type": "markdown",
   "metadata": {
    "id": "sKauz4Kzfmo-"
   },
   "source": [
    "We can use the `coef_` and `intercept_` attributes of the `clf` object to get the coefficient and intercept of our model."
   ]
  },
  {
   "cell_type": "code",
   "execution_count": 9,
   "metadata": {
    "colab": {
     "base_uri": "https://localhost:8080/"
    },
    "executionInfo": {
     "elapsed": 212,
     "status": "ok",
     "timestamp": 1649713682019,
     "user": {
      "displayName": "Juan Delgado",
      "userId": "16851183442870430714"
     },
     "user_tz": 420
    },
    "id": "EYfPtlrQVZu6",
    "outputId": "51d89495-fbbd-42ca-a589-025134a2aa37"
   },
   "outputs": [
    {
     "data": {
      "text/plain": [
       "array([[-0.1177471]])"
      ]
     },
     "execution_count": 9,
     "metadata": {},
     "output_type": "execute_result"
    }
   ],
   "source": [
    "# Print the coefficient\n",
    "clf.coef_"
   ]
  },
  {
   "cell_type": "code",
   "execution_count": 10,
   "metadata": {
    "colab": {
     "base_uri": "https://localhost:8080/"
    },
    "executionInfo": {
     "elapsed": 7,
     "status": "ok",
     "timestamp": 1649713682019,
     "user": {
      "displayName": "Juan Delgado",
      "userId": "16851183442870430714"
     },
     "user_tz": 420
    },
    "id": "FSpqvdK4VbHl",
    "outputId": "b7d6ee76-8414-4cd1-e76a-3889915ef14e"
   },
   "outputs": [
    {
     "data": {
      "text/plain": [
       "array([6.10180958])"
      ]
     },
     "execution_count": 10,
     "metadata": {},
     "output_type": "execute_result"
    }
   ],
   "source": [
    "# Print the intercept\n",
    "clf.intercept_"
   ]
  },
  {
   "cell_type": "markdown",
   "metadata": {
    "id": "35pK54dfp_OA"
   },
   "source": [
    "So, based on what we've found, our model has an intercept or $\\beta_0$ of 6.10 and a $\\beta_1$ of -0.12. Now we can plot our model and data with a 95% confidence band using the `regplot()` function from the `seaborn` package. Remember to set the argument `logistic=True` so that the function knows we are plotting a logistic regression model, not a linear regression model."
   ]
  },
  {
   "cell_type": "code",
   "execution_count": 11,
   "metadata": {
    "colab": {
     "base_uri": "https://localhost:8080/",
     "height": 386
    },
    "executionInfo": {
     "elapsed": 11047,
     "status": "ok",
     "timestamp": 1649713693063,
     "user": {
      "displayName": "Juan Delgado",
      "userId": "16851183442870430714"
     },
     "user_tz": 420
    },
    "id": "CvXw7hN_VpTZ",
    "outputId": "db97cd3d-ef1b-44b1-8c90-a79aa3ac1b55"
   },
   "outputs": [
    {
     "data": {
      "text/plain": [
       "<Axes: xlabel='Acc (vertical)', ylabel='LyingDown'>"
      ]
     },
     "execution_count": 11,
     "metadata": {},
     "output_type": "execute_result"
    },
    {
     "data": {
      "image/png": "[encoded data removed]",
      "text/plain": [
       "<Figure size 640x480 with 1 Axes>"
      ]
     },
     "metadata": {},
     "output_type": "display_data"
    }
   ],
   "source": [
    "# Plot the logistic regression and its confidence band\n",
    "sns.regplot(x=\"Acc (vertical)\", y=\"LyingDown\", data=activity, logistic=True)"
   ]
  },
  {
   "cell_type": "markdown",
   "metadata": {
    "id": "0_Ruha3DV4PO"
   },
   "source": [
    "# Confusion matrix (Part II)"
   ]
  },
  {
   "cell_type": "markdown",
   "metadata": {
    "id": "M2gju1B8gmSi"
   },
   "source": [
    "This part of the notebook contains all of the code that will be presented in the second part of this section in the course. The focus is on **confusion matrices**, which are used to evaluate classification models, such as a binomial logistic regression model. \n",
    "\n",
    "**Note:** We are assuming that the earlier parts of this notebook have been run, and that the existing variables and imported packages have been saved. "
   ]
  },
  {
   "cell_type": "markdown",
   "metadata": {
    "id": "5RuQLzv6WaqZ"
   },
   "source": [
    "## Construct logistic regression model"
   ]
  },
  {
   "cell_type": "markdown",
   "metadata": {
    "id": "4Lx_Lt68hWBs"
   },
   "source": [
    "Once again, we split our data, which is currently saved as variables `X` and `y`, into training and holdout datasets using the `train_test_split()` function. The function has already been imported from the `scikit-learn` package. Then, we build the model by using the `LogisticRegression()` function with the `.fit()` function.\n",
    "\n",
    "Next, we can save our model's predictions by inputting the holdout sample, `X_test` into the model's `.predict()` function."
   ]
  },
  {
   "cell_type": "code",
   "execution_count": 12,
   "metadata": {
    "colab": {
     "base_uri": "https://localhost:8080/"
    },
    "executionInfo": {
     "elapsed": 138,
     "status": "ok",
     "timestamp": 1660316061854,
     "user": {
      "displayName": "Rebecca Weng",
      "userId": "08002348150894593460"
     },
     "user_tz": 240
    },
    "id": "ZVDOckUsV5Zh",
    "outputId": "5bee8075-c21b-482d-abea-2f26789cc557"
   },
   "outputs": [
    {
     "name": "stderr",
     "output_type": "stream",
     "text": [
      "c:\\Users\\saswa\\Documents\\GitHub\\Python-For-Data-Analysis\\.venv\\Lib\\site-packages\\sklearn\\utils\\validation.py:1408: DataConversionWarning: A column-vector y was passed when a 1d array was expected. Please change the shape of y to (n_samples, ), for example using ravel().\n",
      "  y = column_or_1d(y, warn=True)\n"
     ]
    }
   ],
   "source": [
    "# Split data into training and holdout samples\n",
    "X_train, X_test, y_train, y_test = train_test_split(X, y, test_size=0.3, random_state=42)\n",
    "\n",
    "# Build regression model\n",
    "clf = LogisticRegression().fit(X_train,y_train)\n",
    "\n",
    "# Save predictions\n",
    "y_pred = clf.predict(X_test)"
   ]
  },
  {
   "cell_type": "markdown",
   "metadata": {
    "id": "7JCH5pd7hw40"
   },
   "source": [
    "We can print out the predicted labels by just calling on `clf.predict(X_test)`. Recall that 0 means not lying down, and 1 means lying down."
   ]
  },
  {
   "cell_type": "code",
   "execution_count": 13,
   "metadata": {
    "colab": {
     "base_uri": "https://localhost:8080/"
    },
    "executionInfo": {
     "elapsed": 157,
     "status": "ok",
     "timestamp": 1660316063049,
     "user": {
      "displayName": "Rebecca Weng",
      "userId": "08002348150894593460"
     },
     "user_tz": 240
    },
    "id": "sm8fa5eXV9yo",
    "outputId": "e76692e9-29fb-4295-e753-5b06bbfccc2e"
   },
   "outputs": [
    {
     "data": {
      "text/plain": [
       "array([0, 1, 0, 0, 1, 0, 0, 1, 1, 0, 1, 0, 0, 1, 1, 0, 0, 0, 1, 1, 0, 1,\n",
       "       1, 0, 1, 0, 1, 1, 0, 1, 0, 0, 1, 0, 1, 0, 1, 1, 1, 1, 0, 1, 0, 1,\n",
       "       0, 0, 0, 0, 0, 0, 1, 0, 0, 1, 0, 1, 0, 1, 0, 1, 0, 0, 0, 1, 0, 0,\n",
       "       1, 1, 0, 0, 1, 0, 0, 0, 0, 0, 1, 1, 0, 0, 0, 1, 1, 0, 1, 0, 1, 1,\n",
       "       1, 0, 1, 0, 1, 1, 1, 1, 1, 0, 1, 1, 0, 0, 1, 1, 1, 1, 1, 1, 1, 0,\n",
       "       0, 0, 1, 0, 1, 1, 0, 1, 1, 1, 1, 1, 1, 0, 1, 1, 0, 1, 1, 0, 1, 0,\n",
       "       0, 1, 0, 0, 1, 1, 0, 1, 0, 1, 0, 0, 1, 0, 1, 1, 1])"
      ]
     },
     "execution_count": 13,
     "metadata": {},
     "output_type": "execute_result"
    }
   ],
   "source": [
    "# Print out the predicted labels\n",
    "clf.predict(X_test)"
   ]
  },
  {
   "cell_type": "markdown",
   "metadata": {
    "id": "2ErWdThvh4Ea"
   },
   "source": [
    "But, the model actually calculates a probability that given a particular value of X, the person is lying down. We can print out the predicted probabilities with the following line of code. You can read more about the [`LogisticRegression()` function](https://scikit-learn.org/stable/modules/generated/sklearn.linear_model.LogisticRegression.html), its attributes, and related functions on the `scikit-learn` website."
   ]
  },
  {
   "cell_type": "code",
   "execution_count": 14,
   "metadata": {},
   "outputs": [
    {
     "data": {
      "text/plain": [
       "array([[9.76830914e-01, 2.31690858e-02],\n",
       "       [2.48835691e-03, 9.97511643e-01],\n",
       "       [9.89571940e-01, 1.04280601e-02],\n",
       "       [9.98943302e-01, 1.05669826e-03],\n",
       "       [2.18734630e-04, 9.99781265e-01],\n",
       "       [9.89571940e-01, 1.04280601e-02],\n",
       "       [9.95339911e-01, 4.66008916e-03],\n",
       "       [4.26601781e-03, 9.95733982e-01],\n",
       "       [2.76555093e-02, 9.72344491e-01],\n",
       "       [9.76830914e-01, 2.31690858e-02],\n",
       "       [2.17434439e-03, 9.97825656e-01],\n",
       "       [9.86378959e-01, 1.36210414e-02],\n",
       "       [9.65638604e-01, 3.43613958e-02],\n",
       "       [4.26601781e-03, 9.95733982e-01],\n",
       "       [1.10710279e-03, 9.98892897e-01],\n",
       "       [9.42407396e-01, 5.75926041e-02],\n",
       "       [5.22700289e-01, 4.77299711e-01],\n",
       "       [9.93902149e-01, 6.09785081e-03],\n",
       "       [1.26718161e-03, 9.98732818e-01],\n",
       "       [7.30419716e-03, 9.92695803e-01],\n",
       "       [9.60859944e-01, 3.91400562e-02],\n",
       "       [6.82863097e-02, 9.31713690e-01],\n",
       "       [3.59359305e-02, 9.64064069e-01],\n",
       "       [9.84436385e-01, 1.55636152e-02],\n",
       "       [1.62913155e-02, 9.83708684e-01],\n",
       "       [9.88080619e-01, 1.19193813e-02],\n",
       "       [2.44890305e-01, 7.55109695e-01],\n",
       "       [1.25941459e-01, 8.74058541e-01],\n",
       "       [9.65638604e-01, 3.43613958e-02],\n",
       "       [8.35351954e-03, 9.91646480e-01],\n",
       "       [9.82223819e-01, 1.77761812e-02],\n",
       "       [9.88080619e-01, 1.19193813e-02],\n",
       "       [2.84760215e-03, 9.97152398e-01],\n",
       "       [9.73566166e-01, 2.64338338e-02],\n",
       "       [1.10710279e-03, 9.98892897e-01],\n",
       "       [9.88080619e-01, 1.19193813e-02],\n",
       "       [6.82863097e-02, 9.31713690e-01],\n",
       "       [4.88062050e-03, 9.95119380e-01],\n",
       "       [9.90631619e-02, 9.00936838e-01],\n",
       "       [7.74047414e-02, 9.22595259e-01],\n",
       "       [9.16015786e-01, 8.39842140e-02],\n",
       "       [3.75596257e-04, 9.99624404e-01],\n",
       "       [9.88080619e-01, 1.19193813e-02],\n",
       "       [1.98369275e-01, 8.01630725e-01],\n",
       "       [9.94669026e-01, 5.33097419e-03],\n",
       "       [9.86378959e-01, 1.36210414e-02],\n",
       "       [9.69855580e-01, 3.01444198e-02],\n",
       "       [9.96440307e-01, 3.55969345e-03],\n",
       "       [9.95927191e-01, 4.07280935e-03],\n",
       "       [9.88080619e-01, 1.19193813e-02],\n",
       "       [1.10710279e-03, 9.98892897e-01],\n",
       "       [9.34616713e-01, 6.53832873e-02],\n",
       "       [9.95927191e-01, 4.07280935e-03],\n",
       "       [1.10710279e-03, 9.98892897e-01],\n",
       "       [9.90879458e-01, 9.12054235e-03],\n",
       "       [4.65768573e-02, 9.53423143e-01],\n",
       "       [9.98790260e-01, 1.20973962e-03],\n",
       "       [1.09183030e-02, 9.89081697e-01],\n",
       "       [9.34616713e-01, 6.53832873e-02],\n",
       "       [4.94344340e-05, 9.99950566e-01],\n",
       "       [9.96440307e-01, 3.55969345e-03],\n",
       "       [9.95339911e-01, 4.66008916e-03],\n",
       "       [9.05014875e-01, 9.49851253e-02],\n",
       "       [2.86648412e-04, 9.99713352e-01],\n",
       "       [9.93902149e-01, 6.09785081e-03],\n",
       "       [9.97281254e-01, 2.71874584e-03],\n",
       "       [1.26718161e-03, 9.98732818e-01],\n",
       "       [7.30419716e-03, 9.92695803e-01],\n",
       "       [9.79703194e-01, 2.02968065e-02],\n",
       "       [9.95339911e-01, 4.66008916e-03],\n",
       "       [7.30419716e-03, 9.92695803e-01],\n",
       "       [9.95339911e-01, 4.66008916e-03],\n",
       "       [9.96440307e-01, 3.55969345e-03],\n",
       "       [9.99193796e-01, 8.06204052e-04],\n",
       "       [9.82223819e-01, 1.77761812e-02],\n",
       "       [9.42407396e-01, 5.75926041e-02],\n",
       "       [1.62913155e-02, 9.83708684e-01],\n",
       "       [1.26718161e-03, 9.98732818e-01],\n",
       "       [9.42407396e-01, 5.75926041e-02],\n",
       "       [7.87141414e-01, 2.12858586e-01],\n",
       "       [9.84436385e-01, 1.55636152e-02],\n",
       "       [2.12434872e-02, 9.78756513e-01],\n",
       "       [1.66000368e-03, 9.98339996e-01],\n",
       "       [8.92741706e-01, 1.07258294e-01],\n",
       "       [4.65768573e-02, 9.53423143e-01],\n",
       "       [9.93024913e-01, 6.97508694e-03],\n",
       "       [2.48835691e-03, 9.97511643e-01],\n",
       "       [7.38212894e-04, 9.99261787e-01],\n",
       "       [3.28123021e-04, 9.99671877e-01],\n",
       "       [9.89571940e-01, 1.04280601e-02],\n",
       "       [3.72852031e-03, 9.96271480e-01],\n",
       "       [9.84436385e-01, 1.55636152e-02],\n",
       "       [1.66000368e-03, 9.98339996e-01],\n",
       "       [1.10710279e-03, 9.98892897e-01],\n",
       "       [1.24788499e-02, 9.87521150e-01],\n",
       "       [6.82863097e-02, 9.31713690e-01],\n",
       "       [5.29611569e-02, 9.47038843e-01],\n",
       "       [9.73566166e-01, 2.64338338e-02],\n",
       "       [2.44890305e-01, 7.55109695e-01],\n",
       "       [4.29985629e-04, 9.99570014e-01],\n",
       "       [9.95339911e-01, 4.66008916e-03],\n",
       "       [9.60859944e-01, 3.91400562e-02],\n",
       "       [1.77746347e-01, 8.22253653e-01],\n",
       "       [8.44998102e-04, 9.99155002e-01],\n",
       "       [6.01653312e-02, 9.39834669e-01],\n",
       "       [6.01653312e-02, 9.39834669e-01],\n",
       "       [1.45037303e-03, 9.98549627e-01],\n",
       "       [1.42608845e-02, 9.85739116e-01],\n",
       "       [6.38650842e-03, 9.93613492e-01],\n",
       "       [9.90879458e-01, 9.12054235e-03],\n",
       "       [9.93024913e-01, 6.97508694e-03],\n",
       "       [9.88080619e-01, 1.19193813e-02],\n",
       "       [2.86648412e-04, 9.99713352e-01],\n",
       "       [9.93024913e-01, 6.97508694e-03],\n",
       "       [3.28123021e-04, 9.99671877e-01],\n",
       "       [4.26601781e-03, 9.95733982e-01],\n",
       "       [9.55447374e-01, 4.45526259e-02],\n",
       "       [4.09242823e-02, 9.59075718e-01],\n",
       "       [6.47864813e-05, 9.99935214e-01],\n",
       "       [4.29985629e-04, 9.99570014e-01],\n",
       "       [1.98369275e-01, 8.01630725e-01],\n",
       "       [1.86053782e-02, 9.81394622e-01],\n",
       "       [4.55219940e-01, 5.44780060e-01],\n",
       "       [9.86378959e-01, 1.36210414e-02],\n",
       "       [2.17434439e-03, 9.97825656e-01],\n",
       "       [6.38650842e-03, 9.93613492e-01],\n",
       "       [9.86378959e-01, 1.36210414e-02],\n",
       "       [2.18734630e-04, 9.99781265e-01],\n",
       "       [8.44998102e-04, 9.99155002e-01],\n",
       "       [9.65638604e-01, 3.43613958e-02],\n",
       "       [3.15356268e-02, 9.68464373e-01],\n",
       "       [9.93024913e-01, 6.97508694e-03],\n",
       "       [9.84436385e-01, 1.55636152e-02],\n",
       "       [2.42436339e-02, 9.75756366e-01],\n",
       "       [9.79703194e-01, 2.02968065e-02],\n",
       "       [9.42407396e-01, 5.75926041e-02],\n",
       "       [7.30419716e-03, 9.92695803e-01],\n",
       "       [5.29611569e-02, 9.47038843e-01],\n",
       "       [9.89571940e-01, 1.04280601e-02],\n",
       "       [6.44875833e-04, 9.99355124e-01],\n",
       "       [9.86378959e-01, 1.36210414e-02],\n",
       "       [1.24788499e-02, 9.87521150e-01],\n",
       "       [9.79703194e-01, 2.02968065e-02],\n",
       "       [9.25855080e-01, 7.41449201e-02],\n",
       "       [1.42608845e-02, 9.85739116e-01],\n",
       "       [9.97624742e-01, 2.37525758e-03],\n",
       "       [2.12434872e-02, 9.78756513e-01],\n",
       "       [1.26718161e-03, 9.98732818e-01],\n",
       "       [2.48835691e-03, 9.97511643e-01]])"
      ]
     },
     "execution_count": 14,
     "metadata": {},
     "output_type": "execute_result"
    }
   ],
   "source": [
    "clf.predict_proba(X_test)"
   ]
  },
  {
   "cell_type": "code",
   "execution_count": 15,
   "metadata": {
    "colab": {
     "base_uri": "https://localhost:8080/"
    },
    "executionInfo": {
     "elapsed": 209,
     "status": "ok",
     "timestamp": 1660316066497,
     "user": {
      "displayName": "Rebecca Weng",
      "userId": "08002348150894593460"
     },
     "user_tz": 240
    },
    "id": "mAF_vjFKWPlU",
    "outputId": "a23d4d69-8203-435a-a9a1-439b774c453c"
   },
   "outputs": [
    {
     "data": {
      "text/plain": [
       "array([2.31690858e-02, 9.97511643e-01, 1.04280601e-02, 1.05669826e-03,\n",
       "       9.99781265e-01, 1.04280601e-02, 4.66008916e-03, 9.95733982e-01,\n",
       "       9.72344491e-01, 2.31690858e-02, 9.97825656e-01, 1.36210414e-02,\n",
       "       3.43613958e-02, 9.95733982e-01, 9.98892897e-01, 5.75926041e-02,\n",
       "       4.77299711e-01, 6.09785081e-03, 9.98732818e-01, 9.92695803e-01,\n",
       "       3.91400562e-02, 9.31713690e-01, 9.64064069e-01, 1.55636152e-02,\n",
       "       9.83708684e-01, 1.19193813e-02, 7.55109695e-01, 8.74058541e-01,\n",
       "       3.43613958e-02, 9.91646480e-01, 1.77761812e-02, 1.19193813e-02,\n",
       "       9.97152398e-01, 2.64338338e-02, 9.98892897e-01, 1.19193813e-02,\n",
       "       9.31713690e-01, 9.95119380e-01, 9.00936838e-01, 9.22595259e-01,\n",
       "       8.39842140e-02, 9.99624404e-01, 1.19193813e-02, 8.01630725e-01,\n",
       "       5.33097419e-03, 1.36210414e-02, 3.01444198e-02, 3.55969345e-03,\n",
       "       4.07280935e-03, 1.19193813e-02, 9.98892897e-01, 6.53832873e-02,\n",
       "       4.07280935e-03, 9.98892897e-01, 9.12054235e-03, 9.53423143e-01,\n",
       "       1.20973962e-03, 9.89081697e-01, 6.53832873e-02, 9.99950566e-01,\n",
       "       3.55969345e-03, 4.66008916e-03, 9.49851253e-02, 9.99713352e-01,\n",
       "       6.09785081e-03, 2.71874584e-03, 9.98732818e-01, 9.92695803e-01,\n",
       "       2.02968065e-02, 4.66008916e-03, 9.92695803e-01, 4.66008916e-03,\n",
       "       3.55969345e-03, 8.06204052e-04, 1.77761812e-02, 5.75926041e-02,\n",
       "       9.83708684e-01, 9.98732818e-01, 5.75926041e-02, 2.12858586e-01,\n",
       "       1.55636152e-02, 9.78756513e-01, 9.98339996e-01, 1.07258294e-01,\n",
       "       9.53423143e-01, 6.97508694e-03, 9.97511643e-01, 9.99261787e-01,\n",
       "       9.99671877e-01, 1.04280601e-02, 9.96271480e-01, 1.55636152e-02,\n",
       "       9.98339996e-01, 9.98892897e-01, 9.87521150e-01, 9.31713690e-01,\n",
       "       9.47038843e-01, 2.64338338e-02, 7.55109695e-01, 9.99570014e-01,\n",
       "       4.66008916e-03, 3.91400562e-02, 8.22253653e-01, 9.99155002e-01,\n",
       "       9.39834669e-01, 9.39834669e-01, 9.98549627e-01, 9.85739116e-01,\n",
       "       9.93613492e-01, 9.12054235e-03, 6.97508694e-03, 1.19193813e-02,\n",
       "       9.99713352e-01, 6.97508694e-03, 9.99671877e-01, 9.95733982e-01,\n",
       "       4.45526259e-02, 9.59075718e-01, 9.99935214e-01, 9.99570014e-01,\n",
       "       8.01630725e-01, 9.81394622e-01, 5.44780060e-01, 1.36210414e-02,\n",
       "       9.97825656e-01, 9.93613492e-01, 1.36210414e-02, 9.99781265e-01,\n",
       "       9.99155002e-01, 3.43613958e-02, 9.68464373e-01, 6.97508694e-03,\n",
       "       1.55636152e-02, 9.75756366e-01, 2.02968065e-02, 5.75926041e-02,\n",
       "       9.92695803e-01, 9.47038843e-01, 1.04280601e-02, 9.99355124e-01,\n",
       "       1.36210414e-02, 9.87521150e-01, 2.02968065e-02, 7.41449201e-02,\n",
       "       9.85739116e-01, 2.37525758e-03, 9.78756513e-01, 9.98732818e-01,\n",
       "       9.97511643e-01])"
      ]
     },
     "execution_count": 15,
     "metadata": {},
     "output_type": "execute_result"
    }
   ],
   "source": [
    "# Print out the predicted probabilities\n",
    "clf.predict_proba(X_test)[::,-1]"
   ]
  },
  {
   "cell_type": "markdown",
   "metadata": {
    "id": "CbBcvfOrWg5P"
   },
   "source": [
    "## Create confusion matrix\n",
    "\n"
   ]
  },
  {
   "cell_type": "markdown",
   "metadata": {
    "id": "6t3-mGl6iOy_"
   },
   "source": [
    "To finish this part of the course, we'll create a confusion matrix. Recall the following definition:\n",
    "\n",
    "* **Confusion matrix:** A graphical representation of how accurate a classifier is at predicting the labels for a categorical variable.\n",
    "\n",
    "To create a confusion matrix, we'll use the [`confusion_matrix()`](https://scikit-learn.org/stable/modules/generated/sklearn.metrics.confusion_matrix.html?highlight=confusion_matrix#sklearn.metrics.confusion_matrix) function from the `metrics` module of `scikit-learn`. To use the function, we'll need to input the following:\n",
    "* Actual labels of the holdout sample, stored as `y_test`\n",
    "* Predicted labels of the holdout sample, stored as `y_pred`\n",
    "* The names of the labels, which you can access using `clf.classes_`\n",
    "\n",
    "**Note:** If there were more classes, we would have more numbers or labels in `clf.classes_`. Since this is a binomial logistic regression, there are only two labels, 0 and 1."
   ]
  },
  {
   "cell_type": "code",
   "execution_count": 16,
   "metadata": {
    "id": "ae1-P7RoWRUg"
   },
   "outputs": [],
   "source": [
    "# Import the metrics module from scikit-learn\n",
    "import sklearn.metrics as metrics"
   ]
  },
  {
   "cell_type": "code",
   "execution_count": 17,
   "metadata": {
    "id": "eeDOYJiPWoon"
   },
   "outputs": [],
   "source": [
    "# Calculate the values for each quadrant in the confusion matrix\n",
    "cm = metrics.confusion_matrix(y_test, y_pred, labels = clf.classes_)"
   ]
  },
  {
   "cell_type": "code",
   "execution_count": 18,
   "metadata": {
    "id": "Q4lyzC1lWqam"
   },
   "outputs": [],
   "source": [
    "# Create the confusion matrix as a visualization\n",
    "disp = metrics.ConfusionMatrixDisplay(confusion_matrix = cm,display_labels = clf.classes_)"
   ]
  },
  {
   "cell_type": "markdown",
   "metadata": {
    "id": "nNhGHaC3kAYZ"
   },
   "source": [
    "In order to understand and interpret the numbers in the below confusion matrix, it is important to keep the following in mind:\n",
    "\n",
    "* The upper-left quadrant displays the number of **true negatives**.\n",
    "* The bottom-left quadrant displays the number of **false negatives**.\n",
    "* The upper-right quadrant displays the number of **false positives**.\n",
    "* The bottom-right quadrant displays the number of **true positives**.\n",
    "\n",
    "We can define the above bolded terms as follows in our given context:\n",
    "* **True negatives**: The number of people that were not lying down that the model accurately predicted were not lying down.\n",
    "* **False negatives**: The number of people that were lying down that the model inaccurately predicted were not lying down.\n",
    "* **False positives**: The number of people that were not lying down that the model inaccurately predicted were lying down.\n",
    "* **True positives**: The number of people that were lying down that the model accurately predicted were lying down.\n",
    "\n",
    "A perfect model would yield all true negatives and true positives, and no false negatives or false positives."
   ]
  },
  {
   "cell_type": "code",
   "execution_count": 19,
   "metadata": {
    "colab": {
     "base_uri": "https://localhost:8080/",
     "height": 297
    },
    "executionInfo": {
     "elapsed": 899,
     "status": "ok",
     "timestamp": 1660316134878,
     "user": {
      "displayName": "Rebecca Weng",
      "userId": "08002348150894593460"
     },
     "user_tz": 240
    },
    "id": "ir21gQNgWvG_",
    "outputId": "ebfc6f88-42e3-43dc-d4a7-3a10bb9c2556"
   },
   "outputs": [
    {
     "data": {
      "text/plain": [
       "<sklearn.metrics._plot.confusion_matrix.ConfusionMatrixDisplay at 0x1c492273a10>"
      ]
     },
     "execution_count": 19,
     "metadata": {},
     "output_type": "execute_result"
    },
    {
     "data": {
      "image/png": "[encoded data removed]",
      "text/plain": [
       "<Figure size 640x480 with 2 Axes>"
      ]
     },
     "metadata": {},
     "output_type": "display_data"
    }
   ],
   "source": [
    "# Display the confusion matrix\n",
    "disp.plot()"
   ]
  },
  {
   "cell_type": "markdown",
   "metadata": {
    "id": "4gPq6bvR9C8x"
   },
   "source": [
    "**Congratulations!** You've completed this lab. However, you may not notice a green check mark next to this item on Coursera's platform. Please continue your progress regardless of the check mark. Just click on the \"save\" icon at the top of this notebook to ensure your work has been logged.\n",
    "\n",
    "You now understand how to build and evaluate a binomial logistic regression model with Python. Going forward, you can start using binomial logistic regression models with your own datasets."
   ]
  },
  {
   "cell_type": "markdown",
   "metadata": {},
   "source": [
    "# Common logistic regression metrics in Python"
   ]
  },
  {
   "cell_type": "code",
   "execution_count": 20,
   "metadata": {},
   "outputs": [],
   "source": [
    "import sklearn.metrics as metrics"
   ]
  },
  {
   "cell_type": "markdown",
   "metadata": {},
   "source": [
    "## Precision \n"
   ]
  },
  {
   "cell_type": "code",
   "execution_count": 21,
   "metadata": {},
   "outputs": [
    {
     "data": {
      "text/plain": [
       "0.9743589743589743"
      ]
     },
     "execution_count": 21,
     "metadata": {},
     "output_type": "execute_result"
    }
   ],
   "source": [
    "metrics.precision_score(y_test,y_pred)"
   ]
  },
  {
   "cell_type": "markdown",
   "metadata": {},
   "source": [
    "## Recall\n"
   ]
  },
  {
   "cell_type": "code",
   "execution_count": 23,
   "metadata": {},
   "outputs": [
    {
     "data": {
      "text/plain": [
       "0.987012987012987"
      ]
     },
     "execution_count": 23,
     "metadata": {},
     "output_type": "execute_result"
    }
   ],
   "source": [
    "metrics.recall_score(y_test,y_pred)"
   ]
  },
  {
   "cell_type": "markdown",
   "metadata": {},
   "source": [
    "## Accuracy\n"
   ]
  },
  {
   "cell_type": "code",
   "execution_count": 24,
   "metadata": {},
   "outputs": [
    {
     "data": {
      "text/plain": [
       "0.9798657718120806"
      ]
     },
     "execution_count": 24,
     "metadata": {},
     "output_type": "execute_result"
    }
   ],
   "source": [
    "metrics.accuracy_score(y_test,y_pred)"
   ]
  },
  {
   "cell_type": "code",
   "execution_count": 26,
   "metadata": {},
   "outputs": [],
   "source": [
    "import matplotlib.pyplot as plt\n",
    "from sklearn.metrics import RocCurveDisplay"
   ]
  },
  {
   "cell_type": "markdown",
   "metadata": {},
   "source": [
    "## ROC curves\n"
   ]
  },
  {
   "cell_type": "code",
   "execution_count": 27,
   "metadata": {},
   "outputs": [
    {
     "data": {
      "image/png": "[encoded data removed]",
      "text/plain": [
       "<Figure size 640x480 with 1 Axes>"
      ]
     },
     "metadata": {},
     "output_type": "display_data"
    }
   ],
   "source": [
    "RocCurveDisplay.from_predictions(y_test, y_pred)\n",
    "\n",
    "plt.show()"
   ]
  },
  {
   "cell_type": "markdown",
   "metadata": {},
   "source": [
    "AUC"
   ]
  },
  {
   "cell_type": "code",
   "execution_count": 28,
   "metadata": {},
   "outputs": [
    {
     "data": {
      "text/plain": [
       "np.float64(0.9796176046176045)"
      ]
     },
     "execution_count": 28,
     "metadata": {},
     "output_type": "execute_result"
    }
   ],
   "source": [
    "metrics.roc_auc_score(y_test,y_pred)"
   ]
  }
 ],
 "metadata": {
  "colab": {
   "provenance": [
    {
     "file_id": "1vEN8XK55WoroYhsABd6ZEtj0Q8qmDSuR",
     "timestamp": 1664216111974
    },
    {
     "file_id": "177TsWXl_cY54HcC2o50r0l6HQSEzezH1",
     "timestamp": 1660316667116
    },
    {
     "file_id": "1xL6yI27HIg16c-tY9Kkahbkbt23h3598",
     "timestamp": 1659977674619
    }
   ]
  },
  "kernelspec": {
   "display_name": ".venv",
   "language": "python",
   "name": "python3"
  },
  "language_info": {
   "codemirror_mode": {
    "name": "ipython",
    "version": 3
   },
   "file_extension": ".py",
   "mimetype": "text/x-python",
   "name": "python",
   "nbconvert_exporter": "python",
   "pygments_lexer": "ipython3",
   "version": "3.13.0"
  }
 },
 "nbformat": 4,
 "nbformat_minor": 1
}
